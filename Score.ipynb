{
 "metadata": {
  "name": "",
  "signature": "sha256:6481e462f36c084c2fd4dcf13ade2eb8ce0ab315376a67c791358f12638bb98f"
 },
 "nbformat": 3,
 "nbformat_minor": 0,
 "worksheets": [
  {
   "cells": [
    {
     "cell_type": "code",
     "collapsed": false,
     "input": [
      "import numpy as np\n",
      "import matplotlib.pyplot as plt\n",
      "import time\n",
      "%matplotlib inline\n",
      "\n",
      "# Make sure that caffe is on the python path:\n",
      "caffe_root = '/afs/ee.cooper.edu/user/t/a/tam8/documents/caffe/'  # this file is expected to be in {caffe_root}/examples\n",
      "import sys\n",
      "sys.path.insert(0, caffe_root + 'python')\n",
      "\n",
      "import caffe\n",
      "\n",
      "# Set the right path to your model definition file, pretrained model weights,\n",
      "# and the image you would like to classify.\n",
      "MODEL_FILE = './deploy.prototxt'\n",
      "PRETRAINED = './models/caffenet_train_iter_5000.caffemodel'\n",
      "MEAN_FILE = './data/ndsb_mean.npy'\n",
      "IMAGE_FILE = '/afs/ee.cooper.edu/user/t/a/tam8/data/ndsb/train/acantharia_protist/100224.jpg'\n",
      "TEST_FILE = './data/test0.txt'"
     ],
     "language": "python",
     "metadata": {},
     "outputs": [],
     "prompt_number": 27
    },
    {
     "cell_type": "code",
     "collapsed": false,
     "input": [
      "caffe.set_phase_test()\n",
      "caffe.set_mode_gpu()\n",
      "net = caffe.Classifier(MODEL_FILE, PRETRAINED,\n",
      "                       mean=np.load(MEAN_FILE),\n",
      "#                        channel_swap=(2,1,0),\n",
      "#                        raw_scale=255,\n",
      "                       image_dims=(64, 64))"
     ],
     "language": "python",
     "metadata": {},
     "outputs": [],
     "prompt_number": 28
    },
    {
     "cell_type": "code",
     "collapsed": false,
     "input": [
      "# Loading validation paths and labels\n",
      "test_doc = np.genfromtxt(TEST_FILE,dtype='str')\n",
      "test_files = test_doc[:, 0]\n",
      "test_labels = test_doc[:, 1].astype(int)"
     ],
     "language": "python",
     "metadata": {},
     "outputs": [],
     "prompt_number": 29
    },
    {
     "cell_type": "code",
     "collapsed": false,
     "input": [
      "images = [caffe.io.load_image(im_path, color=False) for im_path in test_files]"
     ],
     "language": "python",
     "metadata": {},
     "outputs": [],
     "prompt_number": 34
    },
    {
     "cell_type": "code",
     "collapsed": false,
     "input": [
      "# %%time\n",
      "n = 300\n",
      "im = caffe.io.load_image(test_files[n], color=False)\n",
      "print im.shape\n",
      "prediction = net.predict([im])\n",
      "print 'prediction shape:', prediction[0].shape\n",
      "plt.plot(prediction[0])\n",
      "print 'predicted class:', prediction[0].argmax()\n",
      "test_labels[n]\n",
      "print 'logloss:', -np.log(prediction[0][test_labels[n]])\\"
     ],
     "language": "python",
     "metadata": {},
     "outputs": [
      {
       "output_type": "stream",
       "stream": "stdout",
       "text": [
        "(43, 42, 1)\n",
        "prediction shape:"
       ]
      },
      {
       "output_type": "stream",
       "stream": "stdout",
       "text": [
        " (121,)\n",
        "predicted class:"
       ]
      },
      {
       "output_type": "stream",
       "stream": "stdout",
       "text": [
        " 110\n",
        "logloss: 3.77227\n"
       ]
      },
      {
       "metadata": {},
       "output_type": "display_data",
       "png": "[encoded data removed]",
       "text": [
        "<matplotlib.figure.Figure at 0x7f994c7cd590>"
       ]
      }
     ],
     "prompt_number": 32
    },
    {
     "cell_type": "code",
     "collapsed": false,
     "input": [
      "start = time.time()\n",
      "prediction = net.predict(images)\n",
      "print \"Done in %.2f s.\" % (time.time() - start)"
     ],
     "language": "python",
     "metadata": {},
     "outputs": [
      {
       "output_type": "stream",
       "stream": "stdout",
       "text": [
        "Done in 486.46 s.\n"
       ]
      }
     ],
     "prompt_number": 35
    },
    {
     "cell_type": "code",
     "collapsed": false,
     "input": [
      "ll = -np.mean(np.log(prediction[range(len(test_labels)), test_labels]))\n",
      "print 'Log loss:', ll"
     ],
     "language": "python",
     "metadata": {},
     "outputs": [
      {
       "output_type": "stream",
       "stream": "stdout",
       "text": [
        "Log loss: 4.17032\n"
       ]
      }
     ],
     "prompt_number": 36
    }
   ],
   "metadata": {}
  }
 ]
}