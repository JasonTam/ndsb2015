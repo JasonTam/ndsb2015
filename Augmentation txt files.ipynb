{
 "metadata": {
  "name": "",
  "signature": "sha256:60a28f97d9c161b6745453c6c1e8444717bc63c74f1eb543ca7d743266dacaad"
 },
 "nbformat": 3,
 "nbformat_minor": 0,
 "worksheets": [
  {
   "cells": [
    {
     "cell_type": "code",
     "collapsed": false,
     "input": [
      "# Augmented training data\n",
      "# Just augment the folds\n",
      "import numpy as np\n",
      "import os\n",
      "\n",
      "# for mode in ['test', 'train']:\n",
      "for mode in ['test']:\n",
      "    for n in range(5):\n",
      "        # text_file = 'test0.txt'\n",
      "        text_file = mode + str(n) + '.txt'\n",
      "        print 'Converting:', text_file\n",
      "        \n",
      "        f_path = os.path.join('./data', text_file)\n",
      "        aug_train_path = '../../data/ndsb/augment/train'\n",
      "#         save_path = os.path.join('./data/augmented', text_file)\n",
      "        save_path = os.path.join('./data/augmented', 'unlabeled' + text_file)\n",
      "        angs = range(45, 360, 45) \n",
      "        suffixes = np.array(['_rot' + str(ang) for ang in angs])\n",
      "\n",
      "        arr = np.loadtxt(f_path, dtype=str, delimiter='\\t')\n",
      "\n",
      "        # Could do some weird thing with meshgrid, but I am too tired\n",
      "        with open(save_path, 'wb') as f_save:\n",
      "            for ii, (entry, label) in enumerate(arr):\n",
      "                d, b = os.path.split(entry)\n",
      "                l_str = os.path.basename(d)\n",
      "                b = os.path.splitext(b)[0]\n",
      "                for suf in suffixes:\n",
      "                    new_path = os.path.abspath(os.path.join(aug_train_path, l_str, b + suf + '.jpg'))\n",
      "#                     line = new_path + '\\t' + label + '\\n'\n",
      "                    line = new_path + '\\t' + '-1' + '\\n'\n",
      "                    f_save.write(line)\n",
      "\n",
      "                if (ii%1000 == 0):\n",
      "                    print ii, 'written'\n",
      "\n"
     ],
     "language": "python",
     "metadata": {},
     "outputs": [
      {
       "output_type": "stream",
       "stream": "stdout",
       "text": [
        "Converting: test0.txt\n",
        "0 written\n",
        "1000"
       ]
      },
      {
       "output_type": "stream",
       "stream": "stdout",
       "text": [
        " written\n",
        "2000"
       ]
      },
      {
       "output_type": "stream",
       "stream": "stdout",
       "text": [
        " written\n",
        "3000"
       ]
      },
      {
       "output_type": "stream",
       "stream": "stdout",
       "text": [
        " written\n",
        "4000"
       ]
      },
      {
       "output_type": "stream",
       "stream": "stdout",
       "text": [
        " written\n",
        "5000"
       ]
      },
      {
       "output_type": "stream",
       "stream": "stdout",
       "text": [
        " written\n",
        "6000"
       ]
      },
      {
       "output_type": "stream",
       "stream": "stdout",
       "text": [
        " written\n",
        "Converting:"
       ]
      },
      {
       "output_type": "stream",
       "stream": "stdout",
       "text": [
        " test1.txt\n",
        "0"
       ]
      },
      {
       "output_type": "stream",
       "stream": "stdout",
       "text": [
        " written\n",
        "1000"
       ]
      },
      {
       "output_type": "stream",
       "stream": "stdout",
       "text": [
        " written\n",
        "2000"
       ]
      },
      {
       "output_type": "stream",
       "stream": "stdout",
       "text": [
        " written\n",
        "3000"
       ]
      },
      {
       "output_type": "stream",
       "stream": "stdout",
       "text": [
        " written\n",
        "4000"
       ]
      },
      {
       "output_type": "stream",
       "stream": "stdout",
       "text": [
        " written\n",
        "5000"
       ]
      },
      {
       "output_type": "stream",
       "stream": "stdout",
       "text": [
        " written\n",
        "6000"
       ]
      },
      {
       "output_type": "stream",
       "stream": "stdout",
       "text": [
        " written\n",
        "Converting:"
       ]
      },
      {
       "output_type": "stream",
       "stream": "stdout",
       "text": [
        " test2.txt\n",
        "0 written\n",
        "1000"
       ]
      },
      {
       "output_type": "stream",
       "stream": "stdout",
       "text": [
        " written\n",
        "2000"
       ]
      },
      {
       "output_type": "stream",
       "stream": "stdout",
       "text": [
        " written\n",
        "3000"
       ]
      },
      {
       "output_type": "stream",
       "stream": "stdout",
       "text": [
        " written\n",
        "4000"
       ]
      },
      {
       "output_type": "stream",
       "stream": "stdout",
       "text": [
        " written\n",
        "5000"
       ]
      },
      {
       "output_type": "stream",
       "stream": "stdout",
       "text": [
        " written\n",
        "6000"
       ]
      },
      {
       "output_type": "stream",
       "stream": "stdout",
       "text": [
        " written\n",
        "Converting:"
       ]
      },
      {
       "output_type": "stream",
       "stream": "stdout",
       "text": [
        " test3.txt\n",
        "0 written\n",
        "1000"
       ]
      },
      {
       "output_type": "stream",
       "stream": "stdout",
       "text": [
        " written\n",
        "2000"
       ]
      },
      {
       "output_type": "stream",
       "stream": "stdout",
       "text": [
        " written\n",
        "3000"
       ]
      },
      {
       "output_type": "stream",
       "stream": "stdout",
       "text": [
        " written\n",
        "4000"
       ]
      },
      {
       "output_type": "stream",
       "stream": "stdout",
       "text": [
        " written\n",
        "5000"
       ]
      },
      {
       "output_type": "stream",
       "stream": "stdout",
       "text": [
        " written\n",
        "6000"
       ]
      },
      {
       "output_type": "stream",
       "stream": "stdout",
       "text": [
        " written\n",
        "Converting:"
       ]
      },
      {
       "output_type": "stream",
       "stream": "stdout",
       "text": [
        " test4.txt\n",
        "0 written\n",
        "1000"
       ]
      },
      {
       "output_type": "stream",
       "stream": "stdout",
       "text": [
        " written\n",
        "2000"
       ]
      },
      {
       "output_type": "stream",
       "stream": "stdout",
       "text": [
        " written\n",
        "3000"
       ]
      },
      {
       "output_type": "stream",
       "stream": "stdout",
       "text": [
        " written\n",
        "4000"
       ]
      },
      {
       "output_type": "stream",
       "stream": "stdout",
       "text": [
        " written\n",
        "5000"
       ]
      },
      {
       "output_type": "stream",
       "stream": "stdout",
       "text": [
        " written\n",
        "6000"
       ]
      },
      {
       "output_type": "stream",
       "stream": "stdout",
       "text": [
        " written\n"
       ]
      }
     ],
     "prompt_number": 45
    },
    {
     "cell_type": "code",
     "collapsed": false,
     "input": [
      "os.path.basename(d)"
     ],
     "language": "python",
     "metadata": {},
     "outputs": [
      {
       "metadata": {},
       "output_type": "pyout",
       "prompt_number": 39,
       "text": [
        "'unknown_unclassified'"
       ]
      }
     ],
     "prompt_number": 39
    }
   ],
   "metadata": {}
  }
 ]
}