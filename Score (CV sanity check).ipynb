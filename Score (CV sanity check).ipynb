{
 "metadata": {
  "name": "",
  "signature": "sha256:24db261e65e9054316a92ecf329eb4600b12753e172c79ad28ec6d9ce7eb2c20"
 },
 "nbformat": 3,
 "nbformat_minor": 0,
 "worksheets": [
  {
   "cells": [
    {
     "cell_type": "markdown",
     "metadata": {},
     "source": [
      "- nonlinear embedding\n",
      "- autoencode the nonlabeled\n",
      "- assume label of highest prob on unlabeled and retrain network\n",
      "- perform network surgery (weights learned from unsupervised and then fine tuen with supervised)\n",
      "- or just use\n",
      "https://github.com/BVLC/caffe/tree/51be3523b8fe883d86600fbf3531b6ef7a6290fe/examples/finetune_flickr_style\n",
      "- also try hingeloss - as it would be anaolgous to using SVM\n",
      "\n",
      "- add morph features in fc layer\n",
      "- size/ bounding box features\n",
      "\n",
      "- feed features into labelspread\n",
      "- feature extraction is exemplified here:\n",
      " http://caffe.berkeleyvision.org/gathered/examples/feature_extraction.html\n",
      " \n",
      " \n",
      " 1. predict\n",
      " 2. take max as label\n",
      " 3. create guess.txt, cat guess0.txt ../data/train0.txt > ./guess_comb0.txt\n",
      "     - ./create_ndsb.sh\n",
      "     - randomize selection of guess data?? or select based on proba????\n",
      " 5. fine tune model to new db (or concatted db)\n",
      " 6. predict, repeat\n",
      " \n",
      "\n",
      "Find the problematic classes (low probs's - massive uncertainty), or high log loss for training data. Augment those particlar classes.\n",
      " \n",
      " \n",
      "t0 Log loss: 1.33067\n",
      " \n",
      " "
     ]
    },
    {
     "cell_type": "code",
     "collapsed": false,
     "input": [
      "import numpy as np\n",
      "import matplotlib.pyplot as plt\n",
      "import time\n",
      "import tools.my_io as my_io\n",
      "%matplotlib inline\n",
      "\n",
      "# Make sure that caffe is on the python path:\n",
      "# caffe_root = '/afs/ee.cooper.edu/user/t/a/tam8/documents/caffe/'  # this file is expected to be in {caffe_root}/examples\n",
      "# import sys\n",
      "# sys.path.insert(0, caffe_root + 'python')\n",
      "\n",
      "import caffe\n",
      "\n",
      "# Set the right path to your model definition file, pretrained model weights,\n",
      "# and the image you would like to classify.\n",
      "MODEL_FILE = './deploy_vanilla.prototxt'\n",
      "PRETRAINED = './models/vanilla/vanilla_iter_20000.caffemodel'\n",
      "MEAN_FILE = './data/augmented/all_aug_mean.npy'\n",
      "IMAGE_FILE = '/afs/ee.cooper.edu/user/t/a/tam8/data/ndsb/train/acantharia_protist/100224.jpg'\n",
      "# TEST_FILE = './data/test0.txt'\n",
      "VALIDATION_DB = './data/64x64/ndsb_test_lmdb'"
     ],
     "language": "python",
     "metadata": {},
     "outputs": [],
     "prompt_number": 109
    },
    {
     "cell_type": "code",
     "collapsed": false,
     "input": [
      "# Loading From Database\n",
      "print 'Loading data...'\n",
      "tic = time.time()\n",
      "data = my_io.load_lmdb(VALIDATION_DB)\n",
      "print \"Done in %.2f s.\" % (time.time() - tic)\n",
      "\n",
      "val_files_all, images, labels = zip(*data)\n",
      "test_labels = labels"
     ],
     "language": "python",
     "metadata": {},
     "outputs": [
      {
       "output_type": "stream",
       "stream": "stdout",
       "text": [
        "Loading data...\n",
        "Done in 0.70 s."
       ]
      },
      {
       "output_type": "stream",
       "stream": "stdout",
       "text": [
        "\n"
       ]
      }
     ],
     "prompt_number": 110
    },
    {
     "cell_type": "code",
     "collapsed": false,
     "input": [
      "# Grab 1 image from file\n",
      "input_image = caffe.io.load_image(IMAGE_FILE, color=False)"
     ],
     "language": "python",
     "metadata": {},
     "outputs": [],
     "prompt_number": 52
    },
    {
     "cell_type": "code",
     "collapsed": false,
     "input": [
      "image_dims = images[0].shape[:2]\n",
      "# image_dims = (57, 57)\n",
      "print image_dims\n",
      "net = caffe.Classifier(MODEL_FILE, PRETRAINED,\n",
      "                       mean=np.load(MEAN_FILE),\n",
      "                       raw_scale=1.0,    # 255 if load from caffe.io, 1.0 if load from my_io lmdb\n",
      "                       image_dims=image_dims,\n",
      "                       gpu=True)\n",
      "caffe.set_phase_test()\n",
      "caffe.set_mode_gpu()"
     ],
     "language": "python",
     "metadata": {},
     "outputs": [
      {
       "output_type": "stream",
       "stream": "stdout",
       "text": [
        "(64, 64)\n"
       ]
      }
     ],
     "prompt_number": 114
    },
    {
     "cell_type": "code",
     "collapsed": false,
     "input": [
      "# %%time\n",
      "n = 0\n",
      "# im = caffe.io.load_image(test_files[n], color=False)\n",
      "im_path = val_files_all[n]\n",
      "# im_loaded = caffe.io.load_image(im_path, color=False)\n",
      "# im = images[n].astype(np.float32)/255.0\n",
      "# im = im_loaded\n",
      "im = images[n]\n",
      "print im.shape\n",
      "tic = time.time()\n",
      "prediction = net.predict([im])\n",
      "print \"Prediction in %.2f s.\" % (time.time() - tic)\n",
      "print 'prediction shape:', prediction[0].shape\n",
      "plt.plot(prediction[0])\n",
      "print 'predicted class:', prediction[0].argmax()\n",
      "print 'true class:', test_labels[n]\n",
      "test_labels[n]\n",
      "print 'logloss:', -np.log(prediction[0][test_labels[n]])\n",
      "plt.figure()\n",
      "plt.imshow(np.squeeze(im), interpolation='none', cmap='gray')"
     ],
     "language": "python",
     "metadata": {},
     "outputs": [
      {
       "output_type": "stream",
       "stream": "stdout",
       "text": [
        "(64, 64, 1)\n",
        "Prediction in 0.38 s."
       ]
      },
      {
       "output_type": "stream",
       "stream": "stdout",
       "text": [
        "\n",
        "prediction shape: (121,)\n",
        "predicted class:"
       ]
      },
      {
       "output_type": "stream",
       "stream": "stdout",
       "text": [
        " 11\n",
        "true class: 11\n",
        "logloss: 0.178012\n"
       ]
      },
      {
       "metadata": {},
       "output_type": "pyout",
       "prompt_number": 115,
       "text": [
        "<matplotlib.image.AxesImage at 0x7f6cc7ffdb90>"
       ]
      },
      {
       "metadata": {},
       "output_type": "display_data",
       "png": "[encoded data removed]",
       "text": [
        "<matplotlib.figure.Figure at 0x7f6ccdb84090>"
       ]
      },
      {
       "metadata": {},
       "output_type": "display_data",
       "png": "[encoded data removed]",
       "text": [
        "<matplotlib.figure.Figure at 0x7f6ccdb7af10>"
       ]
      }
     ],
     "prompt_number": 115
    },
    {
     "cell_type": "code",
     "collapsed": false,
     "input": [
      "start = time.time()\n",
      "prediction = net.predict(images)\n",
      "print \"Done in %.2f s.\" % (time.time() - start)"
     ],
     "language": "python",
     "metadata": {},
     "outputs": [
      {
       "output_type": "stream",
       "stream": "stdout",
       "text": [
        "Done in 99.10 s.\n"
       ]
      }
     ],
     "prompt_number": 116
    },
    {
     "cell_type": "code",
     "collapsed": false,
     "input": [
      "ll_ii = np.log(prediction[range(len(test_labels)), test_labels])\n",
      "ll = -np.mean(np.log(prediction[range(len(test_labels)), test_labels]))\n",
      "print 'Log loss:', ll"
     ],
     "language": "python",
     "metadata": {},
     "outputs": [
      {
       "output_type": "stream",
       "stream": "stdout",
       "text": [
        "Log loss: 1.76875\n"
       ]
      }
     ],
     "prompt_number": 117
    },
    {
     "cell_type": "code",
     "collapsed": false,
     "input": [
      "ll_bylabel = np.zeros(len(set(test_labels)))\n",
      "for l in set(test_labels):\n",
      "    ll_bylabel[l] = -np.mean(ll_ii[test_labels==l])\n",
      "print ll_bylabel\n",
      "print np.argmax(ll_bylabel), np.max(ll_bylabel)"
     ],
     "language": "python",
     "metadata": {},
     "outputs": [
      {
       "output_type": "stream",
       "stream": "stdout",
       "text": [
        "[ 0.49195185  4.02168751  1.35220587  5.11685848  4.96185112  0.99347305\n",
        "  1.2581749   2.90048003  0.05804228  0.02792308  1.06848741  1.17680955\n",
        "  1.31692636  1.25706398  1.25259018  2.2599144   0.73820078  2.55495811\n",
        "  1.04566789  0.75851446  1.867962    1.97368014  1.50064635  3.16782856\n",
        "  0.73278612  0.4229905   6.41248703  2.45949984  1.21430838  3.01863194\n",
        "  5.43070555  4.9303751   2.88300824  3.16688013  2.66645885  1.66259801\n",
        "  0.80126226  1.99520147  1.83274269  1.86115909  2.37238169  1.45146382\n",
        "  1.8560698   0.40234759  2.2145772   2.57994056  5.8913517   1.30874217\n",
        "  3.89270377  2.83789659  5.77370834  4.29601431  2.67967796  1.63563204\n",
        "  3.9849956   4.37761784  5.97368574  0.78037751  2.38251042  1.63212264\n",
        "  1.14264703  1.99227357  5.41210365  2.94503212  1.17472208  2.41938472\n",
        "  9.46146488  1.14560676  1.33783746  1.0989809   2.02074122  2.79155993\n",
        "  0.41718757  1.70335698  2.3948493   1.47695303  6.92178726  1.49768174\n",
        "  4.15186596  4.41667175  0.93724722  2.2768054   2.32325387  0.55832022\n",
        "  1.29376483  1.66668439  2.30266905  1.86598444  7.45346975  2.63077044\n",
        "  1.32749772  2.6483922   3.96542358  1.11067569  1.22398078  2.34758019\n",
        "  1.60582232  1.96973467  1.73888946  1.54630756  3.6857512   1.77520406\n",
        "  6.56305742  3.27077031  1.99974644  5.98972559  2.97120047  1.74842417\n",
        "  0.45652524  1.32783151  0.32330677  1.50704694  3.86258054  2.10078049\n",
        "  2.59399939  0.29093495  1.57140303  1.13238442  3.61403656  3.66763306\n",
        "  3.67494011]\n",
        "66 9.4614648819\n"
       ]
      }
     ],
     "prompt_number": 8
    },
    {
     "cell_type": "code",
     "collapsed": false,
     "input": [
      "guess = np.argmax(prediction, axis=1)\n",
      "guess_arr = np.c_[test_files, guess]\n",
      "# np.savetxt('./guess_labels/guess1.txt', guess_arr, fmt='%s', delimiter='\\t')\n",
      "\n"
     ],
     "language": "python",
     "metadata": {},
     "outputs": [],
     "prompt_number": 9
    },
    {
     "cell_type": "code",
     "collapsed": false,
     "input": [
      "from sklearn.metrics import confusion_matrix\n",
      "from sklearn.metrics import accuracy_score\n",
      "import tools.le as le\n",
      "conf_arr = confusion_matrix(test_labels, guess)\n",
      "acc = accuracy_score(test_labels, guess)\n",
      "print acc\n",
      "\n",
      "d = np.diagonal(conf_arr.copy())\n",
      "print np.sum(conf_arr)\n",
      "np.fill_diagonal(conf_arr, 0)\n",
      "\n",
      "\n",
      "pt = np.sum(conf_arr, axis=0)\n",
      "names = np.array(le.le.inverse_transform(range(121)))\n",
      "ind = pt.argsort()\n",
      "np.c_[pt[ind], d[ind], names[ind], np.arange(121)[ind]]\n"
     ],
     "language": "python",
     "metadata": {},
     "outputs": [
      {
       "output_type": "stream",
       "stream": "stdout",
       "text": [
        "0.598201144726\n",
        "6115\n"
       ]
      },
      {
       "metadata": {},
       "output_type": "pyout",
       "prompt_number": 74,
       "text": [
        "array([['0', '0', 'copepod_other', '26'],\n",
        "       ['0', '2', 'fish_larvae_leptocephali', '51'],\n",
        "       ['0', '0', 'hydromedusae_other', '66'],\n",
        "       ['0', '1', 'invertebrate_larvae_other_A', '78'],\n",
        "       ['0', '0', 'siphonophore_other_parts', '102'],\n",
        "       ['0', '0', 'hydromedusae_liriope', '62'],\n",
        "       ['0', '2', 'siphonophore_partial', '103'],\n",
        "       ['0', '0', 'invertebrate_larvae_other_B', '79'],\n",
        "       ['0', '1', 'hydromedusae_haliscera_small_sideview', '61'],\n",
        "       ['0', '1', 'ephyra', '46'],\n",
        "       ['0', '0', 'fish_larvae_very_thin_body', '55'],\n",
        "       ['0', '0', 'euphausiids_young', '48'],\n",
        "       ['0', '0', 'fish_larvae_deep_body', '50'],\n",
        "       ['0', '0', 'pteropod_theco_dev_seq', '88'],\n",
        "       ['0', '0', 'acantharia_protist_big_center', '1'],\n",
        "       ['0', '0', 'heteropod', '56'],\n",
        "       ['0', '0', 'siphonophore_physonect_young', '105'],\n",
        "       ['1', '1', 'hydromedusae_h15', '59'],\n",
        "       ['1', '5', 'echinopluteus', '45'],\n",
        "       ['1', '1', 'ctenophore_lobate', '31'],\n",
        "       ['1', '0', 'ctenophore_cydippid_tentacles', '30'],\n",
        "       ['1', '0', 'ctenophore_cydippid_no_tentacles', '29'],\n",
        "       ['1', '0', 'shrimp-like_other', '92'],\n",
        "       ['1', '9', 'protist_star', '86'],\n",
        "       ['1', '2', 'amphipods', '3'],\n",
        "       ['1', '0', 'appendicularian_fritillaridae', '4'],\n",
        "       ['1', '0', 'hydromedusae_typeE', '76'],\n",
        "       ['1', '4', 'pteropod_triangle', '89'],\n",
        "       ['2', '3', 'echinoderm_larva_pluteus_brittlestar', '38'],\n",
        "       ['2', '11', 'appendicularian_straight', '7'],\n",
        "       ['2', '4', 'tornaria_acorn_worm_larvae', '107'],\n",
        "       ['2', '0', 'trochophore_larvae', '112'],\n",
        "       ['3', '3', 'fish_larvae_thin_body', '54'],\n",
        "       ['3', '3', 'unknown_sticks', '119'],\n",
        "       ['3', '10', 'echinoderm_larva_pluteus_typeC', '40'],\n",
        "       ['3', '6', 'trichodesmium_multiple', '109'],\n",
        "       ['3', '4', 'hydromedusae_sideview_big', '71'],\n",
        "       ['3', '1', 'siphonophore_calycophoran_sphaeronectes_stem', '100'],\n",
        "       ['3', '10', 'chordate_type1', '13'],\n",
        "       ['3', '2', 'hydromedusae_narco_dark', '63'],\n",
        "       ['3', '1', 'stomatopod', '106'],\n",
        "       ['3', '3', 'hydromedusae_typeD', '74'],\n",
        "       ['5', '10', 'hydromedusae_typeD_bell_and_tentacles', '75'],\n",
        "       ['5', '9', 'fish_larvae_medium_body', '52'],\n",
        "       ['6', '3', 'copepod_cyclopoid_copilia', '23'],\n",
        "       ['6', '1', 'decapods', '32'],\n",
        "       ['6', '33', 'artifacts_edge', '9'],\n",
        "       ['6', '9', 'polychaete', '81'],\n",
        "       ['6', '7', 'hydromedusae_typeF', '77'],\n",
        "       ['6', '9', 'tunicate_salp_chains', '117'],\n",
        "       ['8', '2', 'copepod_calanoid_flatheads', '17'],\n",
        "       ['8', '81', 'diatom_chain_string', '36'],\n",
        "       ['9', '2', 'hydromedusae_bell_and_tentacles', '58'],\n",
        "       ['9', '37', 'echinoderm_larva_seastar_bipinnaria', '42'],\n",
        "       ['11', '8', 'shrimp_caridean', '93'],\n",
        "       ['11', '56', 'hydromedusae_shapeA', '68'],\n",
        "       ['11', '13', 'pteropod_butterfly', '87'],\n",
        "       ['12', '11', 'siphonophore_physonect', '104'],\n",
        "       ['12', '25', 'hydromedusae_partial_dark', '67'],\n",
        "       ['13', '30', 'tunicate_salp', '116'],\n",
        "       ['13', '12', 'copepod_calanoid_eucalanus', '16'],\n",
        "       ['13', '5', 'unknown_unclassified', '120'],\n",
        "       ['13', '8', 'echinoderm_seacucumber_auricularia_larva', '44'],\n",
        "       ['14', '20', 'siphonophore_calycophoran_sphaeronectes', '99'],\n",
        "       ['14', '9', 'copepod_calanoid_large_side_antennatucked', '20'],\n",
        "       ['14', '16', 'crustacean_other', '27'],\n",
        "       ['14', '9', 'echinoderm_larva_pluteus_early', '39'],\n",
        "       ['15', '45', 'diatom_chain_tube', '37'],\n",
        "       ['15', '17', 'ctenophore_cestid', '28'],\n",
        "       ['15', '11', 'echinoderm_larva_pluteus_urchin', '41'],\n",
        "       ['16', '9', 'acantharia_protist_halo', '2'],\n",
        "       ['16', '24', 'jellies_tentacles', '80'],\n",
        "       ['17', '16', 'hydromedusae_solmundella', '73'],\n",
        "       ['18', '18', 'hydromedusae_aglaura', '57'],\n",
        "       ['19', '5', 'copepod_calanoid_octomoms', '21'],\n",
        "       ['19', '14', 'siphonophore_calycophoran_rocketship_adult', '97'],\n",
        "       ['20', '18', 'fish_larvae_myctophids', '53'],\n",
        "       ['20', '4', 'hydromedusae_narcomedusae', '65'],\n",
        "       ['20', '11', 'copepod_calanoid_eggs', '15'],\n",
        "       ['20', '67', 'tunicate_partial', '115'],\n",
        "       ['20', '10', 'unknown_blobs_and_smudges', '118'],\n",
        "       ['20', '14', 'detritus_blob', '33'],\n",
        "       ['20', '25', 'fecal_pellet', '49'],\n",
        "       ['21', '7', 'copepod_calanoid_frillyAntennae', '18'],\n",
        "       ['21', '22', 'shrimp_sergestidae', '94'],\n",
        "       ['21', '33', 'radiolarian_chain', '90'],\n",
        "       ['22', '31', 'hydromedusae_haliscera', '60'],\n",
        "       ['22', '12', 'hydromedusae_shapeB', '70'],\n",
        "       ['23', '78', 'artifacts', '8'],\n",
        "       ['25', '68', 'protist_noctiluca', '84'],\n",
        "       ['25', '11', 'copepod_calanoid_small_longantennae', '22'],\n",
        "       ['26', '353', 'trichodesmium_puff', '110'],\n",
        "       ['26', '15', 'euphausiids', '47'],\n",
        "       ['28', '65', 'protist_fuzzy_olive', '83'],\n",
        "       ['29', '98', 'echinoderm_larva_seastar_brachiolaria', '43'],\n",
        "       ['30', '8', 'protist_dark_center', '82'],\n",
        "       ['37', '25', 'siphonophore_calycophoran_sphaeronectes_young', '101'],\n",
        "       ['38', '12', 'radiolarian_colony', '91'],\n",
        "       ['38', '24', 'siphonophore_calycophoran_abylidae', '96'],\n",
        "       ['38', '50', 'siphonophore_calycophoran_rocketship_young', '98'],\n",
        "       ['39', '15', 'shrimp_zoea', '95'],\n",
        "       ['40', '155', 'acantharia_protist', '0'],\n",
        "       ['45', '122', 'trichodesmium_bowtie', '108'],\n",
        "       ['48', '110', 'chaetognath_non_sagitta', '10'],\n",
        "       ['49', '205', 'copepod_cyclopoid_oithona_eggs', '25'],\n",
        "       ['50', '30', 'tunicate_doliolid_nurse', '114'],\n",
        "       ['50', '34', 'tunicate_doliolid', '113'],\n",
        "       ['50', '75', 'chaetognath_sagitta', '12'],\n",
        "       ['53', '16', 'detritus_filamentous', '34'],\n",
        "       ['56', '40', 'copepod_calanoid_large', '19'],\n",
        "       ['59', '137', 'copepod_cyclopoid_oithona', '24'],\n",
        "       ['63', '113', 'protist_other', '85'],\n",
        "       ['63', '59', 'appendicularian_slight_curve', '6'],\n",
        "       ['74', '77', 'trichodesmium_tuft', '111'],\n",
        "       ['75', '123', 'hydromedusae_solmaris', '72'],\n",
        "       ['80', '38', 'hydromedusae_narco_young', '64'],\n",
        "       ['91', '99', 'appendicularian_s_shape', '5'],\n",
        "       ['97', '84', 'copepod_calanoid', '14'],\n",
        "       ['104', '37', 'hydromedusae_shapeA_sideview_small', '69'],\n",
        "       ['107', '101', 'detritus_other', '35'],\n",
        "       ['110', '253', 'chaetognath_other', '11']], \n",
        "      dtype='|S45')"
       ]
      }
     ],
     "prompt_number": 74
    },
    {
     "cell_type": "code",
     "collapsed": false,
     "input": [
      "q = np.load(MEAN_FILE)\n",
      "plt.imshow(np.squeeze(q)/255.0, cmap='gray', interpolation='none')\n",
      "np.squeeze(q)/255.0"
     ],
     "language": "python",
     "metadata": {},
     "outputs": [
      {
       "metadata": {},
       "output_type": "pyout",
       "prompt_number": 30,
       "text": [
        "array([[ 0.50204222,  0.50628806,  0.51038585, ...,  0.51287058,\n",
        "         0.50834416,  0.50399685],\n",
        "       [ 0.50442403,  0.50835655,  0.51298397, ...,  0.5161894 ,\n",
        "         0.51118445,  0.50651784],\n",
        "       [ 0.50725014,  0.51164204,  0.51590851, ...,  0.52032375,\n",
        "         0.51469457,  0.50982624],\n",
        "       ..., \n",
        "       [ 0.50899844,  0.51385749,  0.51946992, ...,  0.52462966,\n",
        "         0.51834741,  0.51303926],\n",
        "       [ 0.50578188,  0.51028335,  0.51514067, ...,  0.51937735,\n",
        "         0.51382668,  0.50911817],\n",
        "       [ 0.50327334,  0.50731405,  0.51167836, ...,  0.51530205,\n",
        "         0.51034462,  0.50600281]])"
       ]
      },
      {
       "metadata": {},
       "output_type": "display_data",
       "png": "[encoded data removed]",
       "text": [
        "<matplotlib.figure.Figure at 0x7f6cce6dd6d0>"
       ]
      }
     ],
     "prompt_number": 30
    },
    {
     "cell_type": "code",
     "collapsed": false,
     "input": [
      "im_db = images[n]\n",
      "im_load = im_loaded\n",
      "\n"
     ],
     "language": "python",
     "metadata": {},
     "outputs": [],
     "prompt_number": 73
    },
    {
     "cell_type": "code",
     "collapsed": false,
     "input": [
      "data[0][1].shape[:2]"
     ],
     "language": "python",
     "metadata": {},
     "outputs": [
      {
       "metadata": {},
       "output_type": "pyout",
       "prompt_number": 121,
       "text": [
        "(64, 64)"
       ]
      }
     ],
     "prompt_number": 121
    }
   ],
   "metadata": {}
  }
 ]
}