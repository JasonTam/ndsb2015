{
 "metadata": {
  "name": "",
  "signature": "sha256:9d2cb8e7e224ea4fe085863f45152548fd87f8a4ac71c79af95926ae1dacd8bb"
 },
 "nbformat": 3,
 "nbformat_minor": 0,
 "worksheets": [
  {
   "cells": [
    {
     "cell_type": "markdown",
     "metadata": {},
     "source": [
      "- nonlinear embedding\n",
      "- autoencode the nonlabeled\n",
      "- assume label of highest prob on unlabeled and retrain network\n",
      "- perform network surgery (weights learned from unsupervised and then fine tuen with supervised)\n",
      "- or just use\n",
      "https://github.com/BVLC/caffe/tree/51be3523b8fe883d86600fbf3531b6ef7a6290fe/examples/finetune_flickr_style\n",
      "- also try hingeloss - as it would be anaolgous to using SVM\n",
      "\n",
      "- add morph features in fc layer\n",
      "- size/ bounding box features\n",
      "\n",
      "- feed features into labelspread\n",
      "- feature extraction is exemplified here:\n",
      " http://caffe.berkeleyvision.org/gathered/examples/feature_extraction.html\n",
      " \n",
      " \n",
      " 1. predict\n",
      " 2. take max as label\n",
      " 3. create guess.txt, cat guess0.txt ../data/train0.txt > ./guess_comb0.txt\n",
      "     - ./create_ndsb.sh\n",
      "     - randomize selection of guess data?? or select based on proba????\n",
      " 5. fine tune model to new db (or concatted db)\n",
      " 6. predict, repeat\n",
      " \n",
      "\n",
      "Find the problematic classes (low probs's - massive uncertainty), or high log loss for training data. Augment those particlar classes.\n",
      " \n",
      " \n",
      "t0 Log loss: 1.33067\n",
      " \n",
      " "
     ]
    },
    {
     "cell_type": "markdown",
     "metadata": {},
     "source": [
      " - classify everything and then aggreage the results of which images are just augmentations of the others and then take the average prediction probabilities\n",
      " \n",
      " - I SCREWED UP... rotation around 45 degrees leaves black background\n",
      " - need to get rid of mod 45 or set default background to white "
     ]
    },
    {
     "cell_type": "code",
     "collapsed": false,
     "input": [
      "import numpy as np\n",
      "import matplotlib.pyplot as plt\n",
      "import time\n",
      "import tools.my_io as my_io\n",
      "%matplotlib inline\n",
      "from scipy.misc import imresize\n",
      "\n",
      "# Make sure that caffe is on the python path:\n",
      "# caffe_root = '/afs/ee.cooper.edu/user/t/a/tam8/documents/caffe/'  # this file is expected to be in {caffe_root}/examples\n",
      "# import sys\n",
      "# sys.path.insert(0, caffe_root + 'python')\n",
      "\n",
      "import caffe\n",
      "\n",
      "# Set the right path to your model definition file, pretrained model weights,\n",
      "# and the image you would like to classify.\n",
      "MODEL_FILE = './deploy_deeper.prototxt'\n",
      "# PRETRAINED = './models/vanilla/vanilla_iter_20000.caffemodel'\n",
      "PRETRAINED = '/media/raid_arr/data/ndsb/models/pl_iter_56000.caffemodel'\n",
      "# PRETRAINED = '/media/raid_arr/data/ndsb/models/pl_iter_31000.caffemodel'\n",
      "MEAN_FILE = '/media/raid_arr/data/ndsb/augment/testaug_mean.npy'\n",
      "IMAGE_FILE = '/afs/ee.cooper.edu/user/t/a/tam8/data/ndsb/train/acantharia_protist/100224.jpg'\n",
      "# TEST_FILE = './data/test0.txt'\n",
      "VALIDATION_DB = './data/64x64/ndsb_test_lmdb'\n",
      "# VALIDATION_DB = './data/augmented/ndsb_trainall_lmdb' # Contains 8x rotation augmentation\n"
     ],
     "language": "python",
     "metadata": {},
     "outputs": [],
     "prompt_number": 1
    },
    {
     "cell_type": "code",
     "collapsed": false,
     "input": [
      "# Loading From Database\n",
      "print 'Loading data...'\n",
      "tic = time.time()\n",
      "data = my_io.load_lmdb(VALIDATION_DB)\n",
      "print \"Done in %.2f s.\" % (time.time() - tic)\n",
      "\n",
      "val_files_all, images, labels = zip(*data)\n",
      "test_labels = labels"
     ],
     "language": "python",
     "metadata": {},
     "outputs": [
      {
       "output_type": "stream",
       "stream": "stdout",
       "text": [
        "Loading data...\n",
        "Done in 0.74 s."
       ]
      },
      {
       "output_type": "stream",
       "stream": "stdout",
       "text": [
        "\n"
       ]
      }
     ],
     "prompt_number": 2
    },
    {
     "cell_type": "code",
     "collapsed": false,
     "input": [
      "# Grab 1 image from file\n",
      "input_image = caffe.io.load_image(IMAGE_FILE, color=False)"
     ],
     "language": "python",
     "metadata": {},
     "outputs": [],
     "prompt_number": 3
    },
    {
     "cell_type": "code",
     "collapsed": false,
     "input": [
      "image_dims = images[0].shape[:2]\n",
      "# image_dims = (57, 57)\n",
      "print image_dims\n",
      "\n",
      "mean=np.load(MEAN_FILE)\n",
      "mean.shape\n",
      "# mean_resized = imresize(mean[0, :, :], (57, 57))[None, :, :]\n",
      "mean_resized = caffe.io.resize_image(mean.transpose((1,2,0)), np.array([57, 57])).transpose((2,0,1))\n",
      "\n",
      "\n",
      "net = caffe.Classifier(MODEL_FILE, PRETRAINED,\n",
      "                       mean=mean_resized,\n",
      "                       raw_scale=1.0,    # 255 if load from caffe.io, 1.0 if load from my_io lmdb\n",
      "                       image_dims=image_dims,)\n",
      "#                        gpu=True)\n",
      "# caffe.set_phase_test()\n",
      "caffe.set_mode_gpu()"
     ],
     "language": "python",
     "metadata": {},
     "outputs": [
      {
       "output_type": "stream",
       "stream": "stdout",
       "text": [
        "(64, 64)\n"
       ]
      }
     ],
     "prompt_number": 4
    },
    {
     "cell_type": "code",
     "collapsed": false,
     "input": [
      "# %%time\n",
      "n = 2000\n",
      "# im = caffe.io.load_image(test_files[n], color=False)\n",
      "im_path = val_files_all[n]\n",
      "# im_loaded = caffe.io.load_image(im_path, color=False)\n",
      "# im = images[n].astype(np.float32)/255.0\n",
      "# im = im_loaded\n",
      "im = images[n]\n",
      "print im.shape\n",
      "tic = time.time()\n",
      "prediction = net.predict([im])\n",
      "print \"Prediction in %.2f s.\" % (time.time() - tic)\n",
      "print 'prediction shape:', prediction[0].shape\n",
      "plt.plot(prediction[0])\n",
      "print 'predicted class:', prediction[0].argmax()\n",
      "print 'true class:', test_labels[n]\n",
      "test_labels[n]\n",
      "print 'logloss:', -np.log(prediction[0][test_labels[n]])\n",
      "plt.figure()\n",
      "plt.imshow(np.squeeze(im), interpolation='none', cmap='gray')"
     ],
     "language": "python",
     "metadata": {},
     "outputs": [
      {
       "output_type": "stream",
       "stream": "stdout",
       "text": [
        "(64, 64, 1)\n",
        "Prediction in 0.49 s."
       ]
      },
      {
       "output_type": "stream",
       "stream": "stdout",
       "text": [
        "\n",
        "prediction shape: (121,)\n",
        "predicted class:"
       ]
      },
      {
       "output_type": "stream",
       "stream": "stdout",
       "text": [
        " 19\n",
        "true class: 19\n",
        "logloss: 0.462903\n"
       ]
      },
      {
       "metadata": {},
       "output_type": "pyout",
       "prompt_number": 5,
       "text": [
        "<matplotlib.image.AxesImage at 0x7f65f767bdd0>"
       ]
      },
      {
       "metadata": {},
       "output_type": "display_data",
       "png": "[encoded data removed]",
       "text": [
        "<matplotlib.figure.Figure at 0x7f65fae8ae50>"
       ]
      },
      {
       "metadata": {},
       "output_type": "display_data",
       "png": "[encoded data removed]",
       "text": [
        "<matplotlib.figure.Figure at 0x7f65fae8ae10>"
       ]
      }
     ],
     "prompt_number": 5
    },
    {
     "cell_type": "code",
     "collapsed": false,
     "input": [
      "start = time.time()\n",
      "prediction = net.predict(images)\n",
      "print \"Done in %.2f s.\" % (time.time() - start)"
     ],
     "language": "python",
     "metadata": {},
     "outputs": [
      {
       "output_type": "stream",
       "stream": "stdout",
       "text": [
        "Done in 124.49 s.\n"
       ]
      }
     ],
     "prompt_number": 6
    },
    {
     "cell_type": "code",
     "collapsed": false,
     "input": [
      "ll_ii = np.log(prediction[range(len(test_labels)), test_labels])\n",
      "ll = -np.mean(np.log(prediction[range(len(test_labels)), test_labels]))\n",
      "print 'Log loss:', ll"
     ],
     "language": "python",
     "metadata": {},
     "outputs": [
      {
       "output_type": "stream",
       "stream": "stdout",
       "text": [
        "Log loss: 0.332122\n"
       ]
      }
     ],
     "prompt_number": 7
    },
    {
     "cell_type": "code",
     "collapsed": false,
     "input": [
      "from tools.le import le\n",
      "test_labels = np.array(test_labels)\n",
      "ll_bylabel = np.zeros(len(set(test_labels)))\n",
      "for l in set(test_labels):\n",
      "    ll_bylabel[l] = -np.mean(ll_ii[test_labels==l])\n",
      "print ll_bylabel\n",
      "print np.argmax(ll_bylabel), np.max(ll_bylabel), le.inverse_transform(np.argmax(ll_bylabel))"
     ],
     "language": "python",
     "metadata": {},
     "outputs": [
      {
       "ename": "NameError",
       "evalue": "name 'll_ii' is not defined",
       "output_type": "pyerr",
       "traceback": [
        "\u001b[1;31m---------------------------------------------------------------------------\u001b[0m\n\u001b[1;31mNameError\u001b[0m                                 Traceback (most recent call last)",
        "\u001b[1;32m<ipython-input-6-fcab288bdb87>\u001b[0m in \u001b[0;36m<module>\u001b[1;34m()\u001b[0m\n\u001b[0;32m      3\u001b[0m \u001b[0mll_bylabel\u001b[0m \u001b[1;33m=\u001b[0m \u001b[0mnp\u001b[0m\u001b[1;33m.\u001b[0m\u001b[0mzeros\u001b[0m\u001b[1;33m(\u001b[0m\u001b[0mlen\u001b[0m\u001b[1;33m(\u001b[0m\u001b[0mset\u001b[0m\u001b[1;33m(\u001b[0m\u001b[0mtest_labels\u001b[0m\u001b[1;33m)\u001b[0m\u001b[1;33m)\u001b[0m\u001b[1;33m)\u001b[0m\u001b[1;33m\u001b[0m\u001b[0m\n\u001b[0;32m      4\u001b[0m \u001b[1;32mfor\u001b[0m \u001b[0ml\u001b[0m \u001b[1;32min\u001b[0m \u001b[0mset\u001b[0m\u001b[1;33m(\u001b[0m\u001b[0mtest_labels\u001b[0m\u001b[1;33m)\u001b[0m\u001b[1;33m:\u001b[0m\u001b[1;33m\u001b[0m\u001b[0m\n\u001b[1;32m----> 5\u001b[1;33m     \u001b[0mll_bylabel\u001b[0m\u001b[1;33m[\u001b[0m\u001b[0ml\u001b[0m\u001b[1;33m]\u001b[0m \u001b[1;33m=\u001b[0m \u001b[1;33m-\u001b[0m\u001b[0mnp\u001b[0m\u001b[1;33m.\u001b[0m\u001b[0mmean\u001b[0m\u001b[1;33m(\u001b[0m\u001b[0mll_ii\u001b[0m\u001b[1;33m[\u001b[0m\u001b[0mtest_labels\u001b[0m\u001b[1;33m==\u001b[0m\u001b[0ml\u001b[0m\u001b[1;33m]\u001b[0m\u001b[1;33m)\u001b[0m\u001b[1;33m\u001b[0m\u001b[0m\n\u001b[0m\u001b[0;32m      6\u001b[0m \u001b[1;32mprint\u001b[0m \u001b[0mll_bylabel\u001b[0m\u001b[1;33m\u001b[0m\u001b[0m\n\u001b[0;32m      7\u001b[0m \u001b[1;32mprint\u001b[0m \u001b[0mnp\u001b[0m\u001b[1;33m.\u001b[0m\u001b[0margmax\u001b[0m\u001b[1;33m(\u001b[0m\u001b[0mll_bylabel\u001b[0m\u001b[1;33m)\u001b[0m\u001b[1;33m,\u001b[0m \u001b[0mnp\u001b[0m\u001b[1;33m.\u001b[0m\u001b[0mmax\u001b[0m\u001b[1;33m(\u001b[0m\u001b[0mll_bylabel\u001b[0m\u001b[1;33m)\u001b[0m\u001b[1;33m,\u001b[0m \u001b[0mle\u001b[0m\u001b[1;33m.\u001b[0m\u001b[0minverse_transform\u001b[0m\u001b[1;33m(\u001b[0m\u001b[0mnp\u001b[0m\u001b[1;33m.\u001b[0m\u001b[0margmax\u001b[0m\u001b[1;33m(\u001b[0m\u001b[0mll_bylabel\u001b[0m\u001b[1;33m)\u001b[0m\u001b[1;33m)\u001b[0m\u001b[1;33m\u001b[0m\u001b[0m\n",
        "\u001b[1;31mNameError\u001b[0m: name 'll_ii' is not defined"
       ]
      }
     ],
     "prompt_number": 6
    },
    {
     "cell_type": "code",
     "collapsed": false,
     "input": [
      "guess = np.argmax(prediction, axis=1)\n",
      "guess_arr = np.c_[test_files, guess]\n",
      "# np.savetxt('./guess_labels/guess1.txt', guess_arr, fmt='%s', delimiter='\\t')\n",
      "\n"
     ],
     "language": "python",
     "metadata": {},
     "outputs": [],
     "prompt_number": 9
    },
    {
     "cell_type": "code",
     "collapsed": false,
     "input": [
      "from sklearn.metrics import confusion_matrix\n",
      "from sklearn.metrics import accuracy_score\n",
      "from tools.le import le\n",
      "conf_arr = confusion_matrix(test_labels, guess)\n",
      "acc = accuracy_score(test_labels, guess)\n",
      "print acc\n",
      "\n",
      "d = np.diagonal(conf_arr.copy())\n",
      "print np.sum(conf_arr)\n",
      "np.fill_diagonal(conf_arr, 0)\n",
      "\n",
      "\n",
      "pt = np.sum(conf_arr, axis=0)\n",
      "names = np.array(le.inverse_transform(range(121)))\n",
      "ind = pt.argsort()\n",
      "np.c_[pt[ind], d[ind], names[ind], np.arange(121)[ind]]\n"
     ],
     "language": "python",
     "metadata": {},
     "outputs": [
      {
       "ename": "NameError",
       "evalue": "name 'guess' is not defined",
       "output_type": "pyerr",
       "traceback": [
        "\u001b[1;31m---------------------------------------------------------------------------\u001b[0m\n\u001b[1;31mNameError\u001b[0m                                 Traceback (most recent call last)",
        "\u001b[1;32m<ipython-input-27-3de6b96cf499>\u001b[0m in \u001b[0;36m<module>\u001b[1;34m()\u001b[0m\n\u001b[0;32m      2\u001b[0m \u001b[1;32mfrom\u001b[0m \u001b[0msklearn\u001b[0m\u001b[1;33m.\u001b[0m\u001b[0mmetrics\u001b[0m \u001b[1;32mimport\u001b[0m \u001b[0maccuracy_score\u001b[0m\u001b[1;33m\u001b[0m\u001b[0m\n\u001b[0;32m      3\u001b[0m \u001b[1;32mfrom\u001b[0m \u001b[0mtools\u001b[0m\u001b[1;33m.\u001b[0m\u001b[0mle\u001b[0m \u001b[1;32mimport\u001b[0m \u001b[0mle\u001b[0m\u001b[1;33m\u001b[0m\u001b[0m\n\u001b[1;32m----> 4\u001b[1;33m \u001b[0mconf_arr\u001b[0m \u001b[1;33m=\u001b[0m \u001b[0mconfusion_matrix\u001b[0m\u001b[1;33m(\u001b[0m\u001b[0mtest_labels\u001b[0m\u001b[1;33m,\u001b[0m \u001b[0mguess\u001b[0m\u001b[1;33m)\u001b[0m\u001b[1;33m\u001b[0m\u001b[0m\n\u001b[0m\u001b[0;32m      5\u001b[0m \u001b[0macc\u001b[0m \u001b[1;33m=\u001b[0m \u001b[0maccuracy_score\u001b[0m\u001b[1;33m(\u001b[0m\u001b[0mtest_labels\u001b[0m\u001b[1;33m,\u001b[0m \u001b[0mguess\u001b[0m\u001b[1;33m)\u001b[0m\u001b[1;33m\u001b[0m\u001b[0m\n\u001b[0;32m      6\u001b[0m \u001b[1;32mprint\u001b[0m \u001b[0macc\u001b[0m\u001b[1;33m\u001b[0m\u001b[0m\n",
        "\u001b[1;31mNameError\u001b[0m: name 'guess' is not defined"
       ]
      }
     ],
     "prompt_number": 27
    },
    {
     "cell_type": "code",
     "collapsed": false,
     "input": [
      "q = np.load(MEAN_FILE)\n",
      "plt.imshow(np.squeeze(q)/255.0, cmap='gray', interpolation='none')\n",
      "np.squeeze(q)/255.0"
     ],
     "language": "python",
     "metadata": {},
     "outputs": [
      {
       "metadata": {},
       "output_type": "pyout",
       "prompt_number": 30,
       "text": [
        "array([[ 0.50204222,  0.50628806,  0.51038585, ...,  0.51287058,\n",
        "         0.50834416,  0.50399685],\n",
        "       [ 0.50442403,  0.50835655,  0.51298397, ...,  0.5161894 ,\n",
        "         0.51118445,  0.50651784],\n",
        "       [ 0.50725014,  0.51164204,  0.51590851, ...,  0.52032375,\n",
        "         0.51469457,  0.50982624],\n",
        "       ..., \n",
        "       [ 0.50899844,  0.51385749,  0.51946992, ...,  0.52462966,\n",
        "         0.51834741,  0.51303926],\n",
        "       [ 0.50578188,  0.51028335,  0.51514067, ...,  0.51937735,\n",
        "         0.51382668,  0.50911817],\n",
        "       [ 0.50327334,  0.50731405,  0.51167836, ...,  0.51530205,\n",
        "         0.51034462,  0.50600281]])"
       ]
      },
      {
       "metadata": {},
       "output_type": "display_data",
       "png": "[encoded data removed]",
       "text": [
        "<matplotlib.figure.Figure at 0x7f6cce6dd6d0>"
       ]
      }
     ],
     "prompt_number": 30
    },
    {
     "cell_type": "code",
     "collapsed": false,
     "input": [
      "im_db = images[n]\n",
      "im_load = im_loaded\n",
      "\n"
     ],
     "language": "python",
     "metadata": {},
     "outputs": [],
     "prompt_number": 73
    },
    {
     "cell_type": "code",
     "collapsed": false,
     "input": [
      "test_labels.shape"
     ],
     "language": "python",
     "metadata": {},
     "outputs": [
      {
       "ename": "AttributeError",
       "evalue": "'tuple' object has no attribute 'shape'",
       "output_type": "pyerr",
       "traceback": [
        "\u001b[1;31m---------------------------------------------------------------------------\u001b[0m\n\u001b[1;31mAttributeError\u001b[0m                            Traceback (most recent call last)",
        "\u001b[1;32m<ipython-input-23-c7d9c71b9170>\u001b[0m in \u001b[0;36m<module>\u001b[1;34m()\u001b[0m\n\u001b[1;32m----> 1\u001b[1;33m \u001b[0mtest_labels\u001b[0m\u001b[1;33m.\u001b[0m\u001b[0mshape\u001b[0m\u001b[1;33m\u001b[0m\u001b[0m\n\u001b[0m",
        "\u001b[1;31mAttributeError\u001b[0m: 'tuple' object has no attribute 'shape'"
       ]
      }
     ],
     "prompt_number": 23
    }
   ],
   "metadata": {}
  }
 ]
}