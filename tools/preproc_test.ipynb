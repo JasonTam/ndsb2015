{
 "metadata": {
  "name": "",
  "signature": "sha256:0e5a19553a10549db0e8da317145d4c71af58b157814f1a6a14ba03eb4dd7b8d"
 },
 "nbformat": 3,
 "nbformat_minor": 0,
 "worksheets": [
  {
   "cells": [
    {
     "cell_type": "code",
     "collapsed": false,
     "input": [
      "import matplotlib.pyplot as plt\n",
      "%matplotlib inline\n",
      "import numpy as np\n",
      "import cv2\n",
      "from time import time\n",
      "import skimage\n",
      "import skimage.transform\n",
      "from skimage import measure\n",
      "from skimage import morphology\n",
      "from skimage.filters import threshold_otsu\n",
      "\n",
      "IMAGE_FILE = '/home/jason/Downloads/train/trichodesmium_bowtie/104373.jpg'\n",
      "# IMAGE_FILE = '/home/jason/Downloads/train/tunicate_salp_chains/111699.jpg'\n",
      "# IMAGE_FILE = '/home/jason/Downloads/train/protist_star/101029.jpg'\n",
      "# IMAGE_FILE = '/home/jason/Downloads/train/artifacts_edge/106668.jpg'\n",
      "im = 255 - cv2.imread(IMAGE_FILE, cv2.IMREAD_GRAYSCALE)\n",
      "\n",
      "OUT_SHAPE = (64, 64)\n",
      "\n",
      "imshow = lambda im: plt.imshow(im, cmap='gray', interpolation='none')"
     ],
     "language": "python",
     "metadata": {},
     "outputs": [],
     "prompt_number": 7
    },
    {
     "cell_type": "code",
     "collapsed": false,
     "input": [
      "def get_largest_region(im, show_plots=False):\n",
      "    # find the largest nonzero region\n",
      "    imthr = np.array(im)\n",
      "    thresh_fn = lambda x: x > np.mean(x)\n",
      "#     thresh_fn = lambda x: x > threshold_otsu(x)*.9\n",
      "    imthr = np.where(thresh_fn(im),1.,0.)\n",
      "    imdilated = morphology.dilation(imthr, np.ones((4,4)))\n",
      "    labels = measure.label(imdilated)\n",
      "    labels = imthr * labels\n",
      "    labels = labels.astype(int)\n",
      "    \n",
      "    if show_plots:\n",
      "        f = plt.figure(figsize=(12,3))\n",
      "        sub1 = plt.subplot(1,4,1)\n",
      "        imshow(im)\n",
      "        sub2 = plt.subplot(1,4,2)\n",
      "        imshow(imthr)\n",
      "        sub3 = plt.subplot(1, 4, 3)\n",
      "        imshow(imdilated)\n",
      "        sub4 = plt.subplot(1, 4, 4)\n",
      "        plt.imshow(labels)\n",
      "        sub1.set_title(\"Original Image\")\n",
      "        sub2.set_title(\"Thresholded Image\")\n",
      "        sub3.set_title(\"Dilated Image\")\n",
      "        sub4.set_title(\"Labeled Image\")\n",
      "    \n",
      "    regions = measure.regionprops(labels)\n",
      "    regionmaxprop = None\n",
      "    for regionprop in regions:\n",
      "        # check to see if the region is at least 50% nonzero\n",
      "        if sum(imthr[labels == regionprop.label])*1.0/regionprop.area < 0.50:\n",
      "            continue\n",
      "        if regionmaxprop is None:\n",
      "            regionmaxprop = regionprop\n",
      "        if regionmaxprop.filled_area < regionprop.filled_area:\n",
      "            regionmaxprop = regionprop\n",
      "    return regionmaxprop, labels\n"
     ],
     "language": "python",
     "metadata": {},
     "outputs": [],
     "prompt_number": 8
    },
    {
     "cell_type": "code",
     "collapsed": false,
     "input": [
      "tic = time()\n",
      "regionmax, labels = get_largest_region(im)\n",
      "bw = np.where(labels == regionmax.label,True,False)\n",
      "print time() - tic\n",
      "\n",
      "plt.figure()\n",
      "imshow(bw)\n",
      "\n"
     ],
     "language": "python",
     "metadata": {},
     "outputs": [
      {
       "output_type": "stream",
       "stream": "stdout",
       "text": [
        "0.00183892250061\n"
       ]
      },
      {
       "metadata": {},
       "output_type": "pyout",
       "prompt_number": 9,
       "text": [
        "<matplotlib.image.AxesImage at 0x7f1e97ab3b10>"
       ]
      },
      {
       "metadata": {},
       "output_type": "display_data",
       "png": "[encoded data removed]",
       "text": [
        "<matplotlib.figure.Figure at 0x7f1e97e87950>"
       ]
      }
     ],
     "prompt_number": 9
    },
    {
     "cell_type": "code",
     "collapsed": false,
     "input": [
      "\n",
      "OUT_SHAPE = (64, 64)\n",
      "\n",
      "center_in = np.array(regionmax.bbox).reshape((2, 2)).mean(axis=0)[::-1]\n",
      "center_out = np.array(OUT_SHAPE) / 2. - 0.5\n",
      "\n",
      "tform_center = skimage.transform.SimilarityTransform(translation=-center_out)\n",
      "tform_uncenter = skimage.transform.SimilarityTransform(translation=center_in)\n",
      "\n",
      "def build_tform(tform_center, tform_uncenter, \n",
      "                zoom=1.0, rotation=0, shear=0, translation=(0, 0)):\n",
      "    tform_augment = skimage.transform.AffineTransform(scale=(1/zoom, 1/zoom), rotation=np.deg2rad(rotation), shear=np.deg2rad(shear), translation=translation)\n",
      "    tform = tform_center + tform_augment + tform_uncenter # shift to center, augment, shift back (for the rotation/shearing)\n",
      "    return tform\n",
      "\n",
      "def fast_warp(img, tf, output_shape=OUT_SHAPE, mode='constant'):\n",
      "    \"\"\"\n",
      "    This wrapper function is about five times faster than skimage.transform.warp, for our use case.\n",
      "    \"\"\"\n",
      "#     m = tf._matrix\n",
      "    m = tf.params\n",
      "    img_wf = skimage.transform._warps_cy._warp_fast(img, m, output_shape=output_shape, mode=mode)\n",
      "    \n",
      "    return img_wf\n",
      "\n"
     ],
     "language": "python",
     "metadata": {},
     "outputs": [],
     "prompt_number": 10
    },
    {
     "cell_type": "code",
     "collapsed": false,
     "input": [
      "theta = regionmax.orientation\n",
      "print 'Rotate:', np.rad2deg(theta)\n",
      "\n",
      "max_side = np.diff(np.array(regionmax.bbox).reshape((2, 2)), axis=0).max()\n",
      "max_side\n",
      "alpha = OUT_SHAPE[0] / float(max_side)\n",
      "print 'Zoom:', alpha\n",
      "\n",
      "tform = build_tform(tform_center, tform_uncenter,\n",
      "                    zoom=alpha, rotation=np.rad2deg(theta))\n",
      "im_w = fast_warp(img=im, tf=tform)\n",
      "imshow(im_w)"
     ],
     "language": "python",
     "metadata": {},
     "outputs": [
      {
       "output_type": "stream",
       "stream": "stdout",
       "text": [
        "Rotate: 44.4418008573\n",
        "Zoom: 1.30612244898\n"
       ]
      },
      {
       "metadata": {},
       "output_type": "pyout",
       "prompt_number": 11,
       "text": [
        "<matplotlib.image.AxesImage at 0x7f1e8c705bd0>"
       ]
      },
      {
       "metadata": {},
       "output_type": "display_data",
       "png": "[encoded data removed]",
       "text": [
        "<matplotlib.figure.Figure at 0x7f1e97c29ed0>"
       ]
      }
     ],
     "prompt_number": 11
    },
    {
     "cell_type": "code",
     "collapsed": false,
     "input": [
      "def get_features(im_file, out_shape=OUT_SHAPE, verbose=False, show_plots=False):\n",
      "    \n",
      "    im = 255 - cv2.imread(im_file, cv2.IMREAD_GRAYSCALE)   # subject is white, bckg is black\n",
      "    regionmax, labels = get_largest_region(im, show_plots=show_plots)\n",
      "    \n",
      "    h, w = sorted(im.shape)\n",
      "    f_size = os.stat(im_file).st_size\n",
      "    if regionmax:\n",
      "\n",
      "        ext = regionmax.extent\n",
      "        hu = regionmax.moments_hu\n",
      "        sol = regionmax.solidity\n",
      "\n",
      "        bw = np.where(labels == regionmax.label,True,False)\n",
      "\n",
      "        if show_plots:\n",
      "            plt.figure()\n",
      "            imshow(bw)\n",
      "\n",
      "        center_in = np.array(regionmax.bbox).reshape((2, 2)).mean(axis=0)[::-1]\n",
      "        center_out = np.array(out_shape) / 2. - 0.5\n",
      "\n",
      "        tf_cent = skimage.transform.SimilarityTransform(translation=-center_out)\n",
      "        tf_uncent = skimage.transform.SimilarityTransform(translation=center_in)\n",
      "\n",
      "        theta = regionmax.orientation\n",
      "\n",
      "        max_side = np.diff(np.array(regionmax.bbox).reshape((2, 2)), axis=0).max()\n",
      "        alpha = out_shape[0] / float(max_side)\n",
      "\n",
      "        if verbose:\n",
      "            print 'Rotate:', np.rad2deg(theta)\n",
      "            print 'Zoom:', alpha\n",
      "\n",
      "        tform = build_tform(tform_center=tf_cent, tform_uncenter=tf_uncent,\n",
      "                            zoom=alpha, rotation=np.rad2deg(theta))\n",
      "        im_w = fast_warp(img=im, tf=tform)\n",
      "\n",
      "        if show_plots:\n",
      "            plt.figure()\n",
      "            imshow(im_w)\n",
      "        \n",
      "    else:\n",
      "        # Could not find a valid region\n",
      "        # Just scale the image to the appropriate size\n",
      "        # and return empty features\n",
      "        im_w = skimage.transform.resize(im, out_shape, mode='constant')\n",
      "        ext, hu, sol = 0, np.zeros(7), 0\n",
      "\n",
      "    return (im_w, (f_size, h, w, ext, hu, sol))"
     ],
     "language": "python",
     "metadata": {},
     "outputs": [],
     "prompt_number": 15
    },
    {
     "cell_type": "code",
     "collapsed": false,
     "input": [
      "im_norm, feats = get_features(IMAGE_FILE, out_shape=OUT_SHAPE, verbose=False, show_plots=False)\n",
      "imshow(im_norm)\n",
      "print feats"
     ],
     "language": "python",
     "metadata": {},
     "outputs": [
      {
       "output_type": "stream",
       "stream": "stdout",
       "text": [
        "(1992, 66, 70, 0.29458740017746227, array([  3.32378465e-01,   5.72654453e-02,   1.53600665e-03,\n",
        "         5.51428973e-05,  -1.23589989e-08,  -8.42345521e-06,\n",
        "         1.02374466e-08]), 0.49003690036900371)\n"
       ]
      },
      {
       "metadata": {},
       "output_type": "display_data",
       "png": "[encoded data removed]",
       "text": [
        "<matplotlib.figure.Figure at 0x7f1e97cebcd0>"
       ]
      }
     ],
     "prompt_number": 17
    },
    {
     "cell_type": "code",
     "collapsed": false,
     "input": [
      "imshow(q)"
     ],
     "language": "python",
     "metadata": {},
     "outputs": [
      {
       "metadata": {},
       "output_type": "pyout",
       "prompt_number": 193,
       "text": [
        "<matplotlib.image.AxesImage at 0x7eff86118210>"
       ]
      },
      {
       "metadata": {},
       "output_type": "display_data",
       "png": "[encoded data removed]",
       "text": [
        "<matplotlib.figure.Figure at 0x7eff85f6e190>"
       ]
      }
     ],
     "prompt_number": 193
    },
    {
     "cell_type": "code",
     "collapsed": false,
     "input": [
      "import plyvel\n",
      "import caffe_pb2\n",
      "import os\n",
      "from le import le\n",
      "import taxonomy as tax\n",
      "from sklearn.preprocessing import StandardScaler\n",
      "from time import time\n",
      "\n",
      "import glob\n",
      "import os\n",
      "\n",
      "TRAIN_PATH = '/home/jason/Downloads/train/'\n",
      "DB_PATH = '/home/jason/documents/sandbox/orientation_normed_lvl/'\n",
      "OUT_SHAPE = (64, 64)"
     ],
     "language": "python",
     "metadata": {},
     "outputs": [],
     "prompt_number": 96
    },
    {
     "cell_type": "code",
     "collapsed": false,
     "input": [
      "datum = caffe_pb2.Datum()\n",
      "db = plyvel.DB(DB_PATH, create_if_missing=True)\n",
      "im_files = glob.glob(os.path.join(TRAIN_PATH, '*', '*.jpg'))\n",
      "invalids = []\n",
      "feats_all = []\n",
      "tic = time()\n",
      "for ii, im_file in enumerate(im_files):\n",
      "    if ii % 5000 == 0:\n",
      "        print '%d images processed in %d s' % (ii, time() - tic)\n",
      "    \n",
      "    y_str = os.path.basename(os.path.dirname(im_file))\n",
      "    y = le.transform(y_str)\n",
      "    \n",
      "    im_w, (f_size, h, w, ext, hu, sol) = get_features(im_file, out_shape=OUT_SHAPE)\n",
      "    if not sol:\n",
      "        invalids.append((y_str, im_file))\n",
      "    feats_all.append(np.r_[f_size, h, w, ext, hu, sol])  # Used to make std scaler \n",
      "    \n",
      "    # Fill in Datum\n",
      "    datum.channels = 1\n",
      "    datum.height = OUT_SHAPE[0]\n",
      "    datum.width = OUT_SHAPE[1]\n",
      "    datum.data = im_w.astype('uint8').tobytes()\n",
      "    datum.label = y\n",
      "\n",
      "    #float_data = 6;\n",
      "\n",
      "    #encoded = 7 [default = false];\n",
      "    datum.label0 = tax.encode_parent(y_str, 0)\n",
      "    datum.label1 = tax.encode_parent(y_str, 1)\n",
      "    datum.label2 = tax.encode_parent(y_str, 2)\n",
      "    datum.label3 = tax.encode_parent(y_str, 3)\n",
      "    datum.label4 = tax.encode_parent(y_str, 4)\n",
      "    datum.label5 = tax.encode_parent(y_str, 5)\n",
      "    datum.label6 = tax.encode_parent(y_str, 6)\n",
      "\n",
      "    # Normalized Features (Normalize on second pass)\n",
      "    datum.orig_space = f_size\n",
      "    datum.orig_height = h\n",
      "    datum.orig_width = w\n",
      "\n",
      "    datum.extent = ext\n",
      "    datum.hu1 = hu[0]\n",
      "    datum.hu2 = hu[1]\n",
      "    datum.hu3 = hu[2]\n",
      "    datum.hu4 = hu[3]\n",
      "    datum.hu5 = hu[4]\n",
      "    datum.hu6 = hu[5]\n",
      "    datum.hu7 = hu[6]\n",
      "    datum.solidity = sol\n",
      "    \n",
      "    k = os.path.basename(im_file)\n",
      "    v = datum.SerializeToString()\n",
      "    db.put(k, v)\n",
      "db.close()"
     ],
     "language": "python",
     "metadata": {},
     "outputs": [
      {
       "output_type": "stream",
       "stream": "stdout",
       "text": [
        "0 images processed in 0 s\n",
        "5000 images processed in 48 s"
       ]
      },
      {
       "output_type": "stream",
       "stream": "stdout",
       "text": [
        "\n",
        "10000 images processed in 86 s"
       ]
      },
      {
       "output_type": "stream",
       "stream": "stdout",
       "text": [
        "\n",
        "15000 images processed in 151 s"
       ]
      },
      {
       "output_type": "stream",
       "stream": "stdout",
       "text": [
        "\n",
        "20000 images processed in 194 s"
       ]
      },
      {
       "output_type": "stream",
       "stream": "stdout",
       "text": [
        "\n",
        "25000 images processed in 238 s"
       ]
      },
      {
       "output_type": "stream",
       "stream": "stdout",
       "text": [
        "\n",
        "30000 images processed in 280 s"
       ]
      },
      {
       "output_type": "stream",
       "stream": "stdout",
       "text": [
        "\n"
       ]
      }
     ],
     "prompt_number": 59
    },
    {
     "cell_type": "code",
     "collapsed": false,
     "input": [
      "feats_arr = np.array(feats_all)\n",
      "scaler = StandardScaler().fit(feats_arr)"
     ],
     "language": "python",
     "metadata": {},
     "outputs": [],
     "prompt_number": 77
    },
    {
     "cell_type": "code",
     "collapsed": false,
     "input": [
      "# Scaling features\n",
      "# yeah this could be less ugly, but whatever\n",
      "db = plyvel.DB(DB_PATH)\n",
      "wb = db.write_batch()\n",
      "for key, value in db:\n",
      "    datum.ParseFromString(value)\n",
      "    extra_feats = np.array([\n",
      "        datum.orig_space,\n",
      "        datum.orig_height,\n",
      "        datum.orig_width,\n",
      "        datum.extent,\n",
      "        datum.hu1,\n",
      "        datum.hu2,\n",
      "        datum.hu3,\n",
      "        datum.hu4,\n",
      "        datum.hu5,\n",
      "        datum.hu6,\n",
      "        datum.hu7,\n",
      "        datum.solidity,\n",
      "    ])\n",
      "    scaled_feats = scaler.transform(extra_feats)\n",
      "    datum.orig_space = scaled_feats[0]\n",
      "    datum.orig_height = scaled_feats[1]\n",
      "    datum.orig_width = scaled_feats[2]\n",
      "    datum.extent = scaled_feats[3]\n",
      "    datum.hu1 = scaled_feats[4]\n",
      "    datum.hu2 = scaled_feats[5]\n",
      "    datum.hu3 = scaled_feats[6]\n",
      "    datum.hu4 = scaled_feats[7]\n",
      "    datum.hu5 = scaled_feats[8]\n",
      "    datum.hu6 = scaled_feats[9]\n",
      "    datum.hu7 = scaled_feats[10]\n",
      "    datum.solidity = scaled_feats[11]\n",
      "    \n",
      "    v = datum.SerializeToString()\n",
      "    wb.put(key, v)\n",
      "\n",
      "wb.write()\n",
      "db.close()"
     ],
     "language": "python",
     "metadata": {},
     "outputs": [],
     "prompt_number": 82
    },
    {
     "cell_type": "code",
     "collapsed": false,
     "input": [
      "ims = []\n",
      "db = plyvel.DB(DB_PATH)\n",
      "for key, value in db:\n",
      "    datum.ParseFromString(value)\n",
      "    im = np.array(Image.frombytes('L', OUT_SHAPE, datum.data))\n",
      "    ims.append(im)"
     ],
     "language": "python",
     "metadata": {},
     "outputs": [],
     "prompt_number": 111
    },
    {
     "cell_type": "code",
     "collapsed": false,
     "input": [
      "from PIL import Image\n",
      "datum.ParseFromString(v)\n",
      "im = np.array(Image.frombytes('L', OUT_SHAPE, datum.data))"
     ],
     "language": "python",
     "metadata": {},
     "outputs": [],
     "prompt_number": 101
    },
    {
     "cell_type": "code",
     "collapsed": false,
     "input": [
      "ims_arr = np.array(ims)"
     ],
     "language": "python",
     "metadata": {},
     "outputs": [],
     "prompt_number": 112
    },
    {
     "cell_type": "code",
     "collapsed": false,
     "input": [
      "m = ims_arr.mean(axis=0)"
     ],
     "language": "python",
     "metadata": {},
     "outputs": [],
     "prompt_number": 115
    },
    {
     "cell_type": "code",
     "collapsed": false,
     "input": [
      "m.mean()"
     ],
     "language": "python",
     "metadata": {},
     "outputs": [
      {
       "metadata": {},
       "output_type": "pyout",
       "prompt_number": 117,
       "text": [
        "23.273424164655339"
       ]
      }
     ],
     "prompt_number": 117
    },
    {
     "cell_type": "code",
     "collapsed": false,
     "input": [
      "import preproc as pp\n",
      "reload(pp)\n",
      "from time import time\n",
      "import cv2\n",
      "import cPickle\n",
      "import shelve\n",
      "from contextlib import closing\n",
      "import glob\n",
      "import os\n",
      "\n",
      "TRAIN_PATH = '/media/raid_arr/data/ndsb/train/'\n",
      "train_files = glob.glob(os.path.join(TRAIN_PATH, '*', '*.jpg'))\n",
      "\n",
      "IM_FILE = '/media/raid_arr/data/ndsb/train/acantharia_protist/100224.jpg'\n",
      "OUT_SHAPE = (64, 64)"
     ],
     "language": "python",
     "metadata": {},
     "outputs": [],
     "prompt_number": 48
    },
    {
     "cell_type": "code",
     "collapsed": false,
     "input": [
      "feats_d = {}\n",
      "tic = time()\n",
      "for ii, im_file in enumerate(train_files):\n",
      "    toc = time() - tic\n",
      "    if ii % 5000 == 0:\n",
      "        print ii, toc\n",
      "\n",
      "    im_name = os.path.basename(im_file)\n",
      "    im = 255 - cv2.imread(im_file, cv2.IMREAD_GRAYSCALE)\n",
      "    rp, l = pp.get_largest_region(im)\n",
      "   \n",
      "    feats_d[im_name] = pp.get_rp_features(rp)\n"
     ],
     "language": "python",
     "metadata": {},
     "outputs": [
      {
       "output_type": "stream",
       "stream": "stdout",
       "text": [
        "0 0.00788617134094\n",
        "5000"
       ]
      },
      {
       "output_type": "stream",
       "stream": "stdout",
       "text": [
        " 54.6494090557\n",
        "10000"
       ]
      },
      {
       "output_type": "stream",
       "stream": "stdout",
       "text": [
        " 126.143308163\n",
        "15000"
       ]
      },
      {
       "output_type": "stream",
       "stream": "stdout",
       "text": [
        " 182.341439009\n",
        "20000"
       ]
      },
      {
       "output_type": "stream",
       "stream": "stdout",
       "text": [
        " 279.47638917\n",
        "25000"
       ]
      },
      {
       "output_type": "stream",
       "stream": "stdout",
       "text": [
        " 363.450103998\n",
        "30000"
       ]
      },
      {
       "output_type": "stream",
       "stream": "stdout",
       "text": [
        " 508.041270971\n"
       ]
      }
     ],
     "prompt_number": 50
    },
    {
     "cell_type": "code",
     "collapsed": false,
     "input": [
      "cPickle.dump(feats_d, open('/media/raid_arr/data/ndsb/region_feats.p', 'wb'), protocol=2)"
     ],
     "language": "python",
     "metadata": {},
     "outputs": [],
     "prompt_number": 53
    },
    {
     "cell_type": "code",
     "collapsed": false,
     "input": [
      "cPickle.load(open('/media/raid_arr/data/ndsb/region_feats.q', 'rb'), protocol=2)"
     ],
     "language": "python",
     "metadata": {},
     "outputs": [
      {
       "ename": "IOError",
       "evalue": "[Errno 2] No such file or directory: '/media/raid_arr/data/ndsb/region_feats.q'",
       "output_type": "pyerr",
       "traceback": [
        "\u001b[1;31m---------------------------------------------------------------------------\u001b[0m\n\u001b[1;31mIOError\u001b[0m                                   Traceback (most recent call last)",
        "\u001b[1;32m<ipython-input-54-74980f442c1f>\u001b[0m in \u001b[0;36m<module>\u001b[1;34m()\u001b[0m\n\u001b[1;32m----> 1\u001b[1;33m \u001b[0mcPickle\u001b[0m\u001b[1;33m.\u001b[0m\u001b[0mload\u001b[0m\u001b[1;33m(\u001b[0m\u001b[0mopen\u001b[0m\u001b[1;33m(\u001b[0m\u001b[1;34m'/media/raid_arr/data/ndsb/region_feats.q'\u001b[0m\u001b[1;33m,\u001b[0m \u001b[1;34m'rb'\u001b[0m\u001b[1;33m)\u001b[0m\u001b[1;33m,\u001b[0m \u001b[0mprotocol\u001b[0m\u001b[1;33m=\u001b[0m\u001b[1;36m2\u001b[0m\u001b[1;33m)\u001b[0m\u001b[1;33m\u001b[0m\u001b[0m\n\u001b[0m",
        "\u001b[1;31mIOError\u001b[0m: [Errno 2] No such file or directory: '/media/raid_arr/data/ndsb/region_feats.q'"
       ]
      }
     ],
     "prompt_number": 54
    },
    {
     "cell_type": "heading",
     "level": 1,
     "metadata": {},
     "source": [
      "Testing Params of Preproc"
     ]
    },
    {
     "cell_type": "code",
     "collapsed": false,
     "input": [
      "import preproc as pp\n",
      "reload(pp)\n",
      "from time import time\n",
      "import glob\n",
      "import os\n",
      "import cv2\n",
      "import matplotlib.pyplot as plt\n",
      "%matplotlib inline\n",
      "\n",
      "OUT_SHAPE = (64, 64)\n",
      "\n",
      "imshow = lambda im: plt.imshow(im, cmap='gray', interpolation='none')"
     ],
     "language": "python",
     "metadata": {},
     "outputs": [],
     "prompt_number": 215
    },
    {
     "cell_type": "code",
     "collapsed": false,
     "input": [
      "# IMAGE_FILE = '/home/jason/Downloads/train/trichodesmium_bowtie/104373.jpg'\n",
      "# IMAGE_FILE = '/home/jason/Downloads/train/tunicate_salp_chains/111699.jpg'\n",
      "# IMAGE_FILE = '/home/jason/Downloads/train/protist_star/101029.jpg'\n",
      "# IMAGE_FILE = '/home/jason/Downloads/train/artifacts_edge/106668.jpg'\n",
      "IMAGE_FILE = '/home/jason/Downloads/train/ctenophore_cydippid_tentacles/111083.jpg'\n",
      "\n",
      "im = 255 - cv2.imread(IMAGE_FILE, cv2.IMREAD_GRAYSCALE)\n",
      "\n",
      "im_n, feat = pp.get_features(IMAGE_FILE, OUT_SHAPE, verbose=True,\n",
      "                             zoom_musig=(1, 0.02),\n",
      "                             rotation_musig=(0, ),\n",
      "                             shear_musig=(0, 10),\n",
      "                             translation_musig=(0, 2))\n",
      "                             \n",
      "imshow(im_n)\n"
     ],
     "language": "python",
     "metadata": {},
     "outputs": [
      {
       "output_type": "stream",
       "stream": "stdout",
       "text": [
        "Rotate: 65.7434376082\n",
        "Zoom: 1.04918032787\n",
        "Perturb Params:\n",
        "Scale: (1.0152942369407867, 0.9897067178671803)\n",
        "Rotation: -20.7915851502\n",
        "Shear: -6.97297546796\n",
        "Translation: (1.871842052698634, -0.20935226872325471)\n"
       ]
      },
      {
       "metadata": {},
       "output_type": "pyout",
       "prompt_number": 226,
       "text": [
        "<matplotlib.image.AxesImage at 0x7fdb550d1690>"
       ]
      },
      {
       "metadata": {},
       "output_type": "display_data",
       "png": "[encoded data removed]",
       "text": [
        "<matplotlib.figure.Figure at 0x7fdb555dfcd0>"
       ]
      }
     ],
     "prompt_number": 226
    },
    {
     "cell_type": "code",
     "collapsed": false,
     "input": [],
     "language": "python",
     "metadata": {},
     "outputs": []
    }
   ],
   "metadata": {}
  }
 ]
}