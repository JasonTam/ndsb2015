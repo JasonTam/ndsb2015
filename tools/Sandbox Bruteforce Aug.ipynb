{
 "metadata": {
  "name": "",
  "signature": "sha256:28c6d75edd4f9adb3d173823ad23a05b44ead37c98ef339d91f7e1c273e7554f"
 },
 "nbformat": 3,
 "nbformat_minor": 0,
 "worksheets": [
  {
   "cells": [
    {
     "cell_type": "code",
     "collapsed": false,
     "input": [
      "from subprocess import Popen, PIPE, STDOUT\n",
      "import re\n",
      "import my_io\n",
      "import time\n",
      "import sys"
     ],
     "language": "python",
     "metadata": {},
     "outputs": [],
     "prompt_number": 6
    },
    {
     "cell_type": "code",
     "collapsed": false,
     "input": [
      "ITERS_PER_EPOCH = 75\n",
      "\n",
      "train_caffe_cmd = ['~/documents/caffe/build/tools/caffe',\n",
      "                   'train',\n",
      "                   '--solver=/media/raid_arr/data/ndsb/config/solver.prototxt',\n",
      "                   ]\n",
      "                   \n",
      "p = Popen(train_caffe_cmd, stdout = PIPE, \n",
      "        stderr = STDOUT, shell = True)\n",
      "while True:\n",
      "    line = p.stdout.readline()\n",
      "    if not line: break\n",
      "    ii_re = re.search(r'Iteration (\\d+), loss', line)\n",
      "    if ii_re and int(ii_re.groups()[0]) % ITERS_PER_EPOCH == 0:\n",
      "        print 'Approx 1 epoch has passed - time to re-augment'\n",
      "        my_io.create_aug_db(orig_db='/dev/shm/train0_lmdb',\n",
      "                            aug_db='/dev/shm/train0_aug_lmdb')\n",
      "    "
     ],
     "language": "python",
     "metadata": {},
     "outputs": [],
     "prompt_number": 4
    },
    {
     "cell_type": "code",
     "collapsed": false,
     "input": [
      "ITERS_PER_EPOCH = 75\n",
      "with open('/tmp/my_caffe_log.txt', 'r') as f:\n",
      "    while True: \n",
      "        line = f.readline()\n",
      "        if not line:\n",
      "            break\n",
      "    while True:\n",
      "        line = f.readline()\n",
      "        if not line: \n",
      "            time.sleep(5)\n",
      "        ii_re = re.search(r'Iteration (\\d+), loss', line)\n",
      "        if ii_re and int(ii_re.groups()[0]) % ITERS_PER_EPOCH == 0:\n",
      "            print 'Approx 1 epoch has passed - time to re-augment'\n",
      "            sys.stdout.flush()\n",
      "            my_io.create_aug_db()\n",
      "\n",
      "# my_io.create_aug_db()"
     ],
     "language": "python",
     "metadata": {},
     "outputs": [
      {
       "output_type": "stream",
       "stream": "stdout",
       "text": [
        "Approx 1 epoch has passed - time to re-augment\n"
       ]
      },
      {
       "output_type": "stream",
       "stream": "stdout",
       "text": [
        "Processed: 0\n",
        "Processed:"
       ]
      },
      {
       "output_type": "stream",
       "stream": "stdout",
       "text": [
        " 5000\n",
        "Processed:"
       ]
      },
      {
       "output_type": "stream",
       "stream": "stdout",
       "text": [
        " 10000\n",
        "Processed:"
       ]
      },
      {
       "output_type": "stream",
       "stream": "stdout",
       "text": [
        " 15000\n",
        "Processed:"
       ]
      },
      {
       "output_type": "stream",
       "stream": "stdout",
       "text": [
        " 20000\n",
        "Conversion of images from /dev/shm/train0_lmdb to /dev/shm/train0_aug_lmdb took 12.7031600475 sec"
       ]
      },
      {
       "output_type": "stream",
       "stream": "stdout",
       "text": [
        "\n",
        "Approx 1 epoch has passed - time to re-augment"
       ]
      },
      {
       "output_type": "stream",
       "stream": "stdout",
       "text": [
        "\n"
       ]
      },
      {
       "output_type": "stream",
       "stream": "stdout",
       "text": [
        "Processed: 0\n",
        "Processed:"
       ]
      },
      {
       "output_type": "stream",
       "stream": "stdout",
       "text": [
        " 5000\n",
        "Processed:"
       ]
      },
      {
       "output_type": "stream",
       "stream": "stdout",
       "text": [
        " 10000\n",
        "Processed:"
       ]
      },
      {
       "output_type": "stream",
       "stream": "stdout",
       "text": [
        " 15000\n",
        "Processed:"
       ]
      },
      {
       "output_type": "stream",
       "stream": "stdout",
       "text": [
        " 20000\n",
        "Conversion of images from /dev/shm/train0_lmdb to /dev/shm/train0_aug_lmdb took 12.6938509941 sec"
       ]
      },
      {
       "output_type": "stream",
       "stream": "stdout",
       "text": [
        "\n",
        "Approx 1 epoch has passed - time to re-augment"
       ]
      },
      {
       "output_type": "stream",
       "stream": "stdout",
       "text": [
        "\n"
       ]
      },
      {
       "output_type": "stream",
       "stream": "stdout",
       "text": [
        "Processed: 0\n",
        "Processed:"
       ]
      },
      {
       "output_type": "stream",
       "stream": "stdout",
       "text": [
        " 5000\n",
        "Processed:"
       ]
      },
      {
       "output_type": "stream",
       "stream": "stdout",
       "text": [
        " 10000\n",
        "Processed:"
       ]
      },
      {
       "output_type": "stream",
       "stream": "stdout",
       "text": [
        " 15000\n",
        "Processed:"
       ]
      },
      {
       "output_type": "stream",
       "stream": "stdout",
       "text": [
        " 20000\n",
        "Conversion of images from /dev/shm/train0_lmdb to /dev/shm/train0_aug_lmdb took 12.7027108669 sec"
       ]
      },
      {
       "output_type": "stream",
       "stream": "stdout",
       "text": [
        "\n",
        "Approx 1 epoch has passed - time to re-augment"
       ]
      },
      {
       "output_type": "stream",
       "stream": "stdout",
       "text": [
        "\n"
       ]
      },
      {
       "output_type": "stream",
       "stream": "stdout",
       "text": [
        "Processed: 0\n",
        "Processed:"
       ]
      },
      {
       "output_type": "stream",
       "stream": "stdout",
       "text": [
        " 5000\n",
        "Processed:"
       ]
      },
      {
       "output_type": "stream",
       "stream": "stdout",
       "text": [
        " 10000\n",
        "Processed:"
       ]
      },
      {
       "output_type": "stream",
       "stream": "stdout",
       "text": [
        " 15000\n",
        "Processed:"
       ]
      },
      {
       "output_type": "stream",
       "stream": "stdout",
       "text": [
        " 20000\n",
        "Conversion of images from /dev/shm/train0_lmdb to /dev/shm/train0_aug_lmdb took 12.716848135 sec"
       ]
      },
      {
       "output_type": "stream",
       "stream": "stdout",
       "text": [
        "\n"
       ]
      },
      {
       "ename": "KeyboardInterrupt",
       "evalue": "",
       "output_type": "pyerr",
       "traceback": [
        "\u001b[1;31m---------------------------------------------------------------------------\u001b[0m\n\u001b[1;31mKeyboardInterrupt\u001b[0m                         Traceback (most recent call last)",
        "\u001b[1;32m<ipython-input-16-262b0d3567b1>\u001b[0m in \u001b[0;36m<module>\u001b[1;34m()\u001b[0m\n\u001b[0;32m      8\u001b[0m         \u001b[0mline\u001b[0m \u001b[1;33m=\u001b[0m \u001b[0mf\u001b[0m\u001b[1;33m.\u001b[0m\u001b[0mreadline\u001b[0m\u001b[1;33m(\u001b[0m\u001b[1;33m)\u001b[0m\u001b[1;33m\u001b[0m\u001b[0m\n\u001b[0;32m      9\u001b[0m         \u001b[1;32mif\u001b[0m \u001b[1;32mnot\u001b[0m \u001b[0mline\u001b[0m\u001b[1;33m:\u001b[0m\u001b[1;33m\u001b[0m\u001b[0m\n\u001b[1;32m---> 10\u001b[1;33m             \u001b[0mtime\u001b[0m\u001b[1;33m.\u001b[0m\u001b[0msleep\u001b[0m\u001b[1;33m(\u001b[0m\u001b[1;36m5\u001b[0m\u001b[1;33m)\u001b[0m\u001b[1;33m\u001b[0m\u001b[0m\n\u001b[0m\u001b[0;32m     11\u001b[0m         \u001b[0mii_re\u001b[0m \u001b[1;33m=\u001b[0m \u001b[0mre\u001b[0m\u001b[1;33m.\u001b[0m\u001b[0msearch\u001b[0m\u001b[1;33m(\u001b[0m\u001b[1;34mr'Iteration (\\d+), loss'\u001b[0m\u001b[1;33m,\u001b[0m \u001b[0mline\u001b[0m\u001b[1;33m)\u001b[0m\u001b[1;33m\u001b[0m\u001b[0m\n\u001b[0;32m     12\u001b[0m         \u001b[1;32mif\u001b[0m \u001b[0mii_re\u001b[0m \u001b[1;32mand\u001b[0m \u001b[0mint\u001b[0m\u001b[1;33m(\u001b[0m\u001b[0mii_re\u001b[0m\u001b[1;33m.\u001b[0m\u001b[0mgroups\u001b[0m\u001b[1;33m(\u001b[0m\u001b[1;33m)\u001b[0m\u001b[1;33m[\u001b[0m\u001b[1;36m0\u001b[0m\u001b[1;33m]\u001b[0m\u001b[1;33m)\u001b[0m \u001b[1;33m%\u001b[0m \u001b[0mITERS_PER_EPOCH\u001b[0m \u001b[1;33m==\u001b[0m \u001b[1;36m0\u001b[0m\u001b[1;33m:\u001b[0m\u001b[1;33m\u001b[0m\u001b[0m\n",
        "\u001b[1;31mKeyboardInterrupt\u001b[0m: "
       ]
      }
     ],
     "prompt_number": 16
    },
    {
     "cell_type": "code",
     "collapsed": false,
     "input": [
      "my_io.create_aug_db()"
     ],
     "language": "python",
     "metadata": {},
     "outputs": [
      {
       "output_type": "stream",
       "stream": "stdout",
       "text": [
        "Processed: 0\n",
        "Processed:"
       ]
      },
      {
       "output_type": "stream",
       "stream": "stdout",
       "text": [
        " 5000\n",
        "Processed:"
       ]
      },
      {
       "output_type": "stream",
       "stream": "stdout",
       "text": [
        " 10000\n",
        "Processed:"
       ]
      },
      {
       "output_type": "stream",
       "stream": "stdout",
       "text": [
        " 15000\n",
        "Processed:"
       ]
      },
      {
       "output_type": "stream",
       "stream": "stdout",
       "text": [
        " 20000\n",
        "Conversion of images from /dev/shm/train0_lmdb to /dev/shm/train0_aug_lmdb took 12.6841449738 sec"
       ]
      },
      {
       "output_type": "stream",
       "stream": "stdout",
       "text": [
        "\n"
       ]
      }
     ],
     "prompt_number": 15
    }
   ],
   "metadata": {}
  }
 ]
}