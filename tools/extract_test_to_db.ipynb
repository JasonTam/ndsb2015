{
 "metadata": {
  "name": "",
  "signature": "sha256:2e32a06af5537be93f7dec35c003ddafa5e73480158f2f71598492f37d2ab87f"
 },
 "nbformat": 3,
 "nbformat_minor": 0,
 "worksheets": [
  {
   "cells": [
    {
     "cell_type": "code",
     "collapsed": false,
     "input": [
      "import my_io\n",
      "reload(my_io)\n",
      "import glob\n",
      "import os\n",
      "\n",
      "import warnings\n",
      "warnings.filterwarnings('ignore')\n",
      "\n",
      "TEST_DIR = '/media/raid_arr/data/ndsb/test'\n",
      "OUT_DIR = '/media/raid_arr/data/ndsb/test_final'\n",
      "\n",
      "OUT_SHAPE = (64, 64)"
     ],
     "language": "python",
     "metadata": {},
     "outputs": [],
     "prompt_number": 1
    },
    {
     "cell_type": "code",
     "collapsed": false,
     "input": [
      "im_files = glob.glob(os.path.join(TEST_DIR, '*.jpg'))"
     ],
     "language": "python",
     "metadata": {},
     "outputs": [],
     "prompt_number": 2
    },
    {
     "cell_type": "code",
     "collapsed": false,
     "input": [
      "my_io.multi_extract(im_files, OUT_DIR,\n",
      "                    backend='lmdb', perturb=False,\n",
      "                    out_shape=OUT_SHAPE,\n",
      "                    transfer_feats=True, transfer_lbls=False,\n",
      "                    mode='test',\n",
      "                    verbose=True)"
     ],
     "language": "python",
     "metadata": {},
     "outputs": [
      {
       "output_type": "stream",
       "stream": "stdout",
       "text": [
        "Multiproc extraction: 1600.34047508\n",
        "Transfering feats to another db\n",
        "Feat transfer done:"
       ]
      },
      {
       "output_type": "stream",
       "stream": "stdout",
       "text": [
        " 25.8408498764\n"
       ]
      }
     ],
     "prompt_number": 4
    },
    {
     "cell_type": "heading",
     "level": 1,
     "metadata": {},
     "source": [
      "Train set redo"
     ]
    },
    {
     "cell_type": "code",
     "collapsed": false,
     "input": [
      "import my_io\n",
      "reload(my_io)\n",
      "import glob\n",
      "import os\n",
      "import numpy as np\n",
      "\n",
      "import warnings\n",
      "warnings.filterwarnings('ignore')\n",
      "\n",
      "TRAIN_FOLD_PATH = '/media/raid_arr/tmp/train0_norm_lmdb'    # Output train\n",
      "TEST_FOLD_PATH = '/media/raid_arr/tmp/test0_norm_lmdb'    # Output test\n",
      "\n",
      "TRAIN_FOLD_TXT = '/media/raid_arr/data/ndsb/folds/train0.txt'\n",
      "TEST_FOLD_TXT = '/media/raid_arr/data/ndsb/folds/test0.txt'\n",
      "\n",
      "OUT_SHAPE = (64, 64)"
     ],
     "language": "python",
     "metadata": {},
     "outputs": [],
     "prompt_number": 1
    },
    {
     "cell_type": "code",
     "collapsed": false,
     "input": [
      "# Grab the image paths from the folds that were already generated\n",
      "train_fold_paths = np.loadtxt(TRAIN_FOLD_TXT, delimiter='\\t', dtype=str)[:, 0]\n",
      "test_fold_paths = np.loadtxt(TEST_FOLD_TXT, delimiter='\\t', dtype=str)[:, 0]\n",
      "np.random.shuffle(train_fold_paths)\n",
      "np.random.shuffle(test_fold_paths)"
     ],
     "language": "python",
     "metadata": {},
     "outputs": [],
     "prompt_number": 3
    },
    {
     "cell_type": "code",
     "collapsed": false,
     "input": [
      "my_io.multi_extract(test_fold_paths, TEST_FOLD_PATH,\n",
      "                    backend='lmdb', perturb=False,\n",
      "                    out_shape=OUT_SHAPE,\n",
      "                    transfer_feats=True, transfer_lbls=True,\n",
      "                    mode='train',\n",
      "                    verbose=True)"
     ],
     "language": "python",
     "metadata": {},
     "outputs": [
      {
       "output_type": "stream",
       "stream": "stdout",
       "text": [
        "Multiproc extraction: 18.285394907\n",
        "Transfering feats to another db\n",
        "Feat transfer done:"
       ]
      },
      {
       "output_type": "stream",
       "stream": "stdout",
       "text": [
        " 1.64316296577\n",
        "Transfering parent labels to another db\n",
        "Parent labels transfer done:"
       ]
      },
      {
       "output_type": "stream",
       "stream": "stdout",
       "text": [
        " 1.49681401253\n"
       ]
      }
     ],
     "prompt_number": 4
    },
    {
     "cell_type": "code",
     "collapsed": false,
     "input": [
      "my_io.multi_extract(train_fold_paths, TRAIN_FOLD_PATH,\n",
      "                    backend='lmdb', perturb=False,\n",
      "                    out_shape=OUT_SHAPE,\n",
      "                    transfer_feats=True, transfer_lbls=True,\n",
      "                    mode='train',\n",
      "                    verbose=True)"
     ],
     "language": "python",
     "metadata": {},
     "outputs": [
      {
       "output_type": "stream",
       "stream": "stdout",
       "text": [
        "Multiproc extraction: 61.6839718819\n",
        "Transfering feats to another db\n",
        "Feat transfer done:"
       ]
      }
     ]
    },
    {
     "cell_type": "heading",
     "level": 4,
     "metadata": {},
     "source": [
      "Make sure the images in db look sensible"
     ]
    },
    {
     "cell_type": "code",
     "collapsed": false,
     "input": [
      "import matplotlib.pyplot as plt\n",
      "%matplotlib inline\n",
      "imshow = lambda im: plt.imshow(im, cmap='gray', interpolation='none')\n",
      "\n",
      "\n",
      "data = my_io.load_lmdb(TEST_FOLD_PATH)\n"
     ],
     "language": "python",
     "metadata": {},
     "outputs": [],
     "prompt_number": 44
    },
    {
     "cell_type": "code",
     "collapsed": false,
     "input": [
      "(image_path, image, label) = zip(*data)"
     ],
     "language": "python",
     "metadata": {},
     "outputs": [],
     "prompt_number": 45
    },
    {
     "cell_type": "code",
     "collapsed": false,
     "input": [
      "im = np.squeeze(image[10])\n",
      "imshow(im)"
     ],
     "language": "python",
     "metadata": {},
     "outputs": [
      {
       "metadata": {},
       "output_type": "pyout",
       "prompt_number": 47,
       "text": [
        "<matplotlib.image.AxesImage at 0x7f945c3aca50>"
       ]
      },
      {
       "metadata": {},
       "output_type": "display_data",
       "png": "[encoded data removed]",
       "text": [
        "<matplotlib.figure.Figure at 0x7f945c3bd650>"
       ]
      }
     ],
     "prompt_number": 47
    },
    {
     "cell_type": "heading",
     "level": 2,
     "metadata": {},
     "source": [
      "Make Specialists db"
     ]
    },
    {
     "cell_type": "code",
     "collapsed": false,
     "input": [
      "import my_io\n",
      "reload(my_io)\n",
      "import glob\n",
      "import os\n",
      "import numpy as np\n",
      "\n",
      "import warnings\n",
      "warnings.filterwarnings('ignore')\n",
      "\n",
      "TRAIN_FOLD_PATH = '/media/raid_arr/tmp/train0_norm_lmdb'    # Output train\n",
      "TEST_FOLD_PATH = '/media/raid_arr/tmp/test0_norm_lmdb'    # Output test\n",
      "\n",
      "TRAIN_FOLD_TXT = '/media/raid_arr/data/ndsb/folds/train0.txt'\n",
      "TEST_FOLD_TXT = '/media/raid_arr/data/ndsb/folds/test0.txt'\n",
      "\n",
      "OUT_SHAPE = (64, 64)\n",
      "# Grab the image paths from the folds that were already generated\n",
      "train_fold_paths = np.loadtxt(TRAIN_FOLD_TXT, delimiter='\\t', dtype=str)[:, 0]\n",
      "test_fold_paths = np.loadtxt(TEST_FOLD_TXT, delimiter='\\t', dtype=str)[:, 0]\n",
      "np.random.shuffle(train_fold_paths)\n",
      "np.random.shuffle(test_fold_paths)"
     ],
     "language": "python",
     "metadata": {},
     "outputs": [],
     "prompt_number": 24
    },
    {
     "cell_type": "code",
     "collapsed": false,
     "input": [
      "my_io.multi_extract(test_fold_paths, TEST_FOLD_PATH,\n",
      "                    backend='lmdb', perturb=False,\n",
      "                    out_shape=OUT_SHAPE,\n",
      "                    transfer_feats=False,\n",
      "                    transfer_plbls=False,\n",
      "                    transfer_splbls=True,\n",
      "                    create_specialists=True,\n",
      "                    mode='train',\n",
      "                    verbose=True)"
     ],
     "language": "python",
     "metadata": {},
     "outputs": [
      {
       "output_type": "stream",
       "stream": "stdout",
       "text": [
        "Multiproc extraction: 14.8625891209\n",
        "Creating specialist db\n",
        "Specialist db creation done:"
       ]
      },
      {
       "output_type": "stream",
       "stream": "stdout",
       "text": [
        " 6.63554978371\n",
        "Transfering specialist labels to another db\n",
        "Specialist labels transfer done:"
       ]
      },
      {
       "output_type": "stream",
       "stream": "stdout",
       "text": [
        " 1.27490520477\n"
       ]
      }
     ],
     "prompt_number": 25
    }
   ],
   "metadata": {}
  }
 ]
}