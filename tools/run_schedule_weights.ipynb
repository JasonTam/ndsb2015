{
 "metadata": {
  "name": "",
  "signature": "sha256:a6e9840db92b74f45ca7b70be73c179627e2bc88930b30788c5a520bd6d0a99a"
 },
 "nbformat": 3,
 "nbformat_minor": 0,
 "worksheets": [
  {
   "cells": [
    {
     "cell_type": "code",
     "collapsed": false,
     "input": [
      "import subprocess\n",
      "\n",
      "TRAIN_SCRIPT = '../train_vanilla.sh'\n",
      "RESUME_SCRIPT = '../resume_training.sh'\n",
      "# SOLVER = '../solver_vanilla.prototxt'  # don't need to change this since we're modifying the net in place\n",
      "# NET = '../train_val_vanilla.prototxt'\n",
      "NET = '../LOL.prototxt'"
     ],
     "language": "python",
     "metadata": {},
     "outputs": [],
     "prompt_number": 3
    },
    {
     "cell_type": "code",
     "collapsed": false,
     "input": [
      "def iter_to_epoch(ii):\n",
      "    \"\"\"\n",
      "    Convert the iteration # to an approximate epoch\n",
      "    ii: iteration\n",
      "    \"\"\"\n",
      "    k = 30336.0/256    # Iterations per epoch (# training / batch size)\n",
      "    return ii/k\n",
      "\n",
      "def w_schedule(t):\n",
      "    \"\"\"\n",
      "    Weight of the PL as a fn of iter\n",
      "    t: epoch\n",
      "    \"\"\"\n",
      "    wf = 3.0\n",
      "    t1 = 100\n",
      "    t2 = 600\n",
      "    if t < t1:\n",
      "        w = 0.0\n",
      "    elif t > t2:\n",
      "        w = wf\n",
      "    else:\n",
      "        w = (float(t)-t1)/(t2-t1)\n",
      "    return w\n",
      "\n",
      "def write_weight_to_config(w, f_path=NET):\n",
      "    with open(f_path, 'r') as f:\n",
      "    # read a list of lines into data\n",
      "        f_data = f.readlines()\n",
      "\n",
      "    # Change the line with the PL loss weight\n",
      "    line_n = 549    # The line number we're going to replace\n",
      "    new_line = '  loss_weight: ' + str(w) + '\\n'\n",
      "    f_data[line_n] = new_line\n",
      "\n",
      "    # and write everything back\n",
      "    with open(f_path, 'w') as f:\n",
      "        f.writelines(f_data)\n",
      "    return f_path\n",
      "    \n",
      "            \n",
      "        "
     ],
     "language": "python",
     "metadata": {},
     "outputs": [],
     "prompt_number": 7
    },
    {
     "cell_type": "code",
     "collapsed": false,
     "input": [
      "write_weight_to_config(0.00)"
     ],
     "language": "python",
     "metadata": {},
     "outputs": [
      {
       "metadata": {},
       "output_type": "pyout",
       "prompt_number": 9,
       "text": [
        "'../LOL.prototxt'"
       ]
      }
     ],
     "prompt_number": 9
    }
   ],
   "metadata": {}
  }
 ]
}