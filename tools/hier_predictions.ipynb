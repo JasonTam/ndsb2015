{
 "metadata": {
  "name": "",
  "signature": "sha256:6d273879ed2c8a57498aa8cbf252bb9eadb408d3e22f0da7a796c0d57e20747c"
 },
 "nbformat": 3,
 "nbformat_minor": 0,
 "worksheets": [
  {
   "cells": [
    {
     "cell_type": "code",
     "collapsed": false,
     "input": [
      "import numpy as np\n",
      "import matplotlib.pyplot as plt\n",
      "import time\n",
      "import tools.my_io as my_io\n",
      "%matplotlib inline\n",
      "\n",
      "import caffe\n",
      "\n",
      "# Set the right path to your model definition file, pretrained model weights,\n",
      "# and the image you would like to classify.\n",
      "MODEL_FILE = '/media/raid_arr/data/ndsb/config/deploy_cnn_v3_maxout_supersparse.prototxt'\n",
      "PRETRAINED = '/media/raid_arr/data/ndsb/models/zoomed_out_vanilla_smallmaxout/simple_fold0_iter_3000.caffemodel'\n",
      "\n",
      "MEAN_VALUE = 23\n",
      "IMAGE_FILE = '/afs/ee.cooper.edu/user/t/a/tam8/data/ndsb/train/acantharia_protist/100224.jpg'\n",
      "VALIDATION_DB = '/media/raid_arr/tmp/test0_norm_lmdb'\n",
      "\n",
      "\n"
     ],
     "language": "python",
     "metadata": {},
     "outputs": [
      {
       "ename": "ImportError",
       "evalue": "No module named tools.my_io",
       "output_type": "pyerr",
       "traceback": [
        "\u001b[1;31m---------------------------------------------------------------------------\u001b[0m\n\u001b[1;31mImportError\u001b[0m                               Traceback (most recent call last)",
        "\u001b[1;32m<ipython-input-108-56676cfc6f3b>\u001b[0m in \u001b[0;36m<module>\u001b[1;34m()\u001b[0m\n\u001b[0;32m      2\u001b[0m \u001b[1;32mimport\u001b[0m \u001b[0mmatplotlib\u001b[0m\u001b[1;33m.\u001b[0m\u001b[0mpyplot\u001b[0m \u001b[1;32mas\u001b[0m \u001b[0mplt\u001b[0m\u001b[1;33m\u001b[0m\u001b[0m\n\u001b[0;32m      3\u001b[0m \u001b[1;32mimport\u001b[0m \u001b[0mtime\u001b[0m\u001b[1;33m\u001b[0m\u001b[0m\n\u001b[1;32m----> 4\u001b[1;33m \u001b[1;32mimport\u001b[0m \u001b[0mtools\u001b[0m\u001b[1;33m.\u001b[0m\u001b[0mmy_io\u001b[0m \u001b[1;32mas\u001b[0m \u001b[0mmy_io\u001b[0m\u001b[1;33m\u001b[0m\u001b[0m\n\u001b[0m\u001b[0;32m      5\u001b[0m \u001b[0mget_ipython\u001b[0m\u001b[1;33m(\u001b[0m\u001b[1;33m)\u001b[0m\u001b[1;33m.\u001b[0m\u001b[0mmagic\u001b[0m\u001b[1;33m(\u001b[0m\u001b[1;34mu'matplotlib inline'\u001b[0m\u001b[1;33m)\u001b[0m\u001b[1;33m\u001b[0m\u001b[0m\n\u001b[0;32m      6\u001b[0m \u001b[1;33m\u001b[0m\u001b[0m\n",
        "\u001b[1;31mImportError\u001b[0m: No module named tools.my_io"
       ]
      }
     ],
     "prompt_number": 108
    },
    {
     "cell_type": "code",
     "collapsed": false,
     "input": [
      "import numpy as np\n",
      "# DUMMY DATA\n",
      "n_obs = 615\n",
      "# 0 8\n",
      "# 1 59\n",
      "# 2 14\n",
      "# 3 33\n",
      "# 4 7\n",
      "\n",
      "fine_preds = {\n",
      "    0: np.random.uniform(size=(n_obs, 8)),\n",
      "    1: np.random.uniform(size=(n_obs, 59)),\n",
      "    2: np.random.uniform(size=(n_obs, 14)),\n",
      "    3: np.random.uniform(size=(n_obs, 33)),\n",
      "    4: np.random.uniform(size=(n_obs, 7)),\n",
      "}\n",
      "for k, v in fine_preds.items():\n",
      "    fine_preds[k] = v/np.tile(v.sum(axis=1), (v.shape[1], 1)).T\n",
      "\n",
      "coarse_pred = np.random.uniform(size=(n_obs, 5))\n",
      "coarse_pred = coarse_pred/np.tile(coarse_pred.sum(axis=1), \n",
      "                                  (coarse_pred.shape[1], 1)).T\n"
     ],
     "language": "python",
     "metadata": {},
     "outputs": [],
     "prompt_number": 120
    },
    {
     "cell_type": "code",
     "collapsed": false,
     "input": [
      "# each column scales the corresponding fine prediction\n",
      "# final_pred = np.zeros((n_obs, 121))\n",
      "\n",
      "def aggregate_fine_pred(coarse_pred, fine_pred_d):\n",
      "    \"\"\"\n",
      "    fine_pred_d should have keys corresponding to coarse weight index\n",
      "    \"\"\"\n",
      "    pred_list = []\n",
      "    for col in range(coarse_pred.shape[1]):\n",
      "        pred_list.append(coarse_pred[:, col][:, None] * fine_preds[col])\n",
      "    final_pred = np.concatenate(pred_list, axis=1)\n",
      "    return final_pred\n",
      "    \n",
      "\n",
      "final_pred = aggregate_fine_pred(coarse_pred, fine_preds)"
     ],
     "language": "python",
     "metadata": {},
     "outputs": [],
     "prompt_number": 136
    },
    {
     "cell_type": "code",
     "collapsed": false,
     "input": [
      "import specialism as sp\n",
      "from le import le\n",
      "import itertools\n",
      "# Sort by the column labels\n",
      "zz = [sp.coarse_to_fine[k] for k in sorted(sp.coarse_to_fine.keys())]\n",
      "qq = list(itertools.chain(*zz))\n"
     ],
     "language": "python",
     "metadata": {},
     "outputs": [],
     "prompt_number": 123
    },
    {
     "cell_type": "code",
     "collapsed": false,
     "input": [
      "final_pred"
     ],
     "language": "python",
     "metadata": {},
     "outputs": [
      {
       "metadata": {},
       "output_type": "pyout",
       "prompt_number": 137,
       "text": [
        "array([[ 0.00942457,  0.00589951,  0.06700011, ...,  0.00769107,\n",
        "         0.01991315,  0.01610762],\n",
        "       [ 0.01317672,  0.00365908,  0.03249153, ...,  0.02474018,\n",
        "         0.0079774 ,  0.00507571],\n",
        "       [ 0.00068839,  0.05821988,  0.00196748, ...,  0.00401103,\n",
        "         0.00222921,  0.00206912],\n",
        "       ..., \n",
        "       [ 0.00339755,  0.00816817,  0.00137667, ...,  0.00429999,\n",
        "         0.0069915 ,  0.00611117],\n",
        "       [ 0.09395989,  0.03621835,  0.02804596, ...,  0.08307418,\n",
        "         0.07553701,  0.02040919],\n",
        "       [ 0.07117556,  0.01101161,  0.05339076, ...,  0.06099452,\n",
        "         0.07806459,  0.00720237]])"
       ]
      }
     ],
     "prompt_number": 137
    },
    {
     "cell_type": "code",
     "collapsed": false,
     "input": [
      "ordered = []\n",
      "\n",
      "for col in qq:\n",
      "    ordered.append(final_pred[:, col])\n",
      "    "
     ],
     "language": "python",
     "metadata": {},
     "outputs": [],
     "prompt_number": 125
    },
    {
     "cell_type": "code",
     "collapsed": false,
     "input": [
      "ordered_pred = np.array(ordered).T"
     ],
     "language": "python",
     "metadata": {},
     "outputs": [],
     "prompt_number": 127
    },
    {
     "cell_type": "code",
     "collapsed": false,
     "input": [
      "ordered_pred.shape"
     ],
     "language": "python",
     "metadata": {},
     "outputs": [
      {
       "metadata": {},
       "output_type": "pyout",
       "prompt_number": 129,
       "text": [
        "(615, 121)"
       ]
      }
     ],
     "prompt_number": 129
    }
   ],
   "metadata": {}
  }
 ]
}