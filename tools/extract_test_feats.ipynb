{
 "metadata": {
  "name": "",
  "signature": "sha256:c9bb2a4b6b191aeabb4634724b1e09e0e051507c6d696a72c0f487df2270a07d"
 },
 "nbformat": 3,
 "nbformat_minor": 0,
 "worksheets": [
  {
   "cells": [
    {
     "cell_type": "code",
     "collapsed": false,
     "input": [
      "import my_io\n",
      "reload(my_io)\n",
      "import glob\n",
      "import os\n",
      "\n",
      "import warnings\n",
      "warnings.filterwarnings('ignore')\n",
      "\n",
      "TEST_DIR = '/media/raid_arr/data/ndsb/test'\n",
      "OUT_DIR = '/media/raid_arr/data/ndsb/test_final'\n",
      "\n",
      "OUT_SHAPE = (64, 64)"
     ],
     "language": "python",
     "metadata": {},
     "outputs": [],
     "prompt_number": 1
    },
    {
     "cell_type": "code",
     "collapsed": false,
     "input": [
      "im_files = glob.glob(os.path.join(TEST_DIR, '*.jpg'))"
     ],
     "language": "python",
     "metadata": {},
     "outputs": [],
     "prompt_number": 2
    },
    {
     "cell_type": "code",
     "collapsed": false,
     "input": [
      "my_io.multi_extract(im_files, OUT_DIR,\n",
      "                    backend='lmdb', perturb=False,\n",
      "                    out_shape=OUT_SHAPE,\n",
      "                    transfer_feats=True, transfer_lbls=False,\n",
      "                    mode='test',\n",
      "                    verbose=True)"
     ],
     "language": "python",
     "metadata": {},
     "outputs": [
      {
       "output_type": "stream",
       "stream": "stdout",
       "text": [
        "Multiproc extraction: 1600.34047508\n",
        "Transfering feats to another db\n",
        "Feat transfer done:"
       ]
      },
      {
       "output_type": "stream",
       "stream": "stdout",
       "text": [
        " 25.8408498764\n"
       ]
      }
     ],
     "prompt_number": 4
    }
   ],
   "metadata": {}
  }
 ]
}