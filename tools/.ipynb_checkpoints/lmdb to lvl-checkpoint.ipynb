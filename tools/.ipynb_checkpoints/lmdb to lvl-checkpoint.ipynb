{
 "metadata": {
  "name": "",
  "signature": "sha256:56d6087ce907a59c578e888ec2c743d4ebc40596045f4360dd3f3243dce11c81"
 },
 "nbformat": 3,
 "nbformat_minor": 0,
 "worksheets": [
  {
   "cells": [
    {
     "cell_type": "code",
     "collapsed": false,
     "input": [
      "import plyvel\n",
      "import lmdb\n",
      "from time import time"
     ],
     "language": "python",
     "metadata": {},
     "outputs": [],
     "prompt_number": 3
    },
    {
     "cell_type": "code",
     "collapsed": false,
     "input": [
      "DB_PATH = '/media/raid_arr/data/ndsb/folds/train0_lmdb/'\n",
      "OUT_PATH = '/media/raid_arr/data/ndsb/folds/train0_lvl/'\n",
      "\n",
      "db_lmdb = lmdb.open(DB_PATH)\n",
      "db_lvl = plyvel.DB(OUT_PATH, create_if_missing=True)\n",
      "\n",
      "tic = time()\n",
      "with db_lmdb.begin() as txn:\n",
      "    for k, v in txn.cursor():\n",
      "        db_lvl.put(k, v)\n",
      "toc = time() - tic\n",
      "print toc"
     ],
     "language": "python",
     "metadata": {},
     "outputs": []
    }
   ],
   "metadata": {}
  }
 ]
}