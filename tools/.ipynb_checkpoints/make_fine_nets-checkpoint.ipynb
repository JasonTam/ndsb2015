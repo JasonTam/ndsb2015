{
 "metadata": {
  "name": "",
  "signature": "sha256:ca800ba4f0290feef669bc8fdb98a83a2d10654bc42314ce1df026149f2b7651"
 },
 "nbformat": 3,
 "nbformat_minor": 0,
 "worksheets": [
  {
   "cells": [
    {
     "cell_type": "code",
     "collapsed": false,
     "input": [
      "\n",
      "\n",
      "COARSE_NET = '/media/raid_arr/data/ndsb/config/hier/cnn_v4_coarse.prototxt'\n",
      "COARSE_SOLVER = '/media/raid_arr/data/ndsb/config/hier/solver_coarse.prototxt'\n",
      "\n"
     ],
     "language": "python",
     "metadata": {},
     "outputs": [],
     "prompt_number": 22
    },
    {
     "cell_type": "code",
     "collapsed": false,
     "input": [
      "import os\n",
      "import shutil as sh\n",
      "import specialism as sp\n",
      "\n",
      "def copy_coarse_to_fine(coarse_net, coarse_solver):\n",
      "    # For each coarse class, prepare a separate net\n",
      "    for c_lbl, f_lbls in sp.coarse_to_fine.items():\n",
      "\n",
      "        #################### Copy over a new network definition\n",
      "        fine_net_path = coarse_net.replace('coarse', 'fine' + str(c_lbl))\n",
      "        sh.copy(coarse_net, fine_net_path)\n",
      "\n",
      "        with open(fine_net_path, 'r') as f:\n",
      "        # read a list of lines into data\n",
      "            f_data = f.readlines()\n",
      "\n",
      "        ####\n",
      "        # Change the data source\n",
      "        new_src = '\\\"/dev/shm/train0_aug_lvl' + '_' + str(c_lbl) + '\\\"'\n",
      "        line_n = 9    # The line number we're going to replace\n",
      "        new_line = '    source: ' + new_src + '\\n'\n",
      "        f_data[line_n] = new_line\n",
      "\n",
      "        # Change number of class prediction output\n",
      "        line_n = 479    # The line number we're going to replace\n",
      "        new_line = '    num_output: ' + str(len(f_lbls)) + '\\n'\n",
      "        f_data[line_n] = new_line\n",
      "\n",
      "        # Change the label to compare to\n",
      "        line_n = 497    # The line number we're going to replace\n",
      "        new_line = '  bottom: ' + '\\\"label2\\\"' + '\\n'\n",
      "        f_data[line_n] = new_line\n",
      "\n",
      "        # and write everything back\n",
      "        with open(fine_net_path, 'w') as f:\n",
      "            f.writelines(f_data)\n",
      "\n",
      "        ##################### Copy over a new Solver definition\n",
      "        fine_solver_path = coarse_solver.replace('coarse', 'fine' + str(c_lbl))\n",
      "        sh.copy(coarse_solver, fine_solver_path)\n",
      "\n",
      "        with open(fine_solver_path, 'r') as f:\n",
      "        # read a list of lines into data\n",
      "            f_data = f.readlines()\n",
      "\n",
      "        ####\n",
      "        # Change the net\n",
      "        line_n = 0    # The line number we're going to replace\n",
      "        new_line = 'net: ' + '\\\"' + fine_net_path + '\\\"' + '\\n'\n",
      "        f_data[line_n] = new_line\n",
      "\n",
      "        line_n = 14    # The line number we're going to replace\n",
      "        f_data[line_n] = f_data[line_n].replace('coarse', 'fine' + str(c_lbl))\n",
      "\n",
      "        # and write everything back\n",
      "        with open(fine_solver_path, 'w') as f:\n",
      "            f.writelines(f_data)\n"
     ],
     "language": "python",
     "metadata": {},
     "outputs": [],
     "prompt_number": 26
    },
    {
     "cell_type": "code",
     "collapsed": false,
     "input": [
      "copy_coarse_to_fine(COARSE_NET, COARSE_SOLVER)"
     ],
     "language": "python",
     "metadata": {},
     "outputs": [],
     "prompt_number": 27
    }
   ],
   "metadata": {}
  }
 ]
}