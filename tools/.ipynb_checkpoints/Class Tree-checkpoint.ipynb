{
 "metadata": {
  "name": "",
  "signature": "sha256:022446e7f7c323499fa31a92cbd7bedb14a5d7642bed6585139d19661b54f5c5"
 },
 "nbformat": 3,
 "nbformat_minor": 0,
 "worksheets": [
  {
   "cells": [
    {
     "cell_type": "code",
     "collapsed": false,
     "input": [
      "from collections import defaultdict\n",
      "from itertools import takewhile\n",
      "from pprint import pprint\n",
      "\n",
      "DATA_PATH = '../data/chart_tabs.txt'"
     ],
     "language": "python",
     "metadata": {},
     "outputs": [],
     "prompt_number": 1
    },
    {
     "cell_type": "code",
     "collapsed": false,
     "input": [
      "is_tab = '\\t'.__eq__\n",
      "\n",
      "def tree(): return defaultdict(tree)\n",
      "def add(t, path):\n",
      "    for node in path:\n",
      "        t = t[node]\n",
      "def dicts(t): return {k: dicts(t[k]) for k in t}\n",
      "\n",
      "def build_tree(lines):\n",
      "    lines = iter(lines)\n",
      "    path = []\n",
      "    ret = tree()\n",
      "    for line in lines:\n",
      "        entry = line.lstrip()\n",
      "        indent = len(list(takewhile(is_tab, line)))\n",
      "        path[indent:] = [entry]\n",
      "        add(ret, path)\n",
      "    return ret\n",
      "\n",
      "def build_trace(lines):\n",
      "    lines = iter(lines)\n",
      "    path = []\n",
      "    ret = []\n",
      "    for line in lines:\n",
      "        entry = line.lstrip()\n",
      "        indent = len(list(takewhile(is_tab, line)))\n",
      "        path[indent:] = [entry]\n",
      "        if entry[0].lower() == entry[0]:\n",
      "            ret.append(tuple(path[::-1]))\n",
      "    return ret\n"
     ],
     "language": "python",
     "metadata": {},
     "outputs": [],
     "prompt_number": 2
    },
    {
     "cell_type": "code",
     "collapsed": false,
     "input": [
      "with open(DATA_PATH, 'r') as f:\n",
      "    lines = [l.rstrip('\\n') for l in f.readlines()]\n",
      "\n",
      "t = build_tree(lines)\n",
      "trace = build_trace(lines)"
     ],
     "language": "python",
     "metadata": {},
     "outputs": [],
     "prompt_number": 52
    },
    {
     "cell_type": "code",
     "collapsed": false,
     "input": [
      "len(trace)"
     ],
     "language": "python",
     "metadata": {},
     "outputs": [
      {
       "metadata": {},
       "output_type": "pyout",
       "prompt_number": 4,
       "text": [
        "121"
       ]
      }
     ],
     "prompt_number": 4
    },
    {
     "cell_type": "code",
     "collapsed": false,
     "input": [
      "pprint(dicts(t))"
     ],
     "language": "python",
     "metadata": {},
     "outputs": [
      {
       "output_type": "stream",
       "stream": "stdout",
       "text": [
        "{'Omega': {'Artifact': {'artifacts': {}, 'artifacts_edge': {}},\n",
        "           'Plankton': {'Chaetognath': {'chaetognath_non_sagitta': {},\n",
        "                                        'chaetognath_other': {},\n",
        "                                        'chaetognath_sagitta': {}},\n",
        "                        'Crustacean': {'Copepod': {'Copepod_Calnoid': {'Copepod_Calanoid_Large': {'copepod_calanoid_large': {},\n",
        "                                                                                                  'copepod_calanoid_large_side_antennatucked': {}},\n",
        "                                                                       'copepod_calanoid': {},\n",
        "                                                                       'copepod_calanoid_eggs': {},\n",
        "                                                                       'copepod_calanoid_eucalanus': {},\n",
        "                                                                       'copepod_calanoid_flatheads': {},\n",
        "                                                                       'copepod_calanoid_frillyAntennae': {},\n",
        "                                                                       'copepod_calanoid_octomoms': {},\n",
        "                                                                       'copepod_calanoid_small_longantennae': {},\n",
        "                                                                       'copepod_other': {}},\n",
        "                                                   'Cyclopoid_Copepod': {'Cyclopoid_Copepod_Oithona': {'copepod_cyclopoid_oithona': {},\n",
        "                                                                                                       'copepod_cyclopoid_oithona_eggs': {}},\n",
        "                                                                         'copepod_cyclopoid_copilia': {}}},\n",
        "                                       'Shrimp-like': {'Decapod': {'decapods': {},\n",
        "                                                                   'shrimp_caridean': {},\n",
        "                                                                   'shrimp_sergestidae': {},\n",
        "                                                                   'shrimp_zoea': {}},\n",
        "                                                       'Euphauslid': {'euphausiids': {},\n",
        "                                                                      'euphausiids_young': {}},\n",
        "                                                       'shrimp-like_other': {}},\n",
        "                                       'amphipods': {},\n",
        "                                       'crustacean_other': {},\n",
        "                                       'stomatopod': {}},\n",
        "                        'Detritus': {'detritus_blob': {},\n",
        "                                     'detritus_filamentous': {},\n",
        "                                     'detritus_other': {},\n",
        "                                     'fecal_pellet': {}},\n",
        "                        'Diatom': {'diatom_chain_string': {},\n",
        "                                   'diatom_chain_tube': {}},\n",
        "                        'Fish': {'fish_larvae_deep_body': {},\n",
        "                                 'fish_larvae_leptocephali': {},\n",
        "                                 'fish_larvae_medium_body': {},\n",
        "                                 'fish_larvae_myctophids': {},\n",
        "                                 'fish_larvae_thin_body': {},\n",
        "                                 'fish_larvae_very_thin_body': {}},\n",
        "                        'Gastropod': {'Pteropod': {'pteropod_butterfly': {},\n",
        "                                                   'pteropod_theco_dev_seq': {},\n",
        "                                                   'pteropod_triangle': {}},\n",
        "                                      'heteropod': {}},\n",
        "                        'Gelatinous_Zooplankton': {'Ctenophore': {'ctenophore_cestid': {},\n",
        "                                                                  'ctenophore_cydippid_no_tentacles': {},\n",
        "                                                                  'ctenophore_cydippid_tentacles': {},\n",
        "                                                                  'ctenophore_lobate': {}},\n",
        "                                                   'Hydromedusae': {'Hydromedusae_Narcomedusae': {'Hydromedusae_Haliscera  ': {'hydromedusae_haliscera': {},\n",
        "                                                                                                                               'hydromedusae_haliscera_small_sideview': {}},\n",
        "                                                                                                  'Hydromedusae_Solmaris': {'hydromedusae_narco_young': {},\n",
        "                                                                                                                            'hydromedusae_solmaris': {}},\n",
        "                                                                                                  'Other_Hydromedusae': {'Hydromedusae_Shape_A_Sideview': {'hydromedusae_shapeA': {},\n",
        "                                                                                                                                                           'hydromedusae_shapeA_sideview_small': {},\n",
        "                                                                                                                                                           'hydromedusae_sideview_big': {}},\n",
        "                                                                                                                         'Hydromedusae_Type_D_Bell_And_Tentacles': {'hydromedusae_bell_and_tentacles': {},\n",
        "                                                                                                                                                                    'hydromedusae_typeD': {},\n",
        "                                                                                                                                                                    'hydromedusae_typeD_bell_and_tentacles': {}},\n",
        "                                                                                                                         'hydromedusae_h15': {},\n",
        "                                                                                                                         'hydromedusae_other': {},\n",
        "                                                                                                                         'hydromedusae_partial_dark': {},\n",
        "                                                                                                                         'hydromedusae_shapeB': {},\n",
        "                                                                                                                         'hydromedusae_typeE': {},\n",
        "                                                                                                                         'hydromedusae_typeF': {}},\n",
        "                                                                                                  'hydromedusae_aglaura': {},\n",
        "                                                                                                  'hydromedusae_liriope': {},\n",
        "                                                                                                  'hydromedusae_narco_dark': {},\n",
        "                                                                                                  'hydromedusae_narcomedusae': {},\n",
        "                                                                                                  'hydromedusae_solmundella': {}}},\n",
        "                                                   'Pelagic_Tunicate': {'Appendicularian': {'appendicularian_fritillaridae': {},\n",
        "                                                                                            'appendicularian_s_shape': {},\n",
        "                                                                                            'appendicularian_slight_curve': {},\n",
        "                                                                                            'appendicularian_straight': {}},\n",
        "                                                                        'Tunicate': {'Tunicate_Doliolid': {'tunicate_doliolid': {},\n",
        "                                                                                                           'tunicate_doliolid_nurse': {}},\n",
        "                                                                                     'Tunicate_Salp': {'tunicate_salp': {},\n",
        "                                                                                                       'tunicate_salp_chains': {}},\n",
        "                                                                                     'tunicate_partial': {}}},\n",
        "                                                   'Siphonophore': {'Calycophoran_Siphonophore': {'Calycophoran_Siphonophore_Rocketship': {'siphonophore_calycophoran_rocketship_adult': {},\n",
        "                                                                                                                                           'siphonophore_calycophoran_rocketship_young': {}},\n",
        "                                                                                                  'Calycophoran_Siphonophore_Sphaeronectes': {'siphonophore_calycophoran_sphaeronectes': {},\n",
        "                                                                                                                                              'siphonophore_calycophoran_sphaeronectes_stem': {},\n",
        "                                                                                                                                              'siphonophore_calycophoran_sphaeronectes_young': {}},\n",
        "                                                                                                  'siphonophore_calycophoran_abylidae': {}},\n",
        "                                                                    'Siphonophore_Physonect': {'siphonophore_physonect': {},\n",
        "                                                                                               'siphonophore_physonect_young': {}},\n",
        "                                                                    'siphonophore_other_parts': {},\n",
        "                                                                    'siphonophore_partial': {}},\n",
        "                                                   'ephyra': {},\n",
        "                                                   'jellies_tentacles': {}},\n",
        "                        'Other_Invert_Larvae': {'Echinoderm': {'Echinoderm_Larva_Seastar': {'echinoderm_larva_seastar_bipinnaria': {},\n",
        "                                                                                            'echinoderm_larva_seastar_brachiolaria': {}},\n",
        "                                                               'echinoderm_larva_pluteus_brittlestar': {},\n",
        "                                                               'echinoderm_larva_pluteus_early': {},\n",
        "                                                               'echinoderm_larva_pluteus_typeC': {},\n",
        "                                                               'echinoderm_larva_pluteus_urchin': {},\n",
        "                                                               'echinoderm_seacucumber_auricularia_larva': {},\n",
        "                                                               'echinopluteus': {}},\n",
        "                                                'invertebrate_larvae_other_A': {},\n",
        "                                                'invertebrate_larvae_other_B': {},\n",
        "                                                'tornaria_acorn_worm_larvae': {},\n",
        "                                                'trochophore_larvae': {}},\n",
        "                        'Protist': {'Acantharia_Protist': {'acantharia_protist': {},\n",
        "                                                           'acantharia_protist_big_center': {},\n",
        "                                                           'acantharia_protist_halo': {}},\n",
        "                                    'Protist_Other': {'protist_dark_center': {},\n",
        "                                                      'protist_fuzzy_olive': {},\n",
        "                                                      'protist_other': {},\n",
        "                                                      'protist_star': {}},\n",
        "                                    'Radiolarian_Colony': {'radiolarian_chain': {},\n",
        "                                                           'radiolarian_colony': {}},\n",
        "                                    'protist_noctiluca': {}},\n",
        "                        'Trichodesmium': {'trichodesmium_bowtie': {},\n",
        "                                          'trichodesmium_multiple': {},\n",
        "                                          'trichodesmium_puff': {},\n",
        "                                          'trichodesmium_tuft': {}},\n",
        "                        'Unknown': {'unknown_blobs_and_smudges': {},\n",
        "                                    'unknown_sticks': {},\n",
        "                                    'unknown_unclassified': {}},\n",
        "                        'chordate_type1': {},\n",
        "                        'polychaete': {}}}}\n"
       ]
      }
     ],
     "prompt_number": 36
    },
    {
     "cell_type": "code",
     "collapsed": false,
     "input": [
      "# extending out deep leaves\n",
      "max_len = max([len(p) for p in trace])\n",
      "trace_ext = []\n",
      "for path in trace:\n",
      "    while len(path) < max_len:\n",
      "        path = (path[0],) + path\n",
      "    trace_ext.append(path)"
     ],
     "language": "python",
     "metadata": {},
     "outputs": [],
     "prompt_number": 14
    },
    {
     "cell_type": "code",
     "collapsed": false,
     "input": [
      "for n in range(max_len):\n",
      "    print n, len({p[n] for p in trace_ext})\n",
      "    \n",
      "trace_d = {p[0]: list(p[1:]) for p in trace_ext}"
     ],
     "language": "python",
     "metadata": {},
     "outputs": [
      {
       "output_type": "stream",
       "stream": "stdout",
       "text": [
        "0 121\n",
        "1 117\n",
        "2 101\n",
        "3 72\n",
        "4 48\n",
        "5 15\n",
        "6 2\n",
        "7 1\n"
       ]
      }
     ],
     "prompt_number": 23
    },
    {
     "cell_type": "code",
     "collapsed": false,
     "input": [
      "from sklearn.preprocessing import LabelEncoder\n",
      "depth_le = {n: LabelEncoder().fit(sorted(list({p[n] for p in trace_ext}))) \n",
      "            for n in range(max_len)}\n",
      "\n"
     ],
     "language": "python",
     "metadata": {},
     "outputs": [],
     "prompt_number": 38
    },
    {
     "cell_type": "code",
     "collapsed": false,
     "input": [
      "q = depth_le[5]\n",
      "q.classes_"
     ],
     "language": "python",
     "metadata": {},
     "outputs": [
      {
       "metadata": {},
       "output_type": "pyout",
       "prompt_number": 51,
       "text": [
        "array(['Chaetognath', 'Crustacean', 'Detritus', 'Diatom', 'Fish',\n",
        "       'Gastropod', 'Gelatinous_Zooplankton', 'Other_Invert_Larvae',\n",
        "       'Protist', 'Trichodesmium', 'Unknown', 'artifacts',\n",
        "       'artifacts_edge', 'chordate_type1', 'polychaete'], \n",
        "      dtype='|S22')"
       ]
      }
     ],
     "prompt_number": 51
    }
   ],
   "metadata": {}
  }
 ]
}