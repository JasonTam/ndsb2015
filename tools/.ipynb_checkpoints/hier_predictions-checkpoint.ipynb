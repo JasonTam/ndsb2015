{
 "metadata": {
  "name": "",
  "signature": "sha256:da06a70a8249cf175d49ea97322891c97565decfd4d666944afbfdf78755105e"
 },
 "nbformat": 3,
 "nbformat_minor": 0,
 "worksheets": [
  {
   "cells": [
    {
     "cell_type": "code",
     "collapsed": false,
     "input": [
      "import numpy as np\n",
      "import matplotlib.pyplot as plt\n",
      "import time\n",
      "import tools.my_io as my_io\n",
      "%matplotlib inline\n",
      "\n",
      "import caffe\n",
      "\n",
      "# Set the right path to your model definition file, pretrained model weights,\n",
      "# and the image you would like to classify.\n",
      "MODEL_FILE = '/media/raid_arr/data/ndsb/config/deploy_cnn_v3_maxout_supersparse.prototxt'\n",
      "PRETRAINED = '/media/raid_arr/data/ndsb/models/zoomed_out_vanilla_smallmaxout/simple_fold0_iter_3000.caffemodel'\n",
      "\n",
      "MEAN_VALUE = 23\n",
      "IMAGE_FILE = '/afs/ee.cooper.edu/user/t/a/tam8/data/ndsb/train/acantharia_protist/100224.jpg'\n",
      "VALIDATION_DB = '/media/raid_arr/tmp/test0_norm_lmdb'\n",
      "\n",
      "\n"
     ],
     "language": "python",
     "metadata": {},
     "outputs": [
      {
       "ename": "ImportError",
       "evalue": "No module named tools.my_io",
       "output_type": "pyerr",
       "traceback": [
        "\u001b[1;31m---------------------------------------------------------------------------\u001b[0m\n\u001b[1;31mImportError\u001b[0m                               Traceback (most recent call last)",
        "\u001b[1;32m<ipython-input-108-56676cfc6f3b>\u001b[0m in \u001b[0;36m<module>\u001b[1;34m()\u001b[0m\n\u001b[0;32m      2\u001b[0m \u001b[1;32mimport\u001b[0m \u001b[0mmatplotlib\u001b[0m\u001b[1;33m.\u001b[0m\u001b[0mpyplot\u001b[0m \u001b[1;32mas\u001b[0m \u001b[0mplt\u001b[0m\u001b[1;33m\u001b[0m\u001b[0m\n\u001b[0;32m      3\u001b[0m \u001b[1;32mimport\u001b[0m \u001b[0mtime\u001b[0m\u001b[1;33m\u001b[0m\u001b[0m\n\u001b[1;32m----> 4\u001b[1;33m \u001b[1;32mimport\u001b[0m \u001b[0mtools\u001b[0m\u001b[1;33m.\u001b[0m\u001b[0mmy_io\u001b[0m \u001b[1;32mas\u001b[0m \u001b[0mmy_io\u001b[0m\u001b[1;33m\u001b[0m\u001b[0m\n\u001b[0m\u001b[0;32m      5\u001b[0m \u001b[0mget_ipython\u001b[0m\u001b[1;33m(\u001b[0m\u001b[1;33m)\u001b[0m\u001b[1;33m.\u001b[0m\u001b[0mmagic\u001b[0m\u001b[1;33m(\u001b[0m\u001b[1;34mu'matplotlib inline'\u001b[0m\u001b[1;33m)\u001b[0m\u001b[1;33m\u001b[0m\u001b[0m\n\u001b[0;32m      6\u001b[0m \u001b[1;33m\u001b[0m\u001b[0m\n",
        "\u001b[1;31mImportError\u001b[0m: No module named tools.my_io"
       ]
      }
     ],
     "prompt_number": 108
    },
    {
     "cell_type": "code",
     "collapsed": false,
     "input": [
      "import numpy as np\n",
      "# DUMMY DATA\n",
      "n_obs = 615\n",
      "# 0 8\n",
      "# 1 59\n",
      "# 2 14\n",
      "# 3 33\n",
      "# 4 7\n",
      "\n",
      "fine_preds = {\n",
      "    0: np.random.uniform(size=(n_obs, 8)),\n",
      "    1: np.random.uniform(size=(n_obs, 59)),\n",
      "    2: np.random.uniform(size=(n_obs, 14)),\n",
      "    3: np.random.uniform(size=(n_obs, 33)),\n",
      "    4: np.random.uniform(size=(n_obs, 7)),\n",
      "}\n",
      "for k, v in fine_preds.items():\n",
      "    fine_preds[k] = v/np.tile(v.sum(axis=1), (v.shape[1], 1)).T\n",
      "\n",
      "coarse_pred = np.random.uniform(size=(n_obs, 5))\n",
      "coarse_pred = coarse_pred/np.tile(coarse_pred.sum(axis=1), \n",
      "                                  (coarse_pred.shape[1], 1)).T\n"
     ],
     "language": "python",
     "metadata": {},
     "outputs": [],
     "prompt_number": 120
    },
    {
     "cell_type": "code",
     "collapsed": false,
     "input": [
      "# each column scales the corresponding fine prediction\n",
      "# final_pred = np.zeros((n_obs, 121))\n",
      "\n",
      "def aggregate_fine_pred(coarse_pred, fine_pred_d):\n",
      "    \"\"\"\n",
      "    fine_pred_d should have keys corresponding to coarse weight index\n",
      "    \"\"\"\n",
      "    pred_list = []\n",
      "    for col in range(coarse_pred.shape[1]):\n",
      "        pred_list.append(coarse_pred[:, col][:, None] * fine_preds[col])\n",
      "    final_pred = np.concatenate(pred_list, axis=1)\n",
      "    return final_pred\n",
      "    \n",
      "\n",
      "final_pred = aggregate_fine_pred(coarse_pred, fine_preds)"
     ],
     "language": "python",
     "metadata": {},
     "outputs": [],
     "prompt_number": 135
    },
    {
     "cell_type": "code",
     "collapsed": false,
     "input": [
      "import specialism as sp\n",
      "from le import le\n",
      "import itertools\n",
      "# Sort by the column labels\n",
      "zz = [sp.coarse_to_fine[k] for k in sorted(sp.coarse_to_fine.keys())]\n",
      "qq = list(itertools.chain(*zz))\n"
     ],
     "language": "python",
     "metadata": {},
     "outputs": [],
     "prompt_number": 123
    },
    {
     "cell_type": "code",
     "collapsed": false,
     "input": [
      "le.inverse_transform(qq)"
     ],
     "language": "python",
     "metadata": {},
     "outputs": [
      {
       "metadata": {},
       "output_type": "pyout",
       "prompt_number": 124,
       "text": [
        "array(['acantharia_protist', 'acantharia_protist_big_center',\n",
        "       'acantharia_protist_halo', 'copepod_calanoid_large',\n",
        "       'copepod_calanoid_octomoms', 'hydromedusae_narco_dark',\n",
        "       'protist_dark_center', 'trochophore_larvae', 'amphipods',\n",
        "       'appendicularian_fritillaridae', 'appendicularian_s_shape',\n",
        "       'appendicularian_slight_curve', 'appendicularian_straight',\n",
        "       'chaetognath_other', 'chordate_type1', 'copepod_calanoid',\n",
        "       'copepod_calanoid_eggs', 'copepod_calanoid_eucalanus',\n",
        "       'copepod_calanoid_flatheads', 'copepod_calanoid_frillyAntennae',\n",
        "       'copepod_calanoid_large_side_antennatucked',\n",
        "       'copepod_calanoid_small_longantennae', 'copepod_cyclopoid_copilia',\n",
        "       'copepod_cyclopoid_oithona', 'copepod_cyclopoid_oithona_eggs',\n",
        "       'copepod_other', 'crustacean_other', 'decapods', 'detritus_blob',\n",
        "       'detritus_other', 'echinoderm_larva_pluteus_early',\n",
        "       'echinoderm_larva_pluteus_typeC', 'echinoderm_larva_pluteus_urchin',\n",
        "       'echinoderm_larva_seastar_bipinnaria',\n",
        "       'echinoderm_larva_seastar_brachiolaria', 'echinopluteus', 'ephyra',\n",
        "       'euphausiids', 'euphausiids_young', 'fecal_pellet',\n",
        "       'fish_larvae_deep_body', 'fish_larvae_leptocephali',\n",
        "       'fish_larvae_medium_body', 'fish_larvae_myctophids',\n",
        "       'fish_larvae_thin_body', 'fish_larvae_very_thin_body',\n",
        "       'hydromedusae_typeE', 'hydromedusae_typeF',\n",
        "       'invertebrate_larvae_other_A', 'protist_fuzzy_olive',\n",
        "       'protist_noctiluca', 'protist_star', 'pteropod_butterfly',\n",
        "       'pteropod_theco_dev_seq', 'pteropod_triangle', 'shrimp-like_other',\n",
        "       'shrimp_caridean', 'shrimp_zoea', 'stomatopod',\n",
        "       'tornaria_acorn_worm_larvae', 'trichodesmium_bowtie',\n",
        "       'trichodesmium_multiple', 'trichodesmium_puff',\n",
        "       'trichodesmium_tuft', 'unknown_blobs_and_smudges', 'unknown_sticks',\n",
        "       'unknown_unclassified', 'ctenophore_cydippid_no_tentacles',\n",
        "       'ctenophore_cydippid_tentacles', 'hydromedusae_h15',\n",
        "       'hydromedusae_haliscera_small_sideview', 'hydromedusae_shapeA',\n",
        "       'hydromedusae_shapeA_sideview_small', 'hydromedusae_shapeB',\n",
        "       'protist_other', 'siphonophore_calycophoran_rocketship_young',\n",
        "       'siphonophore_calycophoran_sphaeronectes',\n",
        "       'siphonophore_calycophoran_sphaeronectes_stem',\n",
        "       'siphonophore_calycophoran_sphaeronectes_young',\n",
        "       'siphonophore_other_parts', 'siphonophore_physonect_young',\n",
        "       'artifacts', 'chaetognath_non_sagitta', 'chaetognath_sagitta',\n",
        "       'ctenophore_cestid', 'ctenophore_lobate', 'detritus_filamentous',\n",
        "       'diatom_chain_tube', 'echinoderm_larva_pluteus_brittlestar',\n",
        "       'echinoderm_seacucumber_auricularia_larva', 'hydromedusae_aglaura',\n",
        "       'hydromedusae_bell_and_tentacles', 'hydromedusae_haliscera',\n",
        "       'hydromedusae_liriope', 'hydromedusae_narco_young',\n",
        "       'hydromedusae_narcomedusae', 'hydromedusae_other',\n",
        "       'hydromedusae_sideview_big', 'hydromedusae_solmaris',\n",
        "       'hydromedusae_solmundella', 'hydromedusae_typeD',\n",
        "       'hydromedusae_typeD_bell_and_tentacles',\n",
        "       'invertebrate_larvae_other_B', 'jellies_tentacles', 'polychaete',\n",
        "       'radiolarian_chain', 'radiolarian_colony', 'shrimp_sergestidae',\n",
        "       'siphonophore_calycophoran_abylidae',\n",
        "       'siphonophore_calycophoran_rocketship_adult',\n",
        "       'siphonophore_physonect', 'tunicate_doliolid_nurse',\n",
        "       'tunicate_salp', 'tunicate_salp_chains', 'artifacts_edge',\n",
        "       'diatom_chain_string', 'heteropod', 'hydromedusae_partial_dark',\n",
        "       'siphonophore_partial', 'tunicate_doliolid', 'tunicate_partial'], \n",
        "      dtype='|S45')"
       ]
      }
     ],
     "prompt_number": 124
    },
    {
     "cell_type": "code",
     "collapsed": false,
     "input": [
      "ordered = []\n",
      "\n",
      "for col in qq:\n",
      "    ordered.append(final_pred[:, col])\n",
      "    "
     ],
     "language": "python",
     "metadata": {},
     "outputs": [],
     "prompt_number": 125
    },
    {
     "cell_type": "code",
     "collapsed": false,
     "input": [
      "ordered_pred = np.array(ordered).T"
     ],
     "language": "python",
     "metadata": {},
     "outputs": [],
     "prompt_number": 127
    },
    {
     "cell_type": "code",
     "collapsed": false,
     "input": [
      "ordered_pred.shape"
     ],
     "language": "python",
     "metadata": {},
     "outputs": [
      {
       "metadata": {},
       "output_type": "pyout",
       "prompt_number": 129,
       "text": [
        "(615, 121)"
       ]
      }
     ],
     "prompt_number": 129
    }
   ],
   "metadata": {}
  }
 ]
}