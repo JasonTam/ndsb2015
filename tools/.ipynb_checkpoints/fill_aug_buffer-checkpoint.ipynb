{
 "metadata": {
  "name": "",
  "signature": "sha256:670025c971f69cf075b580167a18ffea895eeac6acb27b0ab25fcc4fe0ed5cbc"
 },
 "nbformat": 3,
 "nbformat_minor": 0,
 "worksheets": [
  {
   "cells": [
    {
     "cell_type": "code",
     "collapsed": false,
     "input": [
      "import os\n",
      "import subprocess as sub\n",
      "import sys\n",
      "import time\n",
      "import numpy as np\n",
      "import my_io\n",
      "\n",
      "BUFF_SIZE = 20\n",
      "BUFFER_PATH = '/media/raid_arr/tmp/aug_buffer/'\n",
      "TRAIN_FOLD_TXT = '/media/raid_arr/data/ndsb/folds/train0.txt'\n",
      "CHECK_INTERVAL = 5"
     ],
     "language": "python",
     "metadata": {},
     "outputs": [],
     "prompt_number": 5
    },
    {
     "cell_type": "code",
     "collapsed": false,
     "input": [
      "def add_to_buffer(im_paths, buffer_dir, verbose=False):\n",
      "    db_name = str(int(time.time()))\n",
      "    db_out_path = os.path.join(buffer_dir, db_name)\n",
      "    np.random.shuffle(train_fold_paths)\n",
      "    my_io.multi_extract(train_fold_paths, db_out_path, backend='leveldb',\n",
      "                    perturb=True, verbose=True)\n",
      "    if verbose:\n",
      "        print 'Created db:', db_out_path"
     ],
     "language": "python",
     "metadata": {},
     "outputs": [],
     "prompt_number": 6
    },
    {
     "cell_type": "code",
     "collapsed": false,
     "input": [
      "def act_buffer(im_paths, buffer_dir=BUFFER_PATH, buff_size=BUFF_SIZE, check_int=CHECK_INTERVAL, verbose=False):\n",
      "    while True:\n",
      "        if len(os.walk(BUFFER_PATH).next()[1]) < buff_size:\n",
      "            add_to_buffer(im_paths, buffer_dir, verbose=verbose)\n",
      "        else:\n",
      "            if verbose:\n",
      "                print 'Waiting', check_int\n",
      "            time.sleep(check_int)\n"
     ],
     "language": "python",
     "metadata": {},
     "outputs": [],
     "prompt_number": 7
    },
    {
     "cell_type": "code",
     "collapsed": false,
     "input": [
      "import warnings\n",
      "warnings.filterwarnings('ignore')\n",
      "train_fold_paths = np.loadtxt(TRAIN_FOLD_TXT, delimiter='\\t', dtype=str)[:, 0]\n",
      "act_buffer(train_fold_paths, \n",
      "           buffer_dir=BUFFER_PATH, \n",
      "           buff_size=BUFF_SIZE, \n",
      "           check_int=CHECK_INTERVAL)\n"
     ],
     "language": "python",
     "metadata": {},
     "outputs": [
      {
       "output_type": "stream",
       "stream": "stdout",
       "text": [
        "Multiproc extraction: 87.8194899559\n"
       ]
      },
      {
       "output_type": "stream",
       "stream": "stdout",
       "text": [
        "Multiproc extraction: 85.1782288551\n"
       ]
      },
      {
       "output_type": "stream",
       "stream": "stdout",
       "text": [
        "Multiproc extraction: 85.0888741016\n"
       ]
      },
      {
       "output_type": "stream",
       "stream": "stdout",
       "text": [
        "Multiproc extraction: 84.7708349228\n"
       ]
      },
      {
       "output_type": "stream",
       "stream": "stdout",
       "text": [
        "Multiproc extraction: 84.9402341843\n"
       ]
      },
      {
       "output_type": "stream",
       "stream": "stdout",
       "text": [
        "Multiproc extraction: 86.4700348377\n"
       ]
      },
      {
       "output_type": "stream",
       "stream": "stdout",
       "text": [
        "Multiproc extraction: 87.3924582005\n"
       ]
      },
      {
       "output_type": "stream",
       "stream": "stdout",
       "text": [
        "Multiproc extraction: 85.3525590897\n"
       ]
      },
      {
       "output_type": "stream",
       "stream": "stdout",
       "text": [
        "Multiproc extraction: 86.4573168755\n"
       ]
      },
      {
       "output_type": "stream",
       "stream": "stdout",
       "text": [
        "Multiproc extraction: 84.9750151634\n"
       ]
      },
      {
       "output_type": "stream",
       "stream": "stdout",
       "text": [
        "Multiproc extraction: 107.704458952\n"
       ]
      },
      {
       "ename": "KeyboardInterrupt",
       "evalue": "",
       "output_type": "pyerr",
       "traceback": [
        "\u001b[1;31m---------------------------------------------------------------------------\u001b[0m\n\u001b[1;31mKeyboardInterrupt\u001b[0m                         Traceback (most recent call last)",
        "\u001b[1;32m<ipython-input-8-d8915c54a96e>\u001b[0m in \u001b[0;36m<module>\u001b[1;34m()\u001b[0m\n\u001b[0;32m      5\u001b[0m            \u001b[0mbuffer_dir\u001b[0m\u001b[1;33m=\u001b[0m\u001b[0mBUFFER_PATH\u001b[0m\u001b[1;33m,\u001b[0m\u001b[1;33m\u001b[0m\u001b[0m\n\u001b[0;32m      6\u001b[0m            \u001b[0mbuff_size\u001b[0m\u001b[1;33m=\u001b[0m\u001b[0mBUFF_SIZE\u001b[0m\u001b[1;33m,\u001b[0m\u001b[1;33m\u001b[0m\u001b[0m\n\u001b[1;32m----> 7\u001b[1;33m            check_int=CHECK_INTERVAL)\n\u001b[0m",
        "\u001b[1;32m<ipython-input-7-12edd2a2fc2e>\u001b[0m in \u001b[0;36mact_buffer\u001b[1;34m(im_paths, buffer_dir, buff_size, check_int, verbose)\u001b[0m\n\u001b[0;32m      6\u001b[0m             \u001b[1;32mif\u001b[0m \u001b[0mverbose\u001b[0m\u001b[1;33m:\u001b[0m\u001b[1;33m\u001b[0m\u001b[0m\n\u001b[0;32m      7\u001b[0m                 \u001b[1;32mprint\u001b[0m \u001b[1;34m'Waiting'\u001b[0m\u001b[1;33m,\u001b[0m \u001b[0mcheck_int\u001b[0m\u001b[1;33m\u001b[0m\u001b[0m\n\u001b[1;32m----> 8\u001b[1;33m             \u001b[0mtime\u001b[0m\u001b[1;33m.\u001b[0m\u001b[0msleep\u001b[0m\u001b[1;33m(\u001b[0m\u001b[0mcheck_int\u001b[0m\u001b[1;33m)\u001b[0m\u001b[1;33m\u001b[0m\u001b[0m\n\u001b[0m",
        "\u001b[1;31mKeyboardInterrupt\u001b[0m: "
       ]
      }
     ],
     "prompt_number": 8
    }
   ],
   "metadata": {}
  }
 ]
}