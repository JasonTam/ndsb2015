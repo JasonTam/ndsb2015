{
 "metadata": {
  "name": "",
  "signature": "sha256:3349cba320a815a5bd6b4490beca7b08971b68c8213db2f16e9f08433f224f32"
 },
 "nbformat": 3,
 "nbformat_minor": 0,
 "worksheets": [
  {
   "cells": [
    {
     "cell_type": "code",
     "collapsed": false,
     "input": [
      "import plyvel\n",
      "import lmdb\n",
      "from time import time"
     ],
     "language": "python",
     "metadata": {},
     "outputs": [],
     "prompt_number": 5
    },
    {
     "cell_type": "code",
     "collapsed": false,
     "input": [
      "DB_PATH = '/media/raid_arr/data/ndsb/folds/train0_lmdb/'\n",
      "OUT_PATH = '/media/raid_arr/data/ndsb/folds/train0_lvl/'\n",
      "\n",
      "db_lmdb = lmdb.open(DB_PATH)\n",
      "db_lvl = plyvel.DB(OUT_PATH, create_if_missing=True)\n",
      "\n",
      "tic = time()\n",
      "with db_lmdb.begin() as txn:\n",
      "    for k, v in txn.cursor():\n",
      "        db_lvl.put(k, v)\n",
      "toc = time() - tic\n",
      "print toc"
     ],
     "language": "python",
     "metadata": {},
     "outputs": [
      {
       "output_type": "stream",
       "stream": "stdout",
       "text": [
        "6.46385598183\n"
       ]
      }
     ],
     "prompt_number": 8
    },
    {
     "cell_type": "code",
     "collapsed": false,
     "input": [
      "db_lvl.close()"
     ],
     "language": "python",
     "metadata": {},
     "outputs": [],
     "prompt_number": 7
    }
   ],
   "metadata": {}
  }
 ]
}