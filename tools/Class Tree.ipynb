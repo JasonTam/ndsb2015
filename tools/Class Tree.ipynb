{
 "metadata": {
  "name": "",
  "signature": "sha256:dcc33f5f09dcc05c57745d8c0b36bb37a74cc4207be4fbeb95eb8aab86cbbf9e"
 },
 "nbformat": 3,
 "nbformat_minor": 0,
 "worksheets": [
  {
   "cells": [
    {
     "cell_type": "heading",
     "level": 1,
     "metadata": {},
     "source": [
      "All this crap is put into taxonomy.py"
     ]
    },
    {
     "cell_type": "code",
     "collapsed": false,
     "input": [
      "from collections import defaultdict\n",
      "from itertools import takewhile\n",
      "from pprint import pprint\n",
      "\n",
      "DATA_PATH = '../data/chart_tabs.txt'"
     ],
     "language": "python",
     "metadata": {},
     "outputs": [],
     "prompt_number": 1
    },
    {
     "cell_type": "code",
     "collapsed": false,
     "input": [
      "is_tab = '\\t'.__eq__\n",
      "\n",
      "def tree(): return defaultdict(tree)\n",
      "def add(t, path):\n",
      "    for node in path:\n",
      "        t = t[node]\n",
      "def dicts(t): return {k: dicts(t[k]) for k in t}\n",
      "\n",
      "def build_tree(lines):\n",
      "    lines = iter(lines)\n",
      "    path = []\n",
      "    ret = tree()\n",
      "    for line in lines:\n",
      "        entry = line.lstrip()\n",
      "        indent = len(list(takewhile(is_tab, line)))\n",
      "        path[indent:] = [entry]\n",
      "        add(ret, path)\n",
      "    return ret\n",
      "\n",
      "def build_trace(lines):\n",
      "    lines = iter(lines)\n",
      "    path = []\n",
      "    ret = []\n",
      "    for line in lines:\n",
      "        entry = line.lstrip()\n",
      "        indent = len(list(takewhile(is_tab, line)))\n",
      "        path[indent:] = [entry]\n",
      "        if entry[0].lower() == entry[0]:\n",
      "            ret.append(tuple(path[::-1]))\n",
      "    return ret\n"
     ],
     "language": "python",
     "metadata": {},
     "outputs": [],
     "prompt_number": 2
    },
    {
     "cell_type": "code",
     "collapsed": false,
     "input": [
      "with open(DATA_PATH, 'r') as f:\n",
      "    lines = [l.rstrip('\\n') for l in f.readlines()]\n",
      "\n",
      "t = build_tree(lines)\n",
      "trace = build_trace(lines)"
     ],
     "language": "python",
     "metadata": {},
     "outputs": [],
     "prompt_number": 52
    },
    {
     "cell_type": "code",
     "collapsed": false,
     "input": [
      "len(trace)"
     ],
     "language": "python",
     "metadata": {},
     "outputs": [
      {
       "metadata": {},
       "output_type": "pyout",
       "prompt_number": 4,
       "text": [
        "121"
       ]
      }
     ],
     "prompt_number": 4
    },
    {
     "cell_type": "code",
     "collapsed": false,
     "input": [
      "pprint(dicts(t))"
     ],
     "language": "python",
     "metadata": {},
     "outputs": [
      {
       "output_type": "stream",
       "stream": "stdout",
       "text": [
        "{'Omega': {'Artifact': {'artifacts': {}, 'artifacts_edge': {}},\n",
        "           'Plankton': {'Chaetognath': {'chaetognath_non_sagitta': {},\n",
        "                                        'chaetognath_other': {},\n",
        "                                        'chaetognath_sagitta': {}},\n",
        "                        'Crustacean': {'Copepod': {'Copepod_Calnoid': {'Copepod_Calanoid_Large': {'copepod_calanoid_large': {},\n",
        "                                                                                                  'copepod_calanoid_large_side_antennatucked': {}},\n",
        "                                                                       'copepod_calanoid': {},\n",
        "                                                                       'copepod_calanoid_eggs': {},\n",
        "                                                                       'copepod_calanoid_eucalanus': {},\n",
        "                                                                       'copepod_calanoid_flatheads': {},\n",
        "                                                                       'copepod_calanoid_frillyAntennae': {},\n",
        "                                                                       'copepod_calanoid_octomoms': {},\n",
        "                                                                       'copepod_calanoid_small_longantennae': {},\n",
        "                                                                       'copepod_other': {}},\n",
        "                                                   'Cyclopoid_Copepod': {'Cyclopoid_Copepod_Oithona': {'copepod_cyclopoid_oithona': {},\n",
        "                                                                                                       'copepod_cyclopoid_oithona_eggs': {}},\n",
        "                                                                         'copepod_cyclopoid_copilia': {}}},\n",
        "                                       'Shrimp-like': {'Decapod': {'decapods': {},\n",
        "                                                                   'shrimp_caridean': {},\n",
        "                                                                   'shrimp_sergestidae': {},\n",
        "                                                                   'shrimp_zoea': {}},\n",
        "                                                       'Euphauslid': {'euphausiids': {},\n",
        "                                                                      'euphausiids_young': {}},\n",
        "                                                       'shrimp-like_other': {}},\n",
        "                                       'amphipods': {},\n",
        "                                       'crustacean_other': {},\n",
        "                                       'stomatopod': {}},\n",
        "                        'Detritus': {'detritus_blob': {},\n",
        "                                     'detritus_filamentous': {},\n",
        "                                     'detritus_other': {},\n",
        "                                     'fecal_pellet': {}},\n",
        "                        'Diatom': {'diatom_chain_string': {},\n",
        "                                   'diatom_chain_tube': {}},\n",
        "                        'Fish': {'fish_larvae_deep_body': {},\n",
        "                                 'fish_larvae_leptocephali': {},\n",
        "                                 'fish_larvae_medium_body': {},\n",
        "                                 'fish_larvae_myctophids': {},\n",
        "                                 'fish_larvae_thin_body': {},\n",
        "                                 'fish_larvae_very_thin_body': {}},\n",
        "                        'Gastropod': {'Pteropod': {'pteropod_butterfly': {},\n",
        "                                                   'pteropod_theco_dev_seq': {},\n",
        "                                                   'pteropod_triangle': {}},\n",
        "                                      'heteropod': {}},\n",
        "                        'Gelatinous_Zooplankton': {'Ctenophore': {'ctenophore_cestid': {},\n",
        "                                                                  'ctenophore_cydippid_no_tentacles': {},\n",
        "                                                                  'ctenophore_cydippid_tentacles': {},\n",
        "                                                                  'ctenophore_lobate': {}},\n",
        "                                                   'Hydromedusae': {'Hydromedusae_Narcomedusae': {'Hydromedusae_Haliscera  ': {'hydromedusae_haliscera': {},\n",
        "                                                                                                                               'hydromedusae_haliscera_small_sideview': {}},\n",
        "                                                                                                  'Hydromedusae_Solmaris': {'hydromedusae_narco_young': {},\n",
        "                                                                                                                            'hydromedusae_solmaris': {}},\n",
        "                                                                                                  'Other_Hydromedusae': {'Hydromedusae_Shape_A_Sideview': {'hydromedusae_shapeA': {},\n",
        "                                                                                                                                                           'hydromedusae_shapeA_sideview_small': {},\n",
        "                                                                                                                                                           'hydromedusae_sideview_big': {}},\n",
        "                                                                                                                         'Hydromedusae_Type_D_Bell_And_Tentacles': {'hydromedusae_bell_and_tentacles': {},\n",
        "                                                                                                                                                                    'hydromedusae_typeD': {},\n",
        "                                                                                                                                                                    'hydromedusae_typeD_bell_and_tentacles': {}},\n",
        "                                                                                                                         'hydromedusae_h15': {},\n",
        "                                                                                                                         'hydromedusae_other': {},\n",
        "                                                                                                                         'hydromedusae_partial_dark': {},\n",
        "                                                                                                                         'hydromedusae_shapeB': {},\n",
        "                                                                                                                         'hydromedusae_typeE': {},\n",
        "                                                                                                                         'hydromedusae_typeF': {}},\n",
        "                                                                                                  'hydromedusae_aglaura': {},\n",
        "                                                                                                  'hydromedusae_liriope': {},\n",
        "                                                                                                  'hydromedusae_narco_dark': {},\n",
        "                                                                                                  'hydromedusae_narcomedusae': {},\n",
        "                                                                                                  'hydromedusae_solmundella': {}}},\n",
        "                                                   'Pelagic_Tunicate': {'Appendicularian': {'appendicularian_fritillaridae': {},\n",
        "                                                                                            'appendicularian_s_shape': {},\n",
        "                                                                                            'appendicularian_slight_curve': {},\n",
        "                                                                                            'appendicularian_straight': {}},\n",
        "                                                                        'Tunicate': {'Tunicate_Doliolid': {'tunicate_doliolid': {},\n",
        "                                                                                                           'tunicate_doliolid_nurse': {}},\n",
        "                                                                                     'Tunicate_Salp': {'tunicate_salp': {},\n",
        "                                                                                                       'tunicate_salp_chains': {}},\n",
        "                                                                                     'tunicate_partial': {}}},\n",
        "                                                   'Siphonophore': {'Calycophoran_Siphonophore': {'Calycophoran_Siphonophore_Rocketship': {'siphonophore_calycophoran_rocketship_adult': {},\n",
        "                                                                                                                                           'siphonophore_calycophoran_rocketship_young': {}},\n",
        "                                                                                                  'Calycophoran_Siphonophore_Sphaeronectes': {'siphonophore_calycophoran_sphaeronectes': {},\n",
        "                                                                                                                                              'siphonophore_calycophoran_sphaeronectes_stem': {},\n",
        "                                                                                                                                              'siphonophore_calycophoran_sphaeronectes_young': {}},\n",
        "                                                                                                  'siphonophore_calycophoran_abylidae': {}},\n",
        "                                                                    'Siphonophore_Physonect': {'siphonophore_physonect': {},\n",
        "                                                                                               'siphonophore_physonect_young': {}},\n",
        "                                                                    'siphonophore_other_parts': {},\n",
        "                                                                    'siphonophore_partial': {}},\n",
        "                                                   'ephyra': {},\n",
        "                                                   'jellies_tentacles': {}},\n",
        "                        'Other_Invert_Larvae': {'Echinoderm': {'Echinoderm_Larva_Seastar': {'echinoderm_larva_seastar_bipinnaria': {},\n",
        "                                                                                            'echinoderm_larva_seastar_brachiolaria': {}},\n",
        "                                                               'echinoderm_larva_pluteus_brittlestar': {},\n",
        "                                                               'echinoderm_larva_pluteus_early': {},\n",
        "                                                               'echinoderm_larva_pluteus_typeC': {},\n",
        "                                                               'echinoderm_larva_pluteus_urchin': {},\n",
        "                                                               'echinoderm_seacucumber_auricularia_larva': {},\n",
        "                                                               'echinopluteus': {}},\n",
        "                                                'invertebrate_larvae_other_A': {},\n",
        "                                                'invertebrate_larvae_other_B': {},\n",
        "                                                'tornaria_acorn_worm_larvae': {},\n",
        "                                                'trochophore_larvae': {}},\n",
        "                        'Protist': {'Acantharia_Protist': {'acantharia_protist': {},\n",
        "                                                           'acantharia_protist_big_center': {},\n",
        "                                                           'acantharia_protist_halo': {}},\n",
        "                                    'Protist_Other': {'protist_dark_center': {},\n",
        "                                                      'protist_fuzzy_olive': {},\n",
        "                                                      'protist_other': {},\n",
        "                                                      'protist_star': {}},\n",
        "                                    'Radiolarian_Colony': {'radiolarian_chain': {},\n",
        "                                                           'radiolarian_colony': {}},\n",
        "                                    'protist_noctiluca': {}},\n",
        "                        'Trichodesmium': {'trichodesmium_bowtie': {},\n",
        "                                          'trichodesmium_multiple': {},\n",
        "                                          'trichodesmium_puff': {},\n",
        "                                          'trichodesmium_tuft': {}},\n",
        "                        'Unknown': {'unknown_blobs_and_smudges': {},\n",
        "                                    'unknown_sticks': {},\n",
        "                                    'unknown_unclassified': {}},\n",
        "                        'chordate_type1': {},\n",
        "                        'polychaete': {}}}}\n"
       ]
      }
     ],
     "prompt_number": 36
    },
    {
     "cell_type": "code",
     "collapsed": false,
     "input": [
      "# extending out deep leaves\n",
      "max_len = max([len(p) for p in trace])\n",
      "trace_ext = []\n",
      "for path in trace:\n",
      "    while len(path) < max_len:\n",
      "        path = (path[0],) + path\n",
      "    trace_ext.append(path)"
     ],
     "language": "python",
     "metadata": {},
     "outputs": [],
     "prompt_number": 14
    },
    {
     "cell_type": "code",
     "collapsed": false,
     "input": [
      "for n in range(max_len):\n",
      "    print n, len({p[n] for p in trace_ext})\n",
      "    \n",
      "trace_d = {p[0]: list(p[1:]) for p in trace_ext}"
     ],
     "language": "python",
     "metadata": {},
     "outputs": [
      {
       "output_type": "stream",
       "stream": "stdout",
       "text": [
        "0 121\n",
        "1 117\n",
        "2 101\n",
        "3 72\n",
        "4 48\n",
        "5 15\n",
        "6 2\n",
        "7 1\n"
       ]
      }
     ],
     "prompt_number": 23
    },
    {
     "cell_type": "code",
     "collapsed": false,
     "input": [
      "from sklearn.preprocessing import LabelEncoder\n",
      "depth_le = {n: LabelEncoder().fit(sorted(list({p[n] for p in trace_ext}))) \n",
      "            for n in range(max_len)}\n",
      "\n"
     ],
     "language": "python",
     "metadata": {},
     "outputs": [],
     "prompt_number": 38
    },
    {
     "cell_type": "code",
     "collapsed": false,
     "input": [
      "q = depth_le[5]\n",
      "q.classes_"
     ],
     "language": "python",
     "metadata": {},
     "outputs": [
      {
       "metadata": {},
       "output_type": "pyout",
       "prompt_number": 51,
       "text": [
        "array(['Chaetognath', 'Crustacean', 'Detritus', 'Diatom', 'Fish',\n",
        "       'Gastropod', 'Gelatinous_Zooplankton', 'Other_Invert_Larvae',\n",
        "       'Protist', 'Trichodesmium', 'Unknown', 'artifacts',\n",
        "       'artifacts_edge', 'chordate_type1', 'polychaete'], \n",
        "      dtype='|S22')"
       ]
      }
     ],
     "prompt_number": 51
    },
    {
     "cell_type": "code",
     "collapsed": false,
     "input": [
      "import taxonomy as tax\n",
      "for n in range(0,8):\n",
      "    qq = {p[n] for p in tax.trace_ext}\n",
      "    print n, len(qq), qq\n",
      "    print"
     ],
     "language": "python",
     "metadata": {},
     "outputs": [
      {
       "output_type": "stream",
       "stream": "stdout",
       "text": [
        "0 121 set(['echinoderm_larva_seastar_bipinnaria', 'unknown_sticks', 'tornaria_acorn_worm_larvae', 'echinoderm_seacucumber_auricularia_larva', 'ctenophore_lobate', 'pteropod_triangle', 'ctenophore_cestid', 'appendicularian_slight_curve', 'detritus_blob', 'chaetognath_non_sagitta', 'tunicate_doliolid', 'copepod_calanoid_octomoms', 'shrimp_caridean', 'hydromedusae_typeE', 'hydromedusae_typeD', 'hydromedusae_narco_young', 'siphonophore_calycophoran_rocketship_young', 'hydromedusae_haliscera_small_sideview', 'chaetognath_sagitta', 'hydromedusae_narco_dark', 'shrimp_zoea', 'ctenophore_cydippid_tentacles', 'hydromedusae_h15', 'acantharia_protist_halo', 'copepod_other', 'copepod_calanoid_large_side_antennatucked', 'copepod_calanoid_eggs', 'copepod_calanoid_eucalanus', 'copepod_calanoid_flatheads', 'chordate_type1', 'hydromedusae_solmundella', 'heteropod', 'hydromedusae_aglaura', 'radiolarian_colony', 'stomatopod', 'trichodesmium_multiple', 'copepod_cyclopoid_oithona', 'pteropod_butterfly', 'fish_larvae_leptocephali', 'tunicate_salp', 'protist_other', 'detritus_other', 'echinoderm_larva_pluteus_urchin', 'radiolarian_chain', 'unknown_blobs_and_smudges', 'crustacean_other', 'invertebrate_larvae_other_B', 'tunicate_salp_chains', 'fecal_pellet', 'siphonophore_other_parts', 'siphonophore_calycophoran_sphaeronectes_stem', 'trochophore_larvae', 'acantharia_protist', 'hydromedusae_shapeB', 'hydromedusae_shapeA', 'fish_larvae_thin_body', 'fish_larvae_very_thin_body', 'protist_dark_center', 'hydromedusae_other', 'copepod_calanoid_large', 'fish_larvae_myctophids', 'amphipods', 'siphonophore_calycophoran_sphaeronectes_young', 'siphonophore_calycophoran_sphaeronectes', 'hydromedusae_partial_dark', 'trichodesmium_tuft', 'pteropod_theco_dev_seq', 'hydromedusae_sideview_big', 'appendicularian_fritillaridae', 'hydromedusae_haliscera', 'appendicularian_straight', 'hydromedusae_narcomedusae', 'shrimp-like_other', 'siphonophore_partial', 'hydromedusae_solmaris', 'ephyra', 'artifacts', 'trichodesmium_puff', 'protist_star', 'echinoderm_larva_seastar_brachiolaria', 'trichodesmium_bowtie', 'hydromedusae_typeF', 'echinoderm_larva_pluteus_early', 'copepod_calanoid_small_longantennae', 'unknown_unclassified', 'artifacts_edge', 'detritus_filamentous', 'siphonophore_physonect_young', 'copepod_calanoid', 'hydromedusae_shapeA_sideview_small', 'siphonophore_calycophoran_abylidae', 'fish_larvae_deep_body', 'echinopluteus', 'hydromedusae_liriope', 'siphonophore_calycophoran_rocketship_adult', 'siphonophore_physonect', 'appendicularian_s_shape', 'echinoderm_larva_pluteus_typeC', 'copepod_calanoid_frillyAntennae', 'invertebrate_larvae_other_A', 'hydromedusae_typeD_bell_and_tentacles', 'jellies_tentacles', 'decapods', 'protist_fuzzy_olive', 'copepod_cyclopoid_oithona_eggs', 'shrimp_sergestidae', 'hydromedusae_bell_and_tentacles', 'fish_larvae_medium_body', 'chaetognath_other', 'euphausiids_young', 'ctenophore_cydippid_no_tentacles', 'diatom_chain_string', 'copepod_cyclopoid_copilia', 'diatom_chain_tube', 'euphausiids', 'tunicate_partial', 'acantharia_protist_big_center', 'echinoderm_larva_pluteus_brittlestar', 'tunicate_doliolid_nurse', 'polychaete', 'protist_noctiluca'])\n",
        "\n",
        "1 117 set(['echinoderm_larva_seastar_bipinnaria', 'unknown_sticks', 'tornaria_acorn_worm_larvae', 'echinoderm_seacucumber_auricularia_larva', 'shrimp_zoea', 'pteropod_triangle', 'ctenophore_cestid', 'appendicularian_slight_curve', 'detritus_blob', 'chaetognath_non_sagitta', 'tunicate_doliolid', 'copepod_calanoid_octomoms', 'hydromedusae_typeE', 'hydromedusae_narco_young', 'siphonophore_calycophoran_rocketship_young', 'hydromedusae_haliscera_small_sideview', 'chaetognath_sagitta', 'hydromedusae_narco_dark', 'ctenophore_lobate', 'ctenophore_cydippid_tentacles', 'hydromedusae_h15', 'acantharia_protist_halo', 'copepod_other', 'copepod_calanoid_large_side_antennatucked', 'copepod_calanoid_eggs', 'copepod_calanoid_eucalanus', 'copepod_calanoid_flatheads', 'chordate_type1', 'hydromedusae_solmundella', 'heteropod', 'hydromedusae_aglaura', 'radiolarian_colony', 'stomatopod', 'trichodesmium_multiple', 'copepod_cyclopoid_oithona', 'pteropod_butterfly', 'fish_larvae_leptocephali', 'tunicate_salp', 'protist_other', 'detritus_other', 'echinoderm_larva_pluteus_urchin', 'radiolarian_chain', 'unknown_blobs_and_smudges', 'crustacean_other', 'invertebrate_larvae_other_B', 'tunicate_salp_chains', 'fecal_pellet', 'siphonophore_other_parts', 'siphonophore_calycophoran_sphaeronectes_stem', 'trochophore_larvae', 'acantharia_protist', 'hydromedusae_shapeB', 'fish_larvae_thin_body', 'fish_larvae_very_thin_body', 'protist_dark_center', 'hydromedusae_other', 'copepod_calanoid_large', 'fish_larvae_myctophids', 'amphipods', 'siphonophore_calycophoran_sphaeronectes_young', 'siphonophore_calycophoran_sphaeronectes', 'hydromedusae_partial_dark', 'trichodesmium_tuft', 'pteropod_theco_dev_seq', 'appendicularian_fritillaridae', 'hydromedusae_haliscera', 'appendicularian_straight', 'hydromedusae_narcomedusae', 'shrimp-like_other', 'siphonophore_partial', 'hydromedusae_solmaris', 'ephyra', 'artifacts', 'trichodesmium_puff', 'protist_star', 'echinoderm_larva_seastar_brachiolaria', 'trichodesmium_bowtie', 'hydromedusae_typeF', 'echinoderm_larva_pluteus_early', 'copepod_calanoid_small_longantennae', 'unknown_unclassified', 'Hydromedusae_Shape_A_Sideview', 'artifacts_edge', 'detritus_filamentous', 'siphonophore_physonect_young', 'copepod_calanoid', 'shrimp_caridean', 'siphonophore_calycophoran_abylidae', 'fish_larvae_deep_body', 'echinopluteus', 'hydromedusae_liriope', 'siphonophore_calycophoran_rocketship_adult', 'siphonophore_physonect', 'appendicularian_s_shape', 'Hydromedusae_Type_D_Bell_And_Tentacles', 'echinoderm_larva_pluteus_typeC', 'copepod_calanoid_frillyAntennae', 'invertebrate_larvae_other_A', 'jellies_tentacles', 'decapods', 'protist_fuzzy_olive', 'copepod_cyclopoid_oithona_eggs', 'shrimp_sergestidae', 'fish_larvae_medium_body', 'chaetognath_other', 'euphausiids_young', 'ctenophore_cydippid_no_tentacles', 'diatom_chain_string', 'copepod_cyclopoid_copilia', 'diatom_chain_tube', 'euphausiids', 'tunicate_partial', 'acantharia_protist_big_center', 'echinoderm_larva_pluteus_brittlestar', 'tunicate_doliolid_nurse', 'polychaete', 'protist_noctiluca'])\n",
        "\n",
        "2 101 set(['echinoderm_larva_seastar_bipinnaria', 'unknown_sticks', 'tornaria_acorn_worm_larvae', 'echinoderm_seacucumber_auricularia_larva', 'ctenophore_lobate', 'pteropod_triangle', 'ctenophore_cestid', 'appendicularian_slight_curve', 'invertebrate_larvae_other_A', 'chaetognath_non_sagitta', 'copepod_calanoid_octomoms', 'chaetognath_sagitta', 'hydromedusae_narco_dark', 'shrimp_zoea', 'Cyclopoid_Copepod_Oithona', 'ctenophore_cydippid_tentacles', 'acantharia_protist_halo', 'copepod_other', 'siphonophore_physonect_young', 'copepod_calanoid_eggs', 'copepod_calanoid_eucalanus', 'radiolarian_colony', 'chordate_type1', 'hydromedusae_solmundella', 'heteropod', 'hydromedusae_aglaura', 'copepod_calanoid_flatheads', 'stomatopod', 'trichodesmium_multiple', 'pteropod_butterfly', 'Copepod_Calanoid_Large', 'fish_larvae_leptocephali', 'protist_other', 'detritus_other', 'echinoderm_larva_pluteus_urchin', 'radiolarian_chain', 'unknown_blobs_and_smudges', 'fish_larvae_medium_body', 'invertebrate_larvae_other_B', 'fecal_pellet', 'siphonophore_other_parts', 'echinoderm_larva_pluteus_brittlestar', 'trochophore_larvae', 'acantharia_protist', 'trichodesmium_puff', 'fish_larvae_thin_body', 'fish_larvae_very_thin_body', 'protist_dark_center', 'fish_larvae_myctophids', 'amphipods', 'Calycophoran_Siphonophore_Rocketship', 'trichodesmium_tuft', 'pteropod_theco_dev_seq', 'appendicularian_fritillaridae', 'appendicularian_straight', 'hydromedusae_narcomedusae', 'shrimp-like_other', 'siphonophore_partial', 'Hydromedusae_Solmaris', 'ephyra', 'artifacts', 'echinopluteus', 'protist_star', 'echinoderm_larva_seastar_brachiolaria', 'trichodesmium_bowtie', 'echinoderm_larva_pluteus_early', 'copepod_calanoid_small_longantennae', 'unknown_unclassified', 'artifacts_edge', 'detritus_filamentous', 'copepod_calanoid', 'shrimp_caridean', 'siphonophore_calycophoran_abylidae', 'fish_larvae_deep_body', 'hydromedusae_liriope', 'siphonophore_physonect', 'Tunicate_Salp', 'appendicularian_s_shape', 'echinoderm_larva_pluteus_typeC', 'copepod_calanoid_frillyAntennae', 'Other_Hydromedusae', 'Hydromedusae_Haliscera  ', 'jellies_tentacles', 'decapods', 'protist_fuzzy_olive', 'shrimp_sergestidae', 'crustacean_other', 'chaetognath_other', 'euphausiids_young', 'ctenophore_cydippid_no_tentacles', 'diatom_chain_string', 'copepod_cyclopoid_copilia', 'diatom_chain_tube', 'Calycophoran_Siphonophore_Sphaeronectes', 'euphausiids', 'tunicate_partial', 'Tunicate_Doliolid', 'acantharia_protist_big_center', 'detritus_blob', 'polychaete', 'protist_noctiluca'])\n",
        "\n",
        "3 72 set(['trichodesmium_multiple', 'Calycophoran_Siphonophore', 'unknown_sticks', 'echinoderm_seacucumber_auricularia_larva', 'polychaete', 'trichodesmium_tuft', 'ctenophore_lobate', 'pteropod_triangle', 'ctenophore_cestid', 'fish_larvae_leptocephali', 'pteropod_theco_dev_seq', 'echinoderm_larva_pluteus_typeC', 'protist_other', 'invertebrate_larvae_other_A', 'Tunicate', 'detritus_other', 'Hydromedusae_Narcomedusae', 'shrimp-like_other', 'siphonophore_partial', 'jellies_tentacles', 'fish_larvae_very_thin_body', 'ephyra', 'artifacts', 'acantharia_protist', 'tornaria_acorn_worm_larvae', 'radiolarian_chain', 'echinopluteus', 'protist_star', 'crustacean_other', 'invertebrate_larvae_other_B', 'protist_fuzzy_olive', 'trichodesmium_bowtie', 'chaetognath_non_sagitta', 'Euphauslid', 'Appendicularian', 'echinoderm_larva_pluteus_early', 'chaetognath_sagitta', 'Siphonophore_Physonect', 'pteropod_butterfly', 'unknown_unclassified', 'echinoderm_larva_pluteus_urchin', 'fish_larvae_medium_body', 'Copepod_Calnoid', 'chaetognath_other', 'artifacts_edge', 'siphonophore_other_parts', 'ctenophore_cydippid_tentacles', 'ctenophore_cydippid_no_tentacles', 'echinoderm_larva_pluteus_brittlestar', 'diatom_chain_string', 'unknown_blobs_and_smudges', 'trochophore_larvae', 'acantharia_protist_halo', 'diatom_chain_tube', 'trichodesmium_puff', 'fish_larvae_deep_body', 'detritus_filamentous', 'fish_larvae_thin_body', 'detritus_blob', 'Decapod', 'acantharia_protist_big_center', 'protist_dark_center', 'Cyclopoid_Copepod', 'radiolarian_colony', 'chordate_type1', 'heteropod', 'Echinoderm_Larva_Seastar', 'fecal_pellet', 'fish_larvae_myctophids', 'stomatopod', 'amphipods', 'protist_noctiluca'])\n",
        "\n",
        "4 48 set(['trichodesmium_multiple', 'polychaete', 'unknown_sticks', 'tornaria_acorn_worm_larvae', 'Shrimp-like', 'trichodesmium_tuft', 'Pelagic_Tunicate', 'Copepod', 'fish_larvae_leptocephali', 'Protist_Other', 'invertebrate_larvae_other_A', 'Acantharia_Protist', 'detritus_other', 'chaetognath_non_sagitta', 'jellies_tentacles', 'fish_larvae_very_thin_body', 'ephyra', 'artifacts', 'Radiolarian_Colony', 'Pteropod', 'unknown_blobs_and_smudges', 'crustacean_other', 'invertebrate_larvae_other_B', 'trichodesmium_bowtie', 'chaetognath_sagitta', 'unknown_unclassified', 'Hydromedusae', 'fish_larvae_medium_body', 'trochophore_larvae', 'chaetognath_other', 'artifacts_edge', 'detritus_filamentous', 'Echinoderm', 'diatom_chain_string', 'detritus_blob', 'Ctenophore', 'diatom_chain_tube', 'trichodesmium_puff', 'fish_larvae_deep_body', 'fish_larvae_thin_body', 'Siphonophore', 'chordate_type1', 'heteropod', 'fecal_pellet', 'fish_larvae_myctophids', 'stomatopod', 'amphipods', 'protist_noctiluca'])\n",
        "\n",
        "5 15 set(['Gelatinous_Zooplankton', 'Chaetognath', 'Other_Invert_Larvae', 'Detritus', 'Fish', 'chordate_type1', 'artifacts_edge', 'Protist', 'artifacts', 'Crustacean', 'Trichodesmium', 'Diatom', 'Unknown', 'polychaete', 'Gastropod'])\n",
        "\n",
        "6 2 set(['Artifact', 'Plankton'])\n",
        "\n",
        "7 1 set(['Omega'])\n",
        "\n"
       ]
      }
     ],
     "prompt_number": 13
    }
   ],
   "metadata": {}
  }
 ]
}