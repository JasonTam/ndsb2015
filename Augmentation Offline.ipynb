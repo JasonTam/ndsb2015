{
 "metadata": {
  "name": "",
  "signature": "sha256:f26c22fd2d0ec16d47e418b278c556ee176b3260136e6607832610a92b41934b"
 },
 "nbformat": 3,
 "nbformat_minor": 0,
 "worksheets": [
  {
   "cells": [
    {
     "cell_type": "code",
     "collapsed": false,
     "input": [
      "import glob\n",
      "import sys\n",
      "import os\n",
      "from datetime import datetime\n",
      "from PIL import Image\n",
      "from PIL.ImageOps import invert\n",
      "import numpy as np\n",
      "from tools.le import le\n",
      "import time"
     ],
     "language": "python",
     "metadata": {},
     "outputs": [],
     "prompt_number": 6
    },
    {
     "cell_type": "code",
     "collapsed": false,
     "input": [
      "angles = range(0, 360, 45)    # Rotation angles in degrees\n",
      "\n",
      "def make_rotations(image):\n",
      "    imgs_rot = [(invert(invert(image).rotate(ang)), ang) for ang in angles]\n",
      "    return imgs_rot\n",
      "\n"
     ],
     "language": "python",
     "metadata": {},
     "outputs": [],
     "prompt_number": 7
    },
    {
     "cell_type": "code",
     "collapsed": false,
     "input": [
      "mode = 'test'\n",
      "\n",
      "if mode == 'train':\n",
      "    path_data = '/data/ndsb/train' # location of source train files\n",
      "    labels = os.listdir(path_data)\n",
      "    files_all = np.array([os.path.abspath(f) for f in glob.glob(os.path.join(path_data, '*', '*.jpg'))])\n",
      "    y_str = [os.path.basename(os.path.dirname(f)) for f in files_all]\n",
      "    y = le.transform(y_str)\n",
      "elif mode == 'test':\n",
      "    path_data = '/data/ndsb/test'  # location of source train files\n",
      "    files_all = np.array([os.path.abspath(f) for f in glob.glob(os.path.join(path_data, '*.jpg'))])\n",
      "    "
     ],
     "language": "python",
     "metadata": {},
     "outputs": [],
     "prompt_number": 11
    },
    {
     "cell_type": "code",
     "collapsed": false,
     "input": [
      "if mode == 'train':\n",
      "    path_augment = '/data/ndsb/augment/train'\n",
      "    # Make directory for each class label\n",
      "    for label in set(y_str):\n",
      "        aug_dir = os.path.join(path_augment, label)\n",
      "        if not os.path.exists(aug_dir):\n",
      "            os.mkdir(aug_dir)\n",
      "elif mode == 'test':\n",
      "    path_augment = '/data/ndsb/augment/test'\n",
      "    # Make directory for each image (each image might be its own label)\n",
      "    for f in files_all:\n",
      "        f_name = os.path.splitext(os.path.basename(f))[0]\n",
      "        aug_dir = os.path.join(path_augment, f_name)\n",
      "        if not os.path.exists(aug_dir):\n",
      "            os.mkdir(aug_dir)\n",
      "print 'Done prepping directories'"
     ],
     "language": "python",
     "metadata": {},
     "outputs": [],
     "prompt_number": 12
    },
    {
     "cell_type": "code",
     "collapsed": false,
     "input": [
      "tic = time.time()\n",
      "fails = []\n",
      "if mode == 'train':\n",
      "    for ii, (f, l_str) in enumerate(zip(files_all, y_str)):\n",
      "        f_name = os.path.splitext(os.path.basename(f))[0]\n",
      "        img = Image.open(f)\n",
      "        dir_save = os.path.join(path_augment, l_str)\n",
      "        img_rots = make_rotations(img)\n",
      "        for rimg, ang in img_rots:\n",
      "            path_save = os.path.join(dir_save, f_name + '_rot' + str(ang) + '.jpg')\n",
      "            rimg.save(path_save)\n",
      "\n",
      "        if ((ii+1) % 5000) == 0:\n",
      "            print 'Processed %i files in %is' % (ii+1, time.time() - tic)\n",
      "            sys.stdout.flush()\n",
      "elif mode == 'test':\n",
      "    for ii, f in enumerate(files_all):\n",
      "        f_name = os.path.splitext(os.path.basename(f))[0]\n",
      "        img = Image.open(f)\n",
      "        dir_save = os.path.join(path_augment, f_name)\n",
      "        img_rots = make_rotations(img)\n",
      "        for rimg, ang in img_rots:\n",
      "            path_save = os.path.join(dir_save, f_name + '_rot' + str(ang) + '.jpg')\n",
      "            rimg.save(path_save)\n",
      "#             try:\n",
      "#                 rimg.save(path_save)\n",
      "#             except IOError:\n",
      "#                 fails.append((rimg, path_save))\n",
      "\n",
      "        if ((ii+1) % 5000) == 0:\n",
      "            print 'Processed %i files in %is' % (ii+1, time.time() - tic)\n",
      "            sys.stdout.flush()\n",
      "print 'Done saving augmented files'"
     ],
     "language": "python",
     "metadata": {},
     "outputs": [
      {
       "output_type": "stream",
       "stream": "stdout",
       "text": [
        "Processed 5000 files in 23s\n"
       ]
      },
      {
       "output_type": "stream",
       "stream": "stdout",
       "text": [
        "Processed 10000 files in 95s\n"
       ]
      },
      {
       "output_type": "stream",
       "stream": "stdout",
       "text": [
        "Processed 15000 files in 226s\n"
       ]
      },
      {
       "output_type": "stream",
       "stream": "stdout",
       "text": [
        "Processed 20000 files in 326s\n"
       ]
      },
      {
       "output_type": "stream",
       "stream": "stdout",
       "text": [
        "Processed 25000 files in 447s\n"
       ]
      },
      {
       "output_type": "stream",
       "stream": "stdout",
       "text": [
        "Processed 30000 files in 578s\n"
       ]
      },
      {
       "output_type": "stream",
       "stream": "stdout",
       "text": [
        "Processed 35000 files in 702s\n"
       ]
      },
      {
       "output_type": "stream",
       "stream": "stdout",
       "text": [
        "Processed 40000 files in 828s\n"
       ]
      },
      {
       "output_type": "stream",
       "stream": "stdout",
       "text": [
        "Processed 45000 files in 966s\n"
       ]
      },
      {
       "output_type": "stream",
       "stream": "stdout",
       "text": [
        "Processed 50000 files in 1106s\n"
       ]
      },
      {
       "output_type": "stream",
       "stream": "stdout",
       "text": [
        "Processed 55000 files in 1248s\n"
       ]
      },
      {
       "output_type": "stream",
       "stream": "stdout",
       "text": [
        "Processed 60000 files in 1380s\n"
       ]
      },
      {
       "output_type": "stream",
       "stream": "stdout",
       "text": [
        "Processed 65000 files in 1522s\n"
       ]
      },
      {
       "output_type": "stream",
       "stream": "stdout",
       "text": [
        "Processed 70000 files in 1656s\n"
       ]
      },
      {
       "output_type": "stream",
       "stream": "stdout",
       "text": [
        "Processed 75000 files in 1796s\n"
       ]
      },
      {
       "output_type": "stream",
       "stream": "stdout",
       "text": [
        "Processed 80000 files in 1924s\n"
       ]
      },
      {
       "output_type": "stream",
       "stream": "stdout",
       "text": [
        "Processed 85000 files in 2061s\n"
       ]
      },
      {
       "output_type": "stream",
       "stream": "stdout",
       "text": [
        "Processed 90000 files in 2193s\n"
       ]
      },
      {
       "output_type": "stream",
       "stream": "stdout",
       "text": [
        "Processed 95000 files in 2322s\n"
       ]
      },
      {
       "output_type": "stream",
       "stream": "stdout",
       "text": [
        "Processed 100000 files in 2469s\n"
       ]
      },
      {
       "output_type": "stream",
       "stream": "stdout",
       "text": [
        "Processed 105000 files in 2603s\n"
       ]
      },
      {
       "output_type": "stream",
       "stream": "stdout",
       "text": [
        "Processed 110000 files in 2736s\n"
       ]
      },
      {
       "output_type": "stream",
       "stream": "stdout",
       "text": [
        "Processed 115000 files in 2864s\n"
       ]
      },
      {
       "output_type": "stream",
       "stream": "stdout",
       "text": [
        "Processed 120000 files in 3009s\n"
       ]
      },
      {
       "output_type": "stream",
       "stream": "stdout",
       "text": [
        "Processed 125000 files in 3153s\n"
       ]
      },
      {
       "output_type": "stream",
       "stream": "stdout",
       "text": [
        "Processed 130000 files in 3274s\n"
       ]
      },
      {
       "output_type": "stream",
       "stream": "stdout",
       "text": [
        "Done saving augmented files\n"
       ]
      }
     ],
     "prompt_number": 14
    },
    {
     "cell_type": "code",
     "collapsed": false,
     "input": [
      "# # TRY AGAIN\n",
      "# if mode in ['train', 'test']:\n",
      "#     for ii, (im, path_save) in enumerate(fails):\n",
      "#         path_save = os.path.join(dir_save, f_name + '_rot' + str(ang) + '.jpg')\n",
      "#         rimg.save(path_save)\n",
      "\n",
      "#         if ((ii+1) % 1000) == 0:\n",
      "#             print 'Processed %i files in %is' % (ii+1, time.time() - tic)\n"
     ],
     "language": "python",
     "metadata": {},
     "outputs": [
      {
       "ename": "IOError",
       "evalue": "[Errno 27] File too large: '../../data/ndsb/augment/test/26855_rot315.jpg'",
       "output_type": "pyerr",
       "traceback": [
        "\u001b[1;31m---------------------------------------------------------------------------\u001b[0m\n\u001b[1;31mIOError\u001b[0m                                   Traceback (most recent call last)",
        "\u001b[1;32m<ipython-input-66-f854fe75c473>\u001b[0m in \u001b[0;36m<module>\u001b[1;34m()\u001b[0m\n\u001b[0;32m      2\u001b[0m \u001b[1;32mfor\u001b[0m \u001b[0mii\u001b[0m\u001b[1;33m,\u001b[0m \u001b[1;33m(\u001b[0m\u001b[0mim\u001b[0m\u001b[1;33m,\u001b[0m \u001b[0mpath_save\u001b[0m\u001b[1;33m)\u001b[0m \u001b[1;32min\u001b[0m \u001b[0menumerate\u001b[0m\u001b[1;33m(\u001b[0m\u001b[0mfails\u001b[0m\u001b[1;33m)\u001b[0m\u001b[1;33m:\u001b[0m\u001b[1;33m\u001b[0m\u001b[0m\n\u001b[0;32m      3\u001b[0m     \u001b[0mpath_save\u001b[0m \u001b[1;33m=\u001b[0m \u001b[0mos\u001b[0m\u001b[1;33m.\u001b[0m\u001b[0mpath\u001b[0m\u001b[1;33m.\u001b[0m\u001b[0mjoin\u001b[0m\u001b[1;33m(\u001b[0m\u001b[0mdir_save\u001b[0m\u001b[1;33m,\u001b[0m \u001b[0mf_name\u001b[0m \u001b[1;33m+\u001b[0m \u001b[1;34m'_rot'\u001b[0m \u001b[1;33m+\u001b[0m \u001b[0mstr\u001b[0m\u001b[1;33m(\u001b[0m\u001b[0mang\u001b[0m\u001b[1;33m)\u001b[0m \u001b[1;33m+\u001b[0m \u001b[1;34m'.jpg'\u001b[0m\u001b[1;33m)\u001b[0m\u001b[1;33m\u001b[0m\u001b[0m\n\u001b[1;32m----> 4\u001b[1;33m     \u001b[0mrimg\u001b[0m\u001b[1;33m.\u001b[0m\u001b[0msave\u001b[0m\u001b[1;33m(\u001b[0m\u001b[0mpath_save\u001b[0m\u001b[1;33m)\u001b[0m\u001b[1;33m\u001b[0m\u001b[0m\n\u001b[0m\u001b[0;32m      5\u001b[0m \u001b[1;33m\u001b[0m\u001b[0m\n\u001b[0;32m      6\u001b[0m     \u001b[1;32mif\u001b[0m \u001b[1;33m(\u001b[0m\u001b[1;33m(\u001b[0m\u001b[0mii\u001b[0m\u001b[1;33m+\u001b[0m\u001b[1;36m1\u001b[0m\u001b[1;33m)\u001b[0m \u001b[1;33m%\u001b[0m \u001b[1;36m1000\u001b[0m\u001b[1;33m)\u001b[0m \u001b[1;33m==\u001b[0m \u001b[1;36m0\u001b[0m\u001b[1;33m:\u001b[0m\u001b[1;33m\u001b[0m\u001b[0m\n",
        "\u001b[1;32m/usr/lib/python2.7/site-packages/PIL/Image.pyc\u001b[0m in \u001b[0;36msave\u001b[1;34m(self, fp, format, **params)\u001b[0m\n\u001b[0;32m   1677\u001b[0m \u001b[1;33m\u001b[0m\u001b[0m\n\u001b[0;32m   1678\u001b[0m         \u001b[1;32mif\u001b[0m \u001b[0misPath\u001b[0m\u001b[1;33m(\u001b[0m\u001b[0mfp\u001b[0m\u001b[1;33m)\u001b[0m\u001b[1;33m:\u001b[0m\u001b[1;33m\u001b[0m\u001b[0m\n\u001b[1;32m-> 1679\u001b[1;33m             \u001b[0mfp\u001b[0m \u001b[1;33m=\u001b[0m \u001b[0mbuiltins\u001b[0m\u001b[1;33m.\u001b[0m\u001b[0mopen\u001b[0m\u001b[1;33m(\u001b[0m\u001b[0mfp\u001b[0m\u001b[1;33m,\u001b[0m \u001b[1;34m\"wb\"\u001b[0m\u001b[1;33m)\u001b[0m\u001b[1;33m\u001b[0m\u001b[0m\n\u001b[0m\u001b[0;32m   1680\u001b[0m             \u001b[0mclose\u001b[0m \u001b[1;33m=\u001b[0m \u001b[1;36m1\u001b[0m\u001b[1;33m\u001b[0m\u001b[0m\n\u001b[0;32m   1681\u001b[0m         \u001b[1;32melse\u001b[0m\u001b[1;33m:\u001b[0m\u001b[1;33m\u001b[0m\u001b[0m\n",
        "\u001b[1;31mIOError\u001b[0m: [Errno 27] File too large: '../../data/ndsb/augment/test/26855_rot315.jpg'"
       ]
      }
     ],
     "prompt_number": 66
    },
    {
     "cell_type": "code",
     "collapsed": false,
     "input": [
      "if mode == 'single':\n",
      "    # Testing with a single file\n",
      "    import matplotlib.pyplot as plt\n",
      "    %matplotlib inline\n",
      "    IMAGE_FILE = '/afs/ee.cooper.edu/user/t/a/tam8/data/ndsb/train/acantharia_protist/100224.jpg'\n",
      "    im = Image.open(IMAGE_FILE)\n",
      "    rots = make_rotations(im)\n",
      "    fig, axes = plt.subplots(1,2)\n",
      "    axes[0].imshow(im, interpolation='none', cmap='gray')\n",
      "    axes[1].imshow(rots[0][0], interpolation='none', cmap='gray')\n",
      "    # plt.axis('off')\n"
     ],
     "language": "python",
     "metadata": {},
     "outputs": [
      {
       "metadata": {},
       "output_type": "pyout",
       "prompt_number": 24,
       "text": [
        "<matplotlib.image.AxesImage at 0x7f4ded866e90>"
       ]
      },
      {
       "metadata": {},
       "output_type": "display_data",
       "png": "[encoded data removed]",
       "text": [
        "<matplotlib.figure.Figure at 0x7f4dedd8a750>"
       ]
      }
     ],
     "prompt_number": 24
    }
   ],
   "metadata": {}
  }
 ]
}