{
 "metadata": {
  "name": "",
  "signature": "sha256:c2d04c4bb03c531b46061629d9ab225348271e73774b44206dcdcb1cf4ad6106"
 },
 "nbformat": 3,
 "nbformat_minor": 0,
 "worksheets": [
  {
   "cells": [
    {
     "cell_type": "code",
     "collapsed": false,
     "input": [
      "import numpy as np\n",
      "from PIL import Image\n",
      "import matplotlib.pyplot as plt\n",
      "import time\n",
      "%matplotlib inline\n",
      "import lmdb\n",
      "from caffe.proto import caffe_pb2\n",
      "# import caffe\n",
      "\n"
     ],
     "language": "python",
     "metadata": {},
     "outputs": [],
     "prompt_number": 1
    },
    {
     "cell_type": "code",
     "collapsed": false,
     "input": [
      "train = lmdb.open('./data/48x48/ndsb_train_lmdb/')\n",
      "\n",
      "image_dims = (48, 48)\n",
      "with train.begin() as txn:\n",
      "    c = txn.cursor()\n",
      "    k0, v0 = iter(c).next()\n",
      "    \n",
      "datum = caffe_pb2.Datum()\n",
      "def bs_to_l(bs):\n",
      "    datum.ParseFromString(bs)\n",
      "    return dd.label\n",
      "\n",
      "def bs_to_im(bs):\n",
      "    datum.ParseFromString(bs)\n",
      "    image_dims = (datum.height, datum.width)\n",
      "    im = np.array(Image.frombytes('L', image_dims, datum.data))[:, :, None]\n",
      "    return im\n",
      "print bs_to_l(v0)\n",
      "\n",
      "# plt.imshow(np.squeeze(bs_to_im(v0)), cmap='gray', interpolation='none')"
     ],
     "language": "python",
     "metadata": {},
     "outputs": [
      {
       "output_type": "stream",
       "stream": "stdout",
       "text": [
        "0\n"
       ]
      }
     ],
     "prompt_number": 72
    },
    {
     "cell_type": "code",
     "collapsed": false,
     "input": [
      "%%timeit\n",
      "q = bs_to_im(v0)"
     ],
     "language": "python",
     "metadata": {},
     "outputs": [
      {
       "output_type": "stream",
       "stream": "stdout",
       "text": [
        "10000 loops, best of 3: 72.9 \u00b5s per loop\n"
       ]
      }
     ],
     "prompt_number": 66
    },
    {
     "cell_type": "code",
     "collapsed": false,
     "input": [
      "tic = time.time()\n",
      "test = lmdb.open('/data/ndsb/ndsb_test_lmdb/', readonly=True)\n",
      "\n",
      "with test.begin() as txn:\n",
      "    c = txn.cursor()\n",
      "    zz = [(k.split('_')[1], bs_to_im(v), bs_to_l(v)) \n",
      "          for k, v in c]\n",
      "len(zz)\n",
      "print time.time() - tic"
     ],
     "language": "python",
     "metadata": {},
     "outputs": [
      {
       "output_type": "stream",
       "stream": "stdout",
       "text": [
        "15.9699380398\n"
       ]
      }
     ],
     "prompt_number": 73
    },
    {
     "cell_type": "code",
     "collapsed": false,
     "input": [
      "zz[0]"
     ],
     "language": "python",
     "metadata": {},
     "outputs": [
      {
       "metadata": {},
       "output_type": "pyout",
       "prompt_number": 71,
       "text": [
        "('/data/ndsb/test/68720.jpg', array([[[255],\n",
        "         [255],\n",
        "         [255],\n",
        "         ..., \n",
        "         [255],\n",
        "         [255],\n",
        "         [255]],\n",
        " \n",
        "        [[255],\n",
        "         [255],\n",
        "         [255],\n",
        "         ..., \n",
        "         [255],\n",
        "         [255],\n",
        "         [255]],\n",
        " \n",
        "        [[255],\n",
        "         [255],\n",
        "         [255],\n",
        "         ..., \n",
        "         [255],\n",
        "         [255],\n",
        "         [255]],\n",
        " \n",
        "        ..., \n",
        "        [[255],\n",
        "         [255],\n",
        "         [255],\n",
        "         ..., \n",
        "         [255],\n",
        "         [255],\n",
        "         [255]],\n",
        " \n",
        "        [[255],\n",
        "         [255],\n",
        "         [255],\n",
        "         ..., \n",
        "         [255],\n",
        "         [255],\n",
        "         [255]],\n",
        " \n",
        "        [[255],\n",
        "         [255],\n",
        "         [255],\n",
        "         ..., \n",
        "         [255],\n",
        "         [255],\n",
        "         [255]]], dtype=uint8), 0)"
       ]
      }
     ],
     "prompt_number": 71
    },
    {
     "cell_type": "code",
     "collapsed": false,
     "input": [
      "plt.imshow(img, cmap='gray')\n"
     ],
     "language": "python",
     "metadata": {},
     "outputs": [
      {
       "metadata": {},
       "output_type": "pyout",
       "prompt_number": 34,
       "text": [
        "<matplotlib.image.AxesImage at 0x7efff4512610>"
       ]
      },
      {
       "metadata": {},
       "output_type": "display_data",
       "png": "[encoded data removed]",
       "text": [
        "<matplotlib.figure.Figure at 0x7effd36efe50>"
       ]
      }
     ],
     "prompt_number": 34
    },
    {
     "cell_type": "code",
     "collapsed": false,
     "input": [
      "# Scale to standardize input dimensions.\n",
      "input_ = np.zeros((len(inputs),\n",
      "    image_dims[0], image_dims[1], inputs[0].shape[2]),\n",
      "    dtype=np.float32)\n",
      "for ix, in_ in enumerate(inputs):\n",
      "    input_[ix] = caffe.io.resize_image(in_, image_dims)\n",
      "\n",
      "if oversample:\n",
      "    # Generate center, corner, and mirrored crops.\n",
      "    input_ = caffe.io.oversample(input_, crop_dims)\n",
      "else:\n",
      "    # Take center crop.\n",
      "    center = np.array(self.image_dims) / 2.0\n",
      "    crop = np.tile(center, (1, 2))[0] + np.concatenate([\n",
      "        -self.crop_dims / 2.0,\n",
      "        self.crop_dims / 2.0\n",
      "    ])\n",
      "    input_ = input_[:, crop[0]:crop[2], crop[1]:crop[3], :]"
     ],
     "language": "python",
     "metadata": {},
     "outputs": [
      {
       "ename": "NameError",
       "evalue": "name 'oversample' is not defined",
       "output_type": "pyerr",
       "traceback": [
        "\u001b[1;31m---------------------------------------------------------------------------\u001b[0m\n\u001b[1;31mNameError\u001b[0m                                 Traceback (most recent call last)",
        "\u001b[1;32m<ipython-input-36-7d5d4879fadc>\u001b[0m in \u001b[0;36m<module>\u001b[1;34m()\u001b[0m\n\u001b[0;32m      6\u001b[0m     \u001b[0minput_\u001b[0m\u001b[1;33m[\u001b[0m\u001b[0mix\u001b[0m\u001b[1;33m]\u001b[0m \u001b[1;33m=\u001b[0m \u001b[0mcaffe\u001b[0m\u001b[1;33m.\u001b[0m\u001b[0mio\u001b[0m\u001b[1;33m.\u001b[0m\u001b[0mresize_image\u001b[0m\u001b[1;33m(\u001b[0m\u001b[0min_\u001b[0m\u001b[1;33m,\u001b[0m \u001b[0mimage_dims\u001b[0m\u001b[1;33m)\u001b[0m\u001b[1;33m\u001b[0m\u001b[0m\n\u001b[0;32m      7\u001b[0m \u001b[1;33m\u001b[0m\u001b[0m\n\u001b[1;32m----> 8\u001b[1;33m \u001b[1;32mif\u001b[0m \u001b[0moversample\u001b[0m\u001b[1;33m:\u001b[0m\u001b[1;33m\u001b[0m\u001b[0m\n\u001b[0m\u001b[0;32m      9\u001b[0m     \u001b[1;31m# Generate center, corner, and mirrored crops.\u001b[0m\u001b[1;33m\u001b[0m\u001b[1;33m\u001b[0m\u001b[0m\n\u001b[0;32m     10\u001b[0m     \u001b[0minput_\u001b[0m \u001b[1;33m=\u001b[0m \u001b[0mcaffe\u001b[0m\u001b[1;33m.\u001b[0m\u001b[0mio\u001b[0m\u001b[1;33m.\u001b[0m\u001b[0moversample\u001b[0m\u001b[1;33m(\u001b[0m\u001b[0minput_\u001b[0m\u001b[1;33m,\u001b[0m \u001b[0mcrop_dims\u001b[0m\u001b[1;33m)\u001b[0m\u001b[1;33m\u001b[0m\u001b[0m\n",
        "\u001b[1;31mNameError\u001b[0m: name 'oversample' is not defined"
       ]
      }
     ],
     "prompt_number": 36
    },
    {
     "cell_type": "code",
     "collapsed": false,
     "input": [
      "datum = caffe_pb2.Datum()\n",
      "datum.ParseFromString(v0)\n",
      "# print datum.label\n",
      "\n",
      "image_dims = (datum.height, datum.width)\n",
      "img = Image.frombytes('L', image_dims, datum.data)\n",
      "plt.imshow(img, cmap='gray', interpolation='none')"
     ],
     "language": "python",
     "metadata": {},
     "outputs": [
      {
       "metadata": {},
       "output_type": "pyout",
       "prompt_number": 20,
       "text": [
        "<matplotlib.image.AxesImage at 0x7f9d388e5310>"
       ]
      },
      {
       "metadata": {},
       "output_type": "display_data",
       "png": "[encoded data removed]",
       "text": [
        "<matplotlib.figure.Figure at 0x7f9d38997fd0>"
       ]
      }
     ],
     "prompt_number": 20
    },
    {
     "cell_type": "code",
     "collapsed": false,
     "input": [
      "import tools.my_io as my_io\n",
      "\n",
      "tic = time.time()\n",
      "qq = my_io.load_lmdb('./data/48x48/ndsb_train_lmdb/')\n",
      "print 'Load db time:', time.time()-tic"
     ],
     "language": "python",
     "metadata": {},
     "outputs": [
      {
       "output_type": "stream",
       "stream": "stdout",
       "text": [
        "Load db time: 2.4930639267\n"
       ]
      }
     ],
     "prompt_number": 80
    },
    {
     "cell_type": "code",
     "collapsed": false,
     "input": [
      "p, im, l = qq[0]\n",
      "p\n",
      "im\n",
      "l"
     ],
     "language": "python",
     "metadata": {},
     "outputs": [
      {
       "metadata": {},
       "output_type": "pyout",
       "prompt_number": 85,
       "text": [
        "0"
       ]
      }
     ],
     "prompt_number": 85
    }
   ],
   "metadata": {}
  }
 ]
}