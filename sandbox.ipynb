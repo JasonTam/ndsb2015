{
 "metadata": {
  "name": "",
  "signature": "sha256:49bf53a55067399e250168611e91499c70b2c87828bad0d4998e32ce2c5103aa"
 },
 "nbformat": 3,
 "nbformat_minor": 0,
 "worksheets": [
  {
   "cells": [
    {
     "cell_type": "code",
     "collapsed": false,
     "input": [
      "import numpy as np\n",
      "import matplotlib.pyplot as plt\n",
      "import time\n",
      "import tools.my_io as my_io\n",
      "%matplotlib inline\n",
      "from scipy.misc import imresize\n",
      "\n",
      "# Make sure that caffe is on the python path:\n",
      "# caffe_root = '/afs/ee.cooper.edu/user/t/a/tam8/documents/caffe/'  # this file is expected to be in {caffe_root}/examples\n",
      "# import sys\n",
      "# sys.path.insert(0, caffe_root + 'python')\n",
      "\n",
      "import caffe\n",
      "\n",
      "# Set the right path to your model definition file, pretrained model weights,\n",
      "# and the image you would like to classify.\n",
      "MODEL_FILE = './deploy_deeper.prototxt'\n",
      "PRETRAINED = '/media/raid_arr/data/ndsb/models/pl_iter_56000.caffemodel'\n",
      "MEAN_FILE = '/media/raid_arr/data/ndsb/augment/testaug_mean.npy'\n",
      "IMAGE_FILE = '/afs/ee.cooper.edu/user/t/a/tam8/data/ndsb/train/acantharia_protist/100224.jpg'\n",
      "VALIDATION_DB = './data/64x64/ndsb_test_lmdb'\n",
      "\n",
      "TEST_IM = '/media/raid_arr/data/ndsb/augment/train/acantharia_protist/100224_rot0.jpg'"
     ],
     "language": "python",
     "metadata": {},
     "outputs": [],
     "prompt_number": 11
    },
    {
     "cell_type": "code",
     "collapsed": false,
     "input": [
      "net = caffe.Net(MODEL_FILE, PRETRAINED, caffe.TEST)\n",
      "im = caffe.io.load_image(TEST_IM, color=False)"
     ],
     "language": "python",
     "metadata": {},
     "outputs": [],
     "prompt_number": 12
    },
    {
     "cell_type": "code",
     "collapsed": false,
     "input": [
      "caffe.TEST"
     ],
     "language": "python",
     "metadata": {},
     "outputs": [
      {
       "metadata": {},
       "output_type": "pyout",
       "prompt_number": 21,
       "text": [
        "1"
       ]
      }
     ],
     "prompt_number": 21
    }
   ],
   "metadata": {}
  }
 ]
}