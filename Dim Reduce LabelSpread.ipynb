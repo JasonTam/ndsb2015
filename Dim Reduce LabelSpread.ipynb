{
 "metadata": {
  "name": "",
  "signature": "sha256:50c1d366999ed50baccba6eb216d480abd4c7d8b145c45d1e2abfc0623ba2e7a"
 },
 "nbformat": 3,
 "nbformat_minor": 0,
 "worksheets": [
  {
   "cells": [
    {
     "cell_type": "code",
     "collapsed": false,
     "input": [
      "import bhtsne\n",
      "import h5py\n",
      "\n",
      "import numpy as np\n",
      "import pickle\n",
      "from time import time\n",
      "import matplotlib.pyplot as plt\n",
      "%matplotlib inline\n"
     ],
     "language": "python",
     "metadata": {},
     "outputs": [],
     "prompt_number": 1
    },
    {
     "cell_type": "code",
     "collapsed": false,
     "input": [
      "train_lbls = np.load('/media/raid_arr/data/ndsb/train_lbls.npy')\n",
      "test_lbls = np.load('/media/raid_arr/data/ndsb/test_lbls.npy')\n",
      "\n",
      "x2_concat = np.load('/media/raid_arr/data/ndsb/tsne2.npy')\n",
      "x2_train = x2_concat[:len(train_lbls), :]\n",
      "x2_test = x2_concat[-len(test_lbls):, :]\n",
      "\n",
      "concat_lbls = np.r_[train_lbls, test_lbls]"
     ],
     "language": "python",
     "metadata": {},
     "outputs": [],
     "prompt_number": 3
    },
    {
     "cell_type": "code",
     "collapsed": false,
     "input": [
      "from sklearn.semi_supervised import LabelPropagation\n",
      "from sklearn.semi_supervised import LabelSpreading\n",
      "\n",
      "clf = LabelPropagation()"
     ],
     "language": "python",
     "metadata": {},
     "outputs": [],
     "prompt_number": 4
    },
    {
     "cell_type": "code",
     "collapsed": false,
     "input": [
      "# Fitting\n",
      "samp = np.arange(0, len(x2_concat)-1,10)100\n",
      "\n",
      "x2_sub = x2_concat[samp, :]\n",
      "lbls_sub = concat_lbls[samp]\n",
      "\n",
      "tic = time()\n",
      "clf.fit(x2_sub, lbls_sub)\n",
      "toc = time() - tic\n",
      "print toc"
     ],
     "language": "python",
     "metadata": {},
     "outputs": [
      {
       "output_type": "stream",
       "stream": "stdout",
       "text": [
        "5952.35704398\n"
       ]
      }
     ],
     "prompt_number": 14
    },
    {
     "cell_type": "code",
     "collapsed": false,
     "input": [
      "np.arange(0, len(x2_concat)-1,10).shape"
     ],
     "language": "python",
     "metadata": {},
     "outputs": [
      {
       "metadata": {},
       "output_type": "pyout",
       "prompt_number": 13,
       "text": [
        "(16074,)"
       ]
      }
     ],
     "prompt_number": 13
    }
   ],
   "metadata": {}
  }
 ]
}