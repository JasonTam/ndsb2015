{
 "metadata": {
  "name": "",
  "signature": "sha256:c2ee70e4e96d0812f271771a17369b77af8cd28e9f956bbb388b68b8d35eb6a6"
 },
 "nbformat": 3,
 "nbformat_minor": 0,
 "worksheets": [
  {
   "cells": [
    {
     "cell_type": "code",
     "collapsed": false,
     "input": [
      "import numpy as np\n",
      "import time\n",
      "import sys\n",
      "import tools.my_io as my_io\n",
      "import caffe\n",
      "\n",
      "# Set the right path to your model definition file, pretrained model weights,\n",
      "# and the image you would like to classify.\n",
      "MODEL_FILE = './deploy_vanilla.prototxt'\n",
      "PRETRAINED = './models/vanilla/vanilla_iter_20000.caffemodel'\n",
      "MEAN_FILE = './data/augmented/all_aug_mean.npy'\n",
      "# TEST_FILE = './data/test_final.txt'\n",
      "TEST_DB = '/data/ndsb/ndsb_test_lmdb'\n",
      "N = 20000   # Chunk size"
     ],
     "language": "python",
     "metadata": {},
     "outputs": [],
     "prompt_number": 11
    },
    {
     "cell_type": "code",
     "collapsed": false,
     "input": [
      "# Loading From Database\n",
      "print 'Loading data...'\n",
      "tic = time.time()\n",
      "data = my_io.load_lmdb(TEST_DB)\n",
      "print \"Done in %.2f s.\" % (time.time() - tic)\n",
      "\n",
      "# test_files_all, images, labels = zip(*data)\n",
      "# test_labels = labels"
     ],
     "language": "python",
     "metadata": {},
     "outputs": [
      {
       "output_type": "stream",
       "stream": "stdout",
       "text": [
        "Loading data...\n",
        "Done in 21.81 s."
       ]
      },
      {
       "output_type": "stream",
       "stream": "stdout",
       "text": [
        "\n"
       ]
      }
     ],
     "prompt_number": 2
    },
    {
     "cell_type": "code",
     "collapsed": false,
     "input": [
      "image_dims = data[0][1].shape[:2]\n",
      "net = caffe.Classifier(MODEL_FILE, PRETRAINED,\n",
      "                       mean=np.load(MEAN_FILE),\n",
      "                       raw_scale=1.0,    # 255 if load from caffe.io, 1.0 if load from my_io lmdb\n",
      "                       image_dims=image_dims,\n",
      "                       gpu=True)\n",
      "caffe.set_phase_test()\n",
      "caffe.set_mode_gpu()"
     ],
     "language": "python",
     "metadata": {},
     "outputs": [],
     "prompt_number": 9
    },
    {
     "cell_type": "code",
     "collapsed": false,
     "input": [
      "# Chunking for the sake of memory\n",
      "def chunks(l, n):\n",
      "    \"\"\" Yield successive n-sized chunks from l.\n",
      "    \"\"\"\n",
      "    #for i in xrange(0, len(l), n):\n",
      "    #    yield l[i:i+n]\n",
      "    return [l[i:i+n] for i in xrange(0, len(l), n)]\n",
      "\n",
      "data_chunks = chunks(data, N)\n",
      "len(data_chunks)"
     ],
     "language": "python",
     "metadata": {},
     "outputs": [
      {
       "metadata": {},
       "output_type": "pyout",
       "prompt_number": 12,
       "text": [
        "7"
       ]
      }
     ],
     "prompt_number": 12
    },
    {
     "cell_type": "code",
     "collapsed": false,
     "input": [
      "# PREDICTION TIME\n",
      "print 'Predicting...'\n",
      "prediction_list = []\n",
      "for ii, data_chunk in enumerate(data_chunks):\n",
      "    print 'Chunk', ii\n",
      "    sys.stdout.flush()\n",
      "    start = time.time()\n",
      "    test_files_chunk, images_chunk, fake_labels = zip(*data_chunk)\n",
      "    prediction = net.predict(images_chunk)\n",
      "    prediction_list.append(prediction)\n",
      "    print \"Done in %.2f s.\" % (time.time() - start)\n",
      "    sys.stdout.flush()\n",
      "    \n",
      "predictions = np.concatenate(prediction_list)"
     ],
     "language": "python",
     "metadata": {},
     "outputs": [
      {
       "output_type": "stream",
       "stream": "stdout",
       "text": [
        "Predicting...\n",
        "Chunk 0\n"
       ]
      },
      {
       "output_type": "stream",
       "stream": "stdout",
       "text": [
        "Done in 327.96 s.\n"
       ]
      },
      {
       "output_type": "stream",
       "stream": "stdout",
       "text": [
        "Chunk 1\n"
       ]
      },
      {
       "output_type": "stream",
       "stream": "stdout",
       "text": [
        "Done in 327.28 s.\n"
       ]
      },
      {
       "output_type": "stream",
       "stream": "stdout",
       "text": [
        "Chunk 2\n"
       ]
      },
      {
       "output_type": "stream",
       "stream": "stdout",
       "text": [
        "Done in 325.14 s.\n"
       ]
      },
      {
       "output_type": "stream",
       "stream": "stdout",
       "text": [
        "Chunk 3\n"
       ]
      },
      {
       "output_type": "stream",
       "stream": "stdout",
       "text": [
        "Done in 323.76 s.\n"
       ]
      },
      {
       "output_type": "stream",
       "stream": "stdout",
       "text": [
        "Chunk 4\n"
       ]
      },
      {
       "output_type": "stream",
       "stream": "stdout",
       "text": [
        "Done in 323.70 s.\n"
       ]
      },
      {
       "output_type": "stream",
       "stream": "stdout",
       "text": [
        "Chunk 5\n"
       ]
      },
      {
       "output_type": "stream",
       "stream": "stdout",
       "text": [
        "Done in 325.25 s.\n"
       ]
      },
      {
       "output_type": "stream",
       "stream": "stdout",
       "text": [
        "Chunk 6\n"
       ]
      },
      {
       "output_type": "stream",
       "stream": "stdout",
       "text": [
        "Done in 167.44 s.\n"
       ]
      }
     ],
     "prompt_number": 13
    },
    {
     "cell_type": "code",
     "collapsed": false,
     "input": [
      "# SUBMISSION CREATION\n",
      "test_files_all, images, labels = zip(*data)\n",
      "\n",
      "import tools.submission as sub\n",
      "f_name='SUBMISSION_VANILLA_LMDB.csv'\n",
      "sub.make_submission(test_files_all, predictions, f_name=f_name)\n",
      "\n",
      "print 'Submission created:', f_name"
     ],
     "language": "python",
     "metadata": {},
     "outputs": [
      {
       "output_type": "stream",
       "stream": "stdout",
       "text": [
        "Submission created: SUBMISSION_VANILLA_LMDB.csv\n"
       ]
      }
     ],
     "prompt_number": 15
    },
    {
     "cell_type": "code",
     "collapsed": false,
     "input": [
      "len(data)"
     ],
     "language": "python",
     "metadata": {},
     "outputs": [
      {
       "metadata": {},
       "output_type": "pyout",
       "prompt_number": 8,
       "text": [
        "130400"
       ]
      }
     ],
     "prompt_number": 8
    }
   ],
   "metadata": {}
  }
 ]
}