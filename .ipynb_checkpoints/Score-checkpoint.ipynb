{
 "metadata": {
  "name": "",
  "signature": "sha256:e7101b75f2c9073d0fdaec0a11c99fa11bd0479e5f14edf76a6d3a74ce94244b"
 },
 "nbformat": 3,
 "nbformat_minor": 0,
 "worksheets": [
  {
   "cells": [
    {
     "cell_type": "markdown",
     "metadata": {},
     "source": [
      "- nonlinear embedding\n",
      "- autoencode the nonlabeled\n",
      "- assume label of highest prob on unlabeled and retrain network\n",
      "- perform network surgery (weights learned from unsupervised and then fine tuen with supervised)\n",
      "- or just use\n",
      "https://github.com/BVLC/caffe/tree/51be3523b8fe883d86600fbf3531b6ef7a6290fe/examples/finetune_flickr_style\n",
      "- also try hingeloss - as it would be anaolgous to using SVM\n",
      "\n",
      "- add morph features in fc layer\n",
      "- size/ bounding box features\n",
      "\n",
      "- feed features into labelspread\n",
      "- feature extraction is exemplified here:\n",
      " http://caffe.berkeleyvision.org/gathered/examples/feature_extraction.html\n",
      " \n",
      " \n",
      " 1. predict\n",
      " 2. take max as label\n",
      " 3. create guess.txt, cat guess0.txt ../data/train0.txt > ./guess_comb0.txt\n",
      "     - ./create_ndsb.sh\n",
      "     - randomize selection of guess data?? or select based on proba????\n",
      " 5. fine tune model to new db (or concatted db)\n",
      " 6. predict, repeat\n",
      " \n",
      "\n",
      "Find the problematic classes (low probs's - massive uncertainty), or high log loss for training data. Augment those particlar classes.\n",
      " \n",
      " \n",
      "t0 Log loss: 1.33067\n",
      " \n",
      " "
     ]
    },
    {
     "cell_type": "code",
     "collapsed": false,
     "input": [
      "import numpy as np\n",
      "import matplotlib.pyplot as plt\n",
      "import time\n",
      "%matplotlib inline\n",
      "\n",
      "# Make sure that caffe is on the python path:\n",
      "caffe_root = '/afs/ee.cooper.edu/user/t/a/tam8/documents/caffe/'  # this file is expected to be in {caffe_root}/examples\n",
      "import sys\n",
      "sys.path.insert(0, caffe_root + 'python')\n",
      "\n",
      "import caffe\n",
      "\n",
      "# Set the right path to your model definition file, pretrained model weights,\n",
      "# and the image you would like to classify.\n",
      "MODEL_FILE = './deploy.prototxt'\n",
      "# PRETRAINED = './models/caffenet_train_iter_30000.caffemodel'\n",
      "PRETRAINED = './models/semisup_tune_iter_25000.caffemodel'\n",
      "# MEAN_FILE = './data/64x64/ndsb_mean.npy'\n",
      "MEAN_FILE = './guess_labels/ndsb_mean.npy'\n",
      "IMAGE_FILE = '/afs/ee.cooper.edu/user/t/a/tam8/data/ndsb/train/acantharia_protist/100224.jpg'\n",
      "TEST_FILE = './data/test0.txt'"
     ],
     "language": "python",
     "metadata": {},
     "outputs": [],
     "prompt_number": 1
    },
    {
     "cell_type": "code",
     "collapsed": false,
     "input": [
      "caffe.set_phase_test()\n",
      "caffe.set_mode_gpu()\n",
      "net = caffe.Classifier(MODEL_FILE, PRETRAINED,\n",
      "                       mean=np.load(MEAN_FILE),\n",
      "                       raw_scale=255,\n",
      "                       image_dims=(57, 57))"
     ],
     "language": "python",
     "metadata": {},
     "outputs": [],
     "prompt_number": 2
    },
    {
     "cell_type": "code",
     "collapsed": false,
     "input": [
      "# Loading validation paths and labels\n",
      "test_doc = np.genfromtxt(TEST_FILE,dtype='str')\n",
      "test_files = test_doc[:, 0]\n",
      "test_labels = test_doc[:, 1].astype(int)"
     ],
     "language": "python",
     "metadata": {},
     "outputs": [],
     "prompt_number": 3
    },
    {
     "cell_type": "code",
     "collapsed": false,
     "input": [
      "images = [caffe.io.load_image(im_path, color=False) for im_path in test_files]"
     ],
     "language": "python",
     "metadata": {},
     "outputs": [],
     "prompt_number": 4
    },
    {
     "cell_type": "code",
     "collapsed": false,
     "input": [
      "# %%time\n",
      "n = 4420\n",
      "# im = caffe.io.load_image(test_files[n], color=False)\n",
      "im = images[n]\n",
      "print im.shape\n",
      "prediction = net.predict([im])\n",
      "print 'prediction shape:', prediction[0].shape\n",
      "plt.plot(prediction[0])\n",
      "print 'predicted class:', prediction[0].argmax()\n",
      "print 'true class:', test_labels[n]\n",
      "test_labels[n]\n",
      "print 'logloss:', -np.log(prediction[0][test_labels[n]])\n",
      "plt.figure()\n",
      "plt.imshow(np.squeeze(im), interpolation='none', cmap='gray')"
     ],
     "language": "python",
     "metadata": {},
     "outputs": [
      {
       "output_type": "stream",
       "stream": "stdout",
       "text": [
        "(72, 114, 1)\n",
        "prediction shape:"
       ]
      },
      {
       "output_type": "stream",
       "stream": "stdout",
       "text": [
        " (121,)\n",
        "predicted class:"
       ]
      },
      {
       "output_type": "stream",
       "stream": "stdout",
       "text": [
        " 11\n",
        "true class: 88\n",
        "logloss: 6.06269\n"
       ]
      },
      {
       "metadata": {},
       "output_type": "pyout",
       "prompt_number": 5,
       "text": [
        "<matplotlib.image.AxesImage at 0x7fc3d0286390>"
       ]
      },
      {
       "metadata": {},
       "output_type": "display_data",
       "png": "[encoded data removed]",
       "text": [
        "<matplotlib.figure.Figure at 0x7fc3d03c8710>"
       ]
      },
      {
       "metadata": {},
       "output_type": "display_data",
       "png": "[encoded data removed]",
       "text": [
        "<matplotlib.figure.Figure at 0x7fc3d0460990>"
       ]
      }
     ],
     "prompt_number": 5
    },
    {
     "cell_type": "code",
     "collapsed": false,
     "input": [
      "start = time.time()\n",
      "prediction = net.predict(images)\n",
      "print \"Done in %.2f s.\" % (time.time() - start)"
     ],
     "language": "python",
     "metadata": {},
     "outputs": [
      {
       "output_type": "stream",
       "stream": "stdout",
       "text": [
        "Done in 378.57 s.\n"
       ]
      }
     ],
     "prompt_number": 6
    },
    {
     "cell_type": "code",
     "collapsed": false,
     "input": [
      "ll_ii = np.log(prediction[range(len(test_labels)), test_labels])\n",
      "ll = -np.mean(np.log(prediction[range(len(test_labels)), test_labels]))\n",
      "print 'Log loss:', ll"
     ],
     "language": "python",
     "metadata": {},
     "outputs": [
      {
       "output_type": "stream",
       "stream": "stdout",
       "text": [
        "Log loss: 1.44826\n"
       ]
      }
     ],
     "prompt_number": 7
    },
    {
     "cell_type": "code",
     "collapsed": false,
     "input": [
      "ll_bylabel = np.zeros(len(set(test_labels)))\n",
      "for l in set(test_labels):\n",
      "    ll_bylabel[l] = -np.mean(ll_ii[test_labels==l])\n",
      "print ll_bylabel\n",
      "print np.argmax(ll_bylabel), np.max(ll_bylabel)"
     ],
     "language": "python",
     "metadata": {},
     "outputs": [
      {
       "output_type": "stream",
       "stream": "stdout",
       "text": [
        "[ 0.49195185  4.02168751  1.35220587  5.11685848  4.96185112  0.99347305\n",
        "  1.2581749   2.90048003  0.05804228  0.02792308  1.06848741  1.17680955\n",
        "  1.31692636  1.25706398  1.25259018  2.2599144   0.73820078  2.55495811\n",
        "  1.04566789  0.75851446  1.867962    1.97368014  1.50064635  3.16782856\n",
        "  0.73278612  0.4229905   6.41248703  2.45949984  1.21430838  3.01863194\n",
        "  5.43070555  4.9303751   2.88300824  3.16688013  2.66645885  1.66259801\n",
        "  0.80126226  1.99520147  1.83274269  1.86115909  2.37238169  1.45146382\n",
        "  1.8560698   0.40234759  2.2145772   2.57994056  5.8913517   1.30874217\n",
        "  3.89270377  2.83789659  5.77370834  4.29601431  2.67967796  1.63563204\n",
        "  3.9849956   4.37761784  5.97368574  0.78037751  2.38251042  1.63212264\n",
        "  1.14264703  1.99227357  5.41210365  2.94503212  1.17472208  2.41938472\n",
        "  9.46146488  1.14560676  1.33783746  1.0989809   2.02074122  2.79155993\n",
        "  0.41718757  1.70335698  2.3948493   1.47695303  6.92178726  1.49768174\n",
        "  4.15186596  4.41667175  0.93724722  2.2768054   2.32325387  0.55832022\n",
        "  1.29376483  1.66668439  2.30266905  1.86598444  7.45346975  2.63077044\n",
        "  1.32749772  2.6483922   3.96542358  1.11067569  1.22398078  2.34758019\n",
        "  1.60582232  1.96973467  1.73888946  1.54630756  3.6857512   1.77520406\n",
        "  6.56305742  3.27077031  1.99974644  5.98972559  2.97120047  1.74842417\n",
        "  0.45652524  1.32783151  0.32330677  1.50704694  3.86258054  2.10078049\n",
        "  2.59399939  0.29093495  1.57140303  1.13238442  3.61403656  3.66763306\n",
        "  3.67494011]\n",
        "66 9.4614648819\n"
       ]
      }
     ],
     "prompt_number": 8
    },
    {
     "cell_type": "code",
     "collapsed": false,
     "input": [
      "guess = np.argmax(prediction, axis=1)\n",
      "guess_arr = np.c_[test_files, guess]\n",
      "# np.savetxt('./guess_labels/guess1.txt', guess_arr, fmt='%s', delimiter='\\t')\n",
      "\n"
     ],
     "language": "python",
     "metadata": {},
     "outputs": [],
     "prompt_number": 9
    },
    {
     "cell_type": "code",
     "collapsed": false,
     "input": [
      "from sklearn.metrics import confusion_matrix\n",
      "from sklearn.metrics import accuracy_score\n",
      "import tools.le as le\n",
      "conf_arr = confusion_matrix(test_labels, guess)\n",
      "acc = accuracy_score(test_labels, guess)\n",
      "print acc\n",
      "\n",
      "d = np.diagonal(conf_arr)\n",
      "np.fill_diagonal(conf_arr, 0)\n",
      "\n",
      "\n",
      "pt = np.sum(conf_arr, axis=0)\n",
      "names = np.array(le.le.inverse_transform(range(121)))\n",
      "ind = pt.argsort()\n",
      "np.c_[pt[ind], d[ind], names[ind], np.arange(121)[ind]]\n"
     ],
     "language": "python",
     "metadata": {},
     "outputs": [
      {
       "output_type": "stream",
       "stream": "stdout",
       "text": [
        "0.598201144726\n",
        "[155   0   9   2   0  99  59  11  78  33 110 253  75  10  84  11  12   2\n",
        "   7  40   9   5  11   3 137 205   0  16  17   0   0   1   1  14  16 101\n",
        "  81  45   3   9  10  11  37  98   8   5   1  15   0  25   0   2   9  18\n",
        "   3   0   0  18   2   1  31   1   0   2  38   4   0  25  56  37  12   4\n",
        " 123  16   3  10   0   7   1   0  24   9   8  65  68 113   9  13   0   4\n",
        "  33  12   0   8  22  15  24  14  50  20   1  25   0   2  11   0   1   4\n",
        " 122   6 353  77   0  34  30  67  30   9  10   3   5]\n"
       ]
      },
      {
       "metadata": {},
       "output_type": "pyout",
       "prompt_number": 72,
       "text": [
        "array([['0', '0', 'copepod_other', '26'],\n",
        "       ['0', '0', 'fish_larvae_leptocephali', '51'],\n",
        "       ['0', '0', 'hydromedusae_other', '66'],\n",
        "       ['0', '0', 'invertebrate_larvae_other_A', '78'],\n",
        "       ['0', '0', 'siphonophore_other_parts', '102'],\n",
        "       ['0', '0', 'hydromedusae_liriope', '62'],\n",
        "       ['0', '0', 'siphonophore_partial', '103'],\n",
        "       ['0', '0', 'invertebrate_larvae_other_B', '79'],\n",
        "       ['0', '0', 'hydromedusae_haliscera_small_sideview', '61'],\n",
        "       ['0', '0', 'ephyra', '46'],\n",
        "       ['0', '0', 'fish_larvae_very_thin_body', '55'],\n",
        "       ['0', '0', 'euphausiids_young', '48'],\n",
        "       ['0', '0', 'fish_larvae_deep_body', '50'],\n",
        "       ['0', '0', 'pteropod_theco_dev_seq', '88'],\n",
        "       ['0', '0', 'acantharia_protist_big_center', '1'],\n",
        "       ['0', '0', 'heteropod', '56'],\n",
        "       ['0', '0', 'siphonophore_physonect_young', '105'],\n",
        "       ['1', '0', 'hydromedusae_h15', '59'],\n",
        "       ['1', '0', 'echinopluteus', '45'],\n",
        "       ['1', '0', 'ctenophore_lobate', '31'],\n",
        "       ['1', '0', 'ctenophore_cydippid_tentacles', '30'],\n",
        "       ['1', '0', 'ctenophore_cydippid_no_tentacles', '29'],\n",
        "       ['1', '0', 'shrimp-like_other', '92'],\n",
        "       ['1', '0', 'protist_star', '86'],\n",
        "       ['1', '0', 'amphipods', '3'],\n",
        "       ['1', '0', 'appendicularian_fritillaridae', '4'],\n",
        "       ['1', '0', 'hydromedusae_typeE', '76'],\n",
        "       ['1', '0', 'pteropod_triangle', '89'],\n",
        "       ['2', '0', 'echinoderm_larva_pluteus_brittlestar', '38'],\n",
        "       ['2', '0', 'appendicularian_straight', '7'],\n",
        "       ['2', '0', 'tornaria_acorn_worm_larvae', '107'],\n",
        "       ['2', '0', 'trochophore_larvae', '112'],\n",
        "       ['3', '0', 'fish_larvae_thin_body', '54'],\n",
        "       ['3', '0', 'unknown_sticks', '119'],\n",
        "       ['3', '0', 'echinoderm_larva_pluteus_typeC', '40'],\n",
        "       ['3', '0', 'trichodesmium_multiple', '109'],\n",
        "       ['3', '0', 'hydromedusae_sideview_big', '71'],\n",
        "       ['3', '0', 'siphonophore_calycophoran_sphaeronectes_stem', '100'],\n",
        "       ['3', '0', 'chordate_type1', '13'],\n",
        "       ['3', '0', 'hydromedusae_narco_dark', '63'],\n",
        "       ['3', '0', 'stomatopod', '106'],\n",
        "       ['3', '0', 'hydromedusae_typeD', '74'],\n",
        "       ['5', '0', 'hydromedusae_typeD_bell_and_tentacles', '75'],\n",
        "       ['5', '0', 'fish_larvae_medium_body', '52'],\n",
        "       ['6', '0', 'copepod_cyclopoid_copilia', '23'],\n",
        "       ['6', '0', 'decapods', '32'],\n",
        "       ['6', '0', 'artifacts_edge', '9'],\n",
        "       ['6', '0', 'polychaete', '81'],\n",
        "       ['6', '0', 'hydromedusae_typeF', '77'],\n",
        "       ['6', '0', 'tunicate_salp_chains', '117'],\n",
        "       ['8', '0', 'copepod_calanoid_flatheads', '17'],\n",
        "       ['8', '0', 'diatom_chain_string', '36'],\n",
        "       ['9', '0', 'hydromedusae_bell_and_tentacles', '58'],\n",
        "       ['9', '0', 'echinoderm_larva_seastar_bipinnaria', '42'],\n",
        "       ['11', '0', 'shrimp_caridean', '93'],\n",
        "       ['11', '0', 'hydromedusae_shapeA', '68'],\n",
        "       ['11', '0', 'pteropod_butterfly', '87'],\n",
        "       ['12', '0', 'siphonophore_physonect', '104'],\n",
        "       ['12', '0', 'hydromedusae_partial_dark', '67'],\n",
        "       ['13', '0', 'tunicate_salp', '116'],\n",
        "       ['13', '0', 'copepod_calanoid_eucalanus', '16'],\n",
        "       ['13', '0', 'unknown_unclassified', '120'],\n",
        "       ['13', '0', 'echinoderm_seacucumber_auricularia_larva', '44'],\n",
        "       ['14', '0', 'siphonophore_calycophoran_sphaeronectes', '99'],\n",
        "       ['14', '0', 'copepod_calanoid_large_side_antennatucked', '20'],\n",
        "       ['14', '0', 'crustacean_other', '27'],\n",
        "       ['14', '0', 'echinoderm_larva_pluteus_early', '39'],\n",
        "       ['15', '0', 'diatom_chain_tube', '37'],\n",
        "       ['15', '0', 'ctenophore_cestid', '28'],\n",
        "       ['15', '0', 'echinoderm_larva_pluteus_urchin', '41'],\n",
        "       ['16', '0', 'acantharia_protist_halo', '2'],\n",
        "       ['16', '0', 'jellies_tentacles', '80'],\n",
        "       ['17', '0', 'hydromedusae_solmundella', '73'],\n",
        "       ['18', '0', 'hydromedusae_aglaura', '57'],\n",
        "       ['19', '0', 'copepod_calanoid_octomoms', '21'],\n",
        "       ['19', '0', 'siphonophore_calycophoran_rocketship_adult', '97'],\n",
        "       ['20', '0', 'fish_larvae_myctophids', '53'],\n",
        "       ['20', '0', 'hydromedusae_narcomedusae', '65'],\n",
        "       ['20', '0', 'copepod_calanoid_eggs', '15'],\n",
        "       ['20', '0', 'tunicate_partial', '115'],\n",
        "       ['20', '0', 'unknown_blobs_and_smudges', '118'],\n",
        "       ['20', '0', 'detritus_blob', '33'],\n",
        "       ['20', '0', 'fecal_pellet', '49'],\n",
        "       ['21', '0', 'copepod_calanoid_frillyAntennae', '18'],\n",
        "       ['21', '0', 'shrimp_sergestidae', '94'],\n",
        "       ['21', '0', 'radiolarian_chain', '90'],\n",
        "       ['22', '0', 'hydromedusae_haliscera', '60'],\n",
        "       ['22', '0', 'hydromedusae_shapeB', '70'],\n",
        "       ['23', '0', 'artifacts', '8'],\n",
        "       ['25', '0', 'protist_noctiluca', '84'],\n",
        "       ['25', '0', 'copepod_calanoid_small_longantennae', '22'],\n",
        "       ['26', '0', 'trichodesmium_puff', '110'],\n",
        "       ['26', '0', 'euphausiids', '47'],\n",
        "       ['28', '0', 'protist_fuzzy_olive', '83'],\n",
        "       ['29', '0', 'echinoderm_larva_seastar_brachiolaria', '43'],\n",
        "       ['30', '0', 'protist_dark_center', '82'],\n",
        "       ['37', '0', 'siphonophore_calycophoran_sphaeronectes_young', '101'],\n",
        "       ['38', '0', 'radiolarian_colony', '91'],\n",
        "       ['38', '0', 'siphonophore_calycophoran_abylidae', '96'],\n",
        "       ['38', '0', 'siphonophore_calycophoran_rocketship_young', '98'],\n",
        "       ['39', '0', 'shrimp_zoea', '95'],\n",
        "       ['40', '0', 'acantharia_protist', '0'],\n",
        "       ['45', '0', 'trichodesmium_bowtie', '108'],\n",
        "       ['48', '0', 'chaetognath_non_sagitta', '10'],\n",
        "       ['49', '0', 'copepod_cyclopoid_oithona_eggs', '25'],\n",
        "       ['50', '0', 'tunicate_doliolid_nurse', '114'],\n",
        "       ['50', '0', 'tunicate_doliolid', '113'],\n",
        "       ['50', '0', 'chaetognath_sagitta', '12'],\n",
        "       ['53', '0', 'detritus_filamentous', '34'],\n",
        "       ['56', '0', 'copepod_calanoid_large', '19'],\n",
        "       ['59', '0', 'copepod_cyclopoid_oithona', '24'],\n",
        "       ['63', '0', 'protist_other', '85'],\n",
        "       ['63', '0', 'appendicularian_slight_curve', '6'],\n",
        "       ['74', '0', 'trichodesmium_tuft', '111'],\n",
        "       ['75', '0', 'hydromedusae_solmaris', '72'],\n",
        "       ['80', '0', 'hydromedusae_narco_young', '64'],\n",
        "       ['91', '0', 'appendicularian_s_shape', '5'],\n",
        "       ['97', '0', 'copepod_calanoid', '14'],\n",
        "       ['104', '0', 'hydromedusae_shapeA_sideview_small', '69'],\n",
        "       ['107', '0', 'detritus_other', '35'],\n",
        "       ['110', '0', 'chaetognath_other', '11']], \n",
        "      dtype='|S45')"
       ]
      }
     ],
     "prompt_number": 72
    },
    {
     "cell_type": "code",
     "collapsed": false,
     "input": [
      "\n",
      "\n",
      "\n",
      "\n",
      "\n",
      "\n",
      "\n",
      "\n",
      "\n",
      "\n",
      "\n",
      "\n",
      "\n",
      "\n",
      "\n",
      "\n",
      "\n",
      "\n",
      "\n",
      "\n",
      "\n",
      "\n",
      "\n",
      "\n",
      "\n",
      "\n",
      "\n",
      "\n",
      "\n",
      "\n",
      "\n",
      "\n",
      "\n",
      "\n",
      "\n",
      "\n",
      "\n",
      "\n",
      "\n",
      "\n",
      "\n",
      "\n",
      "\n",
      "\n"
     ],
     "language": "python",
     "metadata": {},
     "outputs": []
    }
   ],
   "metadata": {}
  }
 ]
}