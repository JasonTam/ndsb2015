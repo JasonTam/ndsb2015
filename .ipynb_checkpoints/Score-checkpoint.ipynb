{
 "metadata": {
  "name": "",
  "signature": "sha256:1923cbebe43ec30cc7034b6f10aa81b5b92a1d27af628f072c6b10375b401879"
 },
 "nbformat": 3,
 "nbformat_minor": 0,
 "worksheets": [
  {
   "cells": [
    {
     "cell_type": "code",
     "collapsed": false,
     "input": [
      "import numpy as np\n",
      "import matplotlib.pyplot as plt\n",
      "import time\n",
      "%matplotlib inline\n",
      "\n",
      "# Make sure that caffe is on the python path:\n",
      "caffe_root = '/afs/ee.cooper.edu/user/t/a/tam8/documents/caffe/'  # this file is expected to be in {caffe_root}/examples\n",
      "import sys\n",
      "sys.path.insert(0, caffe_root + 'python')\n",
      "\n",
      "import caffe\n",
      "\n",
      "# Set the right path to your model definition file, pretrained model weights,\n",
      "# and the image you would like to classify.\n",
      "MODEL_FILE = './deploy.prototxt'\n",
      "PRETRAINED = './models/caffenet_train_iter_20000.caffemodel'\n",
      "MEAN_FILE = './data/ndsb_mean.npy'\n",
      "IMAGE_FILE = '/afs/ee.cooper.edu/user/t/a/tam8/data/ndsb/train/acantharia_protist/100224.jpg'\n",
      "TEST_FILE = './data/test0.txt'"
     ],
     "language": "python",
     "metadata": {},
     "outputs": [],
     "prompt_number": 58
    },
    {
     "cell_type": "code",
     "collapsed": false,
     "input": [
      "caffe.set_phase_test()\n",
      "caffe.set_mode_gpu()\n",
      "net = caffe.Classifier(MODEL_FILE, PRETRAINED,\n",
      "                       mean=np.load(MEAN_FILE),\n",
      "#                        channel_swap=(2,1,0),\n",
      "                       raw_scale=255,\n",
      "                       image_dims=(42, 42))"
     ],
     "language": "python",
     "metadata": {},
     "outputs": [],
     "prompt_number": 59
    },
    {
     "cell_type": "code",
     "collapsed": false,
     "input": [
      "# Loading validation paths and labels\n",
      "test_doc = np.genfromtxt(TEST_FILE,dtype='str')\n",
      "test_files = test_doc[:, 0]\n",
      "test_labels = test_doc[:, 1].astype(int)"
     ],
     "language": "python",
     "metadata": {},
     "outputs": [],
     "prompt_number": 60
    },
    {
     "cell_type": "code",
     "collapsed": false,
     "input": [
      "images = [caffe.io.load_image(im_path, color=False) for im_path in test_files]"
     ],
     "language": "python",
     "metadata": {},
     "outputs": [],
     "prompt_number": 61
    },
    {
     "cell_type": "code",
     "collapsed": false,
     "input": [
      "# %%time\n",
      "n = 300\n",
      "# im = caffe.io.load_image(test_files[n], color=False)\n",
      "im = images[n]\n",
      "print im.shape\n",
      "prediction = net.predict([im])\n",
      "print 'prediction shape:', prediction[0].shape\n",
      "plt.plot(prediction[0])\n",
      "print 'predicted class:', prediction[0].argmax()\n",
      "print 'true class:', test_labels[n]\n",
      "test_labels[n]\n",
      "print 'logloss:', -np.log(prediction[0][test_labels[n]])\\"
     ],
     "language": "python",
     "metadata": {},
     "outputs": [
      {
       "output_type": "stream",
       "stream": "stdout",
       "text": [
        "(43, 42, 1)\n",
        "prediction shape:"
       ]
      },
      {
       "output_type": "stream",
       "stream": "stdout",
       "text": [
        " (121,)\n",
        "predicted class:"
       ]
      },
      {
       "output_type": "stream",
       "stream": "stdout",
       "text": [
        " 5\n",
        "true class: 5\n",
        "logloss: 0.29734\n"
       ]
      },
      {
       "metadata": {},
       "output_type": "display_data",
       "png": "[encoded data removed]",
       "text": [
        "<matplotlib.figure.Figure at 0x7f8bd43f65d0>"
       ]
      }
     ],
     "prompt_number": 62
    },
    {
     "cell_type": "code",
     "collapsed": false,
     "input": [
      "start = time.time()\n",
      "prediction = net.predict(images)\n",
      "print \"Done in %.2f s.\" % (time.time() - start)"
     ],
     "language": "python",
     "metadata": {},
     "outputs": [
      {
       "output_type": "stream",
       "stream": "stdout",
       "text": [
        "Done in 129.81 s.\n"
       ]
      }
     ],
     "prompt_number": 63
    },
    {
     "cell_type": "code",
     "collapsed": false,
     "input": [
      "ll_ii = np.log(prediction[range(len(test_labels)), test_labels])\n",
      "ll = -np.mean(np.log(prediction[range(len(test_labels)), test_labels]))\n",
      "print 'Log loss:', ll"
     ],
     "language": "python",
     "metadata": {},
     "outputs": [
      {
       "output_type": "stream",
       "stream": "stdout",
       "text": [
        "Log loss: 1.58745\n"
       ]
      }
     ],
     "prompt_number": 64
    },
    {
     "cell_type": "code",
     "collapsed": false,
     "input": [
      "ll_bylabel = np.zeros(len(set(test_labels)))\n",
      "for l in set(test_labels):\n",
      "    ll_bylabel[l] = -np.mean(ll_ii[test_labels==l])\n",
      "ll_bylabel"
     ],
     "language": "python",
     "metadata": {},
     "outputs": [
      {
       "metadata": {},
       "output_type": "pyout",
       "prompt_number": 65,
       "text": [
        "array([ 0.42306128,  4.2985177 ,  2.09519076,  3.36099768,  5.46178102,\n",
        "        1.4426626 ,  1.47957528,  2.56138897,  0.28666547,  0.13212603,\n",
        "        0.97323102,  1.39326799,  1.38089299,  1.42728901,  1.25147045,\n",
        "        2.68905497,  1.74144912,  2.43020916,  2.60022092,  1.63502383,\n",
        "        1.82268214,  3.34068251,  2.04486942,  3.18633103,  0.97885299,\n",
        "        0.55574381,  5.3453207 ,  2.51742196,  2.02090526,  3.82947969,\n",
        "        4.31662083,  3.6528759 ,  3.09624958,  2.42302918,  3.1830821 ,\n",
        "        2.03947592,  0.85475147,  1.95735824,  3.22398758,  2.77152896,\n",
        "        1.80437374,  2.2942915 ,  1.18342471,  0.53747487,  2.18427825,\n",
        "        3.528579  ,  4.46493912,  1.93513739,  4.39478922,  2.67374229,\n",
        "        5.7641468 ,  3.0795989 ,  2.50635934,  2.28425837,  3.11067367,\n",
        "        5.53981209,  5.47851467,  1.40739739,  2.64470696,  2.34731507,\n",
        "        1.30837095,  5.58949327,  4.43450451,  2.73903036,  1.86627805,\n",
        "        2.30579185,  7.06728888,  1.72003758,  1.48718286,  1.9810555 ,\n",
        "        2.51736093,  3.96934462,  0.48005611,  1.82627749,  2.37126684,\n",
        "        2.04086804,  7.37392664,  2.73514986,  4.75384474,  4.57880306,\n",
        "        1.65197289,  3.09400773,  3.1295023 ,  0.6447264 ,  1.40529323,\n",
        "        1.3336978 ,  1.60011339,  2.63163757,  7.39608049,  2.85029054,\n",
        "        2.3852129 ,  3.32385731,  3.60511374,  2.88054395,  1.63886666,\n",
        "        2.87741923,  1.48379672,  2.09244251,  1.95867229,  2.21253514,\n",
        "        3.83001328,  2.29110622,  5.63557577,  4.11073685,  2.11521006,\n",
        "        4.40002918,  4.06625366,  2.48519349,  0.90202224,  3.06641603,\n",
        "        0.23398864,  1.4930656 ,  3.90965533,  1.95264435,  2.67697024,\n",
        "        0.48023015,  1.3046335 ,  1.79551697,  3.27633905,  3.07828975,\n",
        "        3.57523727])"
       ]
      }
     ],
     "prompt_number": 65
    },
    {
     "cell_type": "code",
     "collapsed": false,
     "input": [],
     "language": "python",
     "metadata": {},
     "outputs": [],
     "prompt_number": 65
    }
   ],
   "metadata": {}
  }
 ]
}