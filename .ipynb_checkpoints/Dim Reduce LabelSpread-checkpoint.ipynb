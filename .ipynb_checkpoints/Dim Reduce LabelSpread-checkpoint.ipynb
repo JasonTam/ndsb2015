{
 "metadata": {
  "name": "",
  "signature": "sha256:68ef7220eaaa61fb7fe9a4a74ee96a815b68d49240bc56baf9d3f1c5a103d39e"
 },
 "nbformat": 3,
 "nbformat_minor": 0,
 "worksheets": [
  {
   "cells": [
    {
     "cell_type": "code",
     "collapsed": false,
     "input": [
      "import bhtsne\n",
      "import h5py\n",
      "\n",
      "import numpy as np\n",
      "import pickle\n",
      "from time import time\n",
      "import matplotlib.pyplot as plt\n",
      "%matplotlib inline\n"
     ],
     "language": "python",
     "metadata": {},
     "outputs": [],
     "prompt_number": 1
    },
    {
     "cell_type": "code",
     "collapsed": false,
     "input": [
      "train_lbls = np.load('/media/raid_arr/data/ndsb/train_lbls.npy')\n",
      "test_lbls = np.load('/media/raid_arr/data/ndsb/test_lbls.npy')\n",
      "\n",
      "x2_concat = np.load('/media/raid_arr/data/ndsb/tsne2.npy')\n",
      "x2_train = x2_concat[:len(train_lbls), :]\n",
      "x2_test = x2_concat[-len(test_lbls):, :]\n",
      "\n",
      "concat_lbls = np.r_[train_lbls, test_lbls]"
     ],
     "language": "python",
     "metadata": {},
     "outputs": [],
     "prompt_number": 3
    },
    {
     "cell_type": "code",
     "collapsed": false,
     "input": [
      "from sklearn.semi_supervised import LabelPropagation\n",
      "from sklearn.semi_supervised import LabelSpreading\n",
      "\n",
      "clf = LabelPropagation()"
     ],
     "language": "python",
     "metadata": {},
     "outputs": [],
     "prompt_number": 4
    },
    {
     "cell_type": "code",
     "collapsed": false,
     "input": [
      "# Fitting\n",
      "samp = np.arange(0, len(x2_concat)-1,10)\n",
      "\n",
      "x2_sub = x2_concat[samp, :]\n",
      "lbls_sub = concat_lbls[samp]\n",
      "\n",
      "tic = time()\n",
      "clf.fit(x2_sub, lbls_sub)\n",
      "toc = time() - tic\n",
      "print toc"
     ],
     "language": "python",
     "metadata": {},
     "outputs": [
      {
       "output_type": "stream",
       "stream": "stdout",
       "text": [
        "33.9992959499\n"
       ]
      }
     ],
     "prompt_number": 11
    },
    {
     "cell_type": "code",
     "collapsed": false,
     "input": [
      "np.arange(0, len(x2_concat)-1,10).shape"
     ],
     "language": "python",
     "metadata": {},
     "outputs": [
      {
       "metadata": {},
       "output_type": "pyout",
       "prompt_number": 13,
       "text": [
        "(16074,)"
       ]
      }
     ],
     "prompt_number": 13
    }
   ],
   "metadata": {}
  }
 ]
}