{
 "metadata": {
  "name": "",
  "signature": "sha256:d71aae3ac3d8df9335026ec0ac97942de8d8d4deaee1c2170e7c9366f5cee584"
 },
 "nbformat": 3,
 "nbformat_minor": 0,
 "worksheets": []
}