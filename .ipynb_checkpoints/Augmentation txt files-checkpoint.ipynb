{
 "metadata": {
  "name": "",
  "signature": "sha256:a836f9091303e673e4045ffe10f6572c1bffdd1cbc1c53111dfb8d2231e03770"
 },
 "nbformat": 3,
 "nbformat_minor": 0,
 "worksheets": [
  {
   "cells": [
    {
     "cell_type": "code",
     "collapsed": false,
     "input": [
      "# Augmented training data\n",
      "# Just augment the folds\n",
      "import numpy as np\n",
      "import os\n",
      "\n",
      "# for mode in ['test', 'train']:\n",
      "for mode in ['train']:\n",
      "#     for n in range(5):\n",
      "    for n in ['_all']:\n",
      "        # text_file = 'test0.txt'\n",
      "        text_file = mode + str(n) + '.txt'\n",
      "        print 'Converting:', text_file\n",
      "        \n",
      "        f_path = os.path.join('./data', text_file)\n",
      "        aug_train_path = '../../data/ndsb/augment/train'\n",
      "        save_path = os.path.join('./data/augmented', text_file)\n",
      "#         save_path = os.path.join('./data/augmented', 'unlabeled' + text_file)\n",
      "        angs = range(0, 360, 45) \n",
      "        suffixes = np.array(['_rot' + str(ang) for ang in angs])\n",
      "\n",
      "        arr = np.loadtxt(f_path, dtype=str, delimiter='\\t')\n",
      "\n",
      "        # Could do some weird thing with meshgrid, but I am too tired\n",
      "        with open(save_path, 'wb') as f_save:\n",
      "            for ii, (entry, label) in enumerate(arr):\n",
      "                d, b = os.path.split(entry)\n",
      "                l_str = os.path.basename(d)\n",
      "                b = os.path.splitext(b)[0]\n",
      "                for suf in suffixes:\n",
      "                    new_path = os.path.abspath(os.path.join(aug_train_path, l_str, b + suf + '.jpg'))\n",
      "                    line = new_path + '\\t' + label + '\\n'\n",
      "#                     line = new_path + '\\t' + '-1' + '\\n'\n",
      "                    f_save.write(line)\n",
      "\n",
      "                if (ii%1000 == 0):\n",
      "                    print ii, 'written'\n",
      "\n"
     ],
     "language": "python",
     "metadata": {},
     "outputs": [
      {
       "output_type": "stream",
       "stream": "stdout",
       "text": [
        "Converting: train_all.txt\n",
        "0"
       ]
      },
      {
       "output_type": "stream",
       "stream": "stdout",
       "text": [
        " written\n",
        "1000"
       ]
      },
      {
       "output_type": "stream",
       "stream": "stdout",
       "text": [
        " written\n",
        "2000"
       ]
      },
      {
       "output_type": "stream",
       "stream": "stdout",
       "text": [
        " written\n",
        "3000"
       ]
      },
      {
       "output_type": "stream",
       "stream": "stdout",
       "text": [
        " written\n",
        "4000"
       ]
      },
      {
       "output_type": "stream",
       "stream": "stdout",
       "text": [
        " written\n",
        "5000"
       ]
      },
      {
       "output_type": "stream",
       "stream": "stdout",
       "text": [
        " written\n",
        "6000"
       ]
      },
      {
       "output_type": "stream",
       "stream": "stdout",
       "text": [
        " written\n",
        "7000"
       ]
      },
      {
       "output_type": "stream",
       "stream": "stdout",
       "text": [
        " written\n",
        "8000"
       ]
      },
      {
       "output_type": "stream",
       "stream": "stdout",
       "text": [
        " written\n",
        "9000"
       ]
      },
      {
       "output_type": "stream",
       "stream": "stdout",
       "text": [
        " written\n",
        "10000"
       ]
      },
      {
       "output_type": "stream",
       "stream": "stdout",
       "text": [
        " written\n",
        "11000"
       ]
      },
      {
       "output_type": "stream",
       "stream": "stdout",
       "text": [
        " written\n",
        "12000"
       ]
      },
      {
       "output_type": "stream",
       "stream": "stdout",
       "text": [
        " written\n",
        "13000"
       ]
      },
      {
       "output_type": "stream",
       "stream": "stdout",
       "text": [
        " written\n",
        "14000"
       ]
      },
      {
       "output_type": "stream",
       "stream": "stdout",
       "text": [
        " written\n",
        "15000"
       ]
      },
      {
       "output_type": "stream",
       "stream": "stdout",
       "text": [
        " written\n",
        "16000"
       ]
      },
      {
       "output_type": "stream",
       "stream": "stdout",
       "text": [
        " written\n",
        "17000"
       ]
      },
      {
       "output_type": "stream",
       "stream": "stdout",
       "text": [
        " written\n",
        "18000"
       ]
      },
      {
       "output_type": "stream",
       "stream": "stdout",
       "text": [
        " written\n",
        "19000"
       ]
      },
      {
       "output_type": "stream",
       "stream": "stdout",
       "text": [
        " written\n",
        "20000"
       ]
      },
      {
       "output_type": "stream",
       "stream": "stdout",
       "text": [
        " written\n",
        "21000"
       ]
      },
      {
       "output_type": "stream",
       "stream": "stdout",
       "text": [
        " written\n",
        "22000"
       ]
      },
      {
       "output_type": "stream",
       "stream": "stdout",
       "text": [
        " written\n",
        "23000"
       ]
      },
      {
       "output_type": "stream",
       "stream": "stdout",
       "text": [
        " written\n",
        "24000"
       ]
      },
      {
       "output_type": "stream",
       "stream": "stdout",
       "text": [
        " written\n",
        "25000"
       ]
      },
      {
       "output_type": "stream",
       "stream": "stdout",
       "text": [
        " written\n",
        "26000"
       ]
      },
      {
       "output_type": "stream",
       "stream": "stdout",
       "text": [
        " written\n",
        "27000"
       ]
      },
      {
       "output_type": "stream",
       "stream": "stdout",
       "text": [
        " written\n",
        "28000"
       ]
      },
      {
       "output_type": "stream",
       "stream": "stdout",
       "text": [
        " written\n",
        "29000"
       ]
      },
      {
       "output_type": "stream",
       "stream": "stdout",
       "text": [
        " written\n",
        "30000"
       ]
      },
      {
       "output_type": "stream",
       "stream": "stdout",
       "text": [
        " written\n"
       ]
      }
     ],
     "prompt_number": 10
    },
    {
     "cell_type": "code",
     "collapsed": false,
     "input": [
      "os.path.basename(d)"
     ],
     "language": "python",
     "metadata": {},
     "outputs": [
      {
       "metadata": {},
       "output_type": "pyout",
       "prompt_number": 39,
       "text": [
        "'unknown_unclassified'"
       ]
      }
     ],
     "prompt_number": 39
    },
    {
     "cell_type": "code",
     "collapsed": false,
     "input": [
      "import numpy as np\n",
      "import os\n",
      "import glob\n",
      "\n",
      "aug_test_path = '/data/ndsb/augment/test'\n",
      "orig_test_path = '/data/ndsb/test'\n",
      "save_path = os.path.join('/data/ndsb/augment/test_aug.txt')\n",
      "if 1:\n",
      "    files_aug = [os.path.abspath(f) for f in glob.glob(os.path.join(aug_test_path, '*', '*.jpg'))]\n",
      "    files_orig = [os.path.abspath(f) for f in glob.glob(os.path.join(orig_test_path, '*.jpg'))]\n",
      "    files_all = np.r_[files_aug, files_orig]\n",
      "    y = -np.ones(len(files_all), dtype=int)\n",
      "    np.savetxt(save_path, np.c_[files_all, y], fmt='%s', delimiter='\\t')\n",
      "    \n",
      "    print save_path, 'saved'\n",
      "    \n",
      "    \n",
      "    \n",
      "    "
     ],
     "language": "python",
     "metadata": {},
     "outputs": [
      {
       "output_type": "stream",
       "stream": "stdout",
       "text": [
        "/data/ndsb/augment/test/test_aug.txt saved\n"
       ]
      }
     ],
     "prompt_number": 2
    },
    {
     "cell_type": "code",
     "collapsed": false,
     "input": [
      "print len(files_aug)\n",
      "print len(files_orig)\n",
      "print len(files_all)"
     ],
     "language": "python",
     "metadata": {},
     "outputs": [
      {
       "output_type": "stream",
       "stream": "stdout",
       "text": [
        "451045\n",
        "64435\n",
        "515480\n"
       ]
      }
     ],
     "prompt_number": 7
    }
   ],
   "metadata": {}
  }
 ]
}