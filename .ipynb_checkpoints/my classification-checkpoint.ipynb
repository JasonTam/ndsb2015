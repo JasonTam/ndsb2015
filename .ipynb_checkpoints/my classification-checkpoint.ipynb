{
 "metadata": {
  "description": "Use the pre-trained ImageNet model to classify images with the Python interface.",
  "example_name": "ImageNet classification",
  "include_in_docs": true,
  "priority": 1,
  "signature": "sha256:f7bd1ab138c7e7eebc9e84cf799910d630a4738516abc751f0e8c11868748291"
 },
 "nbformat": 3,
 "nbformat_minor": 0,
 "worksheets": [
  {
   "cells": [
    {
     "cell_type": "markdown",
     "metadata": {},
     "source": [
      "- Should change conv layer inputs from 256 to 64\n",
      "- change output layer of nn from 1k to the # of classes (120)"
     ]
    },
    {
     "cell_type": "markdown",
     "metadata": {},
     "source": [
      "Classifying ImageNet: the instant Caffe way\n",
      "===========================================\n",
      "\n",
      "Caffe provides a general Python interface for models with `caffe.Net` in `python/caffe/pycaffe.py`, but to make off-the-shelf classification easy we provide a `caffe.Classifier` class and `classify.py` script. Both Python and MATLAB wrappers are provided. However, the Python wrapper has more features so we will describe it here. For MATLAB, refer to `matlab/caffe/matcaffe_demo.m`.\n",
      "\n",
      "Before we begin, you must compile Caffe and install the python wrapper by setting your `PYTHONPATH`. If you haven't yet done so, please refer to the [installation instructions](installation.html). This example uses our pre-trained CaffeNet model, an ILSVRC12 image classifier. You can download it by running `./scripts/download_model_binary.py models/bvlc_reference_caffenet`.\n",
      "\n",
      "Ready? Let's start."
     ]
    },
    {
     "cell_type": "code",
     "collapsed": false,
     "input": [
      "import numpy as np\n",
      "import matplotlib.pyplot as plt\n",
      "%matplotlib inline\n",
      "\n",
      "# Make sure that caffe is on the python path:\n",
      "caffe_root = '/afs/ee.cooper.edu/user/t/a/tam8/documents/caffe/'  # this file is expected to be in {caffe_root}/examples\n",
      "import sys\n",
      "sys.path.insert(0, caffe_root + 'python')\n",
      "\n",
      "import caffe\n",
      "\n",
      "# Set the right path to your model definition file, pretrained model weights,\n",
      "# and the image you would like to classify.\n",
      "MODEL_FILE = './deploy.prototxt'\n",
      "PRETRAINED = './models/caffenet_train_iter_5000.caffemodel'\n",
      "IMAGE_FILE = '/afs/ee.cooper.edu/user/t/a/tam8/data/ndsb/train/acantharia_protist/100224.jpg'"
     ],
     "language": "python",
     "metadata": {},
     "outputs": [],
     "prompt_number": 2
    },
    {
     "cell_type": "markdown",
     "metadata": {},
     "source": [
      "Loading a network is easy. `caffe.Classifier` takes care of everything. Note the arguments for configuring input preprocessing: mean subtraction switched on by giving a mean array, input channel swapping takes care of mapping RGB into the reference ImageNet model's BGR order, and raw scaling multiplies the feature scale from the input [0,1] to the ImageNet model's [0,255].\n",
      "\n",
      "We will set the phase to test since we are doing testing, and will first use CPU for the computation."
     ]
    },
    {
     "cell_type": "code",
     "collapsed": false,
     "input": [
      "caffe.set_phase_test()\n",
      "caffe.set_mode_cpu()\n",
      "net = caffe.Classifier(MODEL_FILE, PRETRAINED,\n",
      "#                        mean=np.load(caffe_root + 'python/caffe/imagenet/ilsvrc_2012_mean.npy'),\n",
      "#                        channel_swap=(2,1,0),\n",
      "#                        raw_scale=255,\n",
      "                       image_dims=(64, 64))"
     ],
     "language": "python",
     "metadata": {},
     "outputs": [],
     "prompt_number": 3
    },
    {
     "cell_type": "markdown",
     "metadata": {},
     "source": [
      "Let's take a look at our example image with Caffe's image loading helper."
     ]
    },
    {
     "cell_type": "code",
     "collapsed": false,
     "input": [
      "input_image = caffe.io.load_image(IMAGE_FILE)\n",
      "plt.imshow(input_image)"
     ],
     "language": "python",
     "metadata": {},
     "outputs": [
      {
       "metadata": {},
       "output_type": "pyout",
       "prompt_number": 4,
       "text": [
        "<matplotlib.image.AxesImage at 0x7f3813fdb6d0>"
       ]
      },
      {
       "metadata": {},
       "output_type": "display_data",
       "png": "[encoded data removed]",
       "text": [
        "<matplotlib.figure.Figure at 0x7f3865c3a7d0>"
       ]
      }
     ],
     "prompt_number": 4
    },
    {
     "cell_type": "markdown",
     "metadata": {},
     "source": [
      "Time to classify. The default is to actually do 10 predictions, cropping the center and corners of the image as well as their mirrored versions, and average over the predictions:"
     ]
    },
    {
     "cell_type": "code",
     "collapsed": false,
     "input": [
      "prediction = net.predict([input_image])  # predict takes any number of images, and formats them for the Caffe net automatically\n",
      "print 'prediction shape:', prediction[0].shape\n",
      "plt.plot(prediction[0])\n",
      "print 'predicted class:', prediction[0].argmax()"
     ],
     "language": "python",
     "metadata": {},
     "outputs": [
      {
       "output_type": "stream",
       "stream": "stdout",
       "text": [
        "prediction shape: (1000,)\n",
        "predicted class:"
       ]
      },
      {
       "output_type": "stream",
       "stream": "stdout",
       "text": [
        " 8\n"
       ]
      },
      {
       "metadata": {},
       "output_type": "display_data",
       "png": "[encoded data removed]",
       "text": [
        "<matplotlib.figure.Figure at 0x7f3813f64690>"
       ]
      }
     ],
     "prompt_number": 5
    },
    {
     "cell_type": "markdown",
     "metadata": {},
     "source": [
      "You can see that the prediction is 1000-dimensional, and is pretty sparse.\n",
      "\n",
      "The predicted class 281 is \"Tabby cat.\" Our pretrained model uses the synset ID ordering of the classes, as listed in `../data/ilsvrc12/synset_words.txt` if you fetch the auxiliary imagenet data by `../data/ilsvrc12/get_ilsvrc_aux.sh`. If you look at the top indices that maximize the prediction score, they are cats, foxes, and other cute mammals. Not unreasonable predictions, right?\n",
      "\n",
      "Now let's classify by the center crop alone by turning off oversampling. Note that this makes a single input, although if you inspect the model definition prototxt you'll see the network has a batch size of 10. The python wrapper handles batching and padding for you!"
     ]
    },
    {
     "cell_type": "code",
     "collapsed": false,
     "input": [
      "prediction = net.predict([input_image], oversample=False)\n",
      "print 'prediction shape:', prediction[0].shape\n",
      "plt.plot(prediction[0])\n",
      "print 'predicted class:', prediction[0].argmax()"
     ],
     "language": "python",
     "metadata": {},
     "outputs": [
      {
       "output_type": "stream",
       "stream": "stdout",
       "text": [
        "prediction shape: (1000,)\n",
        "predicted class: 281\n"
       ]
      },
      {
       "metadata": {},
       "output_type": "display_data",
       "png": "[encoded data removed]",
       "text": [
        "<matplotlib.figure.Figure at 0x7fda1abd8e10>"
       ]
      }
     ],
     "prompt_number": 5
    },
    {
     "cell_type": "markdown",
     "metadata": {},
     "source": [
      "\n",
      "\n",
      "Now, why don't we see how long it takes to perform the classification end to end? This result is run from an Intel i5 CPU, so you may observe some performance differences."
     ]
    },
    {
     "cell_type": "code",
     "collapsed": false,
     "input": [
      "%timeit net.predict([input_image])"
     ],
     "language": "python",
     "metadata": {},
     "outputs": [
      {
       "output_type": "stream",
       "stream": "stdout",
       "text": [
        "1 loops, best of 3: 355 ms per loop\n"
       ]
      }
     ],
     "prompt_number": 6
    },
    {
     "cell_type": "markdown",
     "metadata": {},
     "source": [
      "It may look a little slow, but note that time is spent on cropping, python interfacing, and running 10 images. For performance, if you really want to make prediction fast, you can optionally code in C++ and pipeline operations better. For experimenting and prototyping the current speed is fine.\n",
      "\n",
      "Let's time classifying a single image with input preprocessed:"
     ]
    },
    {
     "cell_type": "code",
     "collapsed": false,
     "input": [
      "# Resize the image to the standard (256, 256) and oversample net input sized crops.\n",
      "input_oversampled = caffe.io.oversample([caffe.io.resize_image(input_image, net.image_dims)], net.crop_dims)\n",
      "# 'data' is the input blob name in the model definition, so we preprocess for that input.\n",
      "caffe_input = np.asarray([net.preprocess('data', in_) for in_ in input_oversampled])\n",
      "# forward() takes keyword args for the input blobs with preprocessed input arrays.\n",
      "%timeit net.forward(data=caffe_input)"
     ],
     "language": "python",
     "metadata": {},
     "outputs": [
      {
       "output_type": "stream",
       "stream": "stdout",
       "text": [
        "1 loops, best of 3: 210 ms per loop\n"
       ]
      }
     ],
     "prompt_number": 7
    },
    {
     "cell_type": "markdown",
     "metadata": {},
     "source": [
      "OK, so how about GPU? it is actually pretty easy:"
     ]
    },
    {
     "cell_type": "code",
     "collapsed": false,
     "input": [
      "caffe.set_mode_gpu()"
     ],
     "language": "python",
     "metadata": {},
     "outputs": [],
     "prompt_number": 8
    },
    {
     "cell_type": "markdown",
     "metadata": {},
     "source": [
      "Voila! Now we are in GPU mode. Let's see if the code gives the same result:"
     ]
    },
    {
     "cell_type": "code",
     "collapsed": false,
     "input": [
      "prediction = net.predict([input_image])\n",
      "print 'prediction shape:', prediction[0].shape\n",
      "plt.plot(prediction[0])"
     ],
     "language": "python",
     "metadata": {},
     "outputs": [
      {
       "output_type": "stream",
       "stream": "stdout",
       "text": [
        "prediction shape: (1000,)\n"
       ]
      },
      {
       "metadata": {},
       "output_type": "pyout",
       "prompt_number": 9,
       "text": [
        "[<matplotlib.lines.Line2D at 0x7fda1ac309d0>]"
       ]
      },
      {
       "metadata": {},
       "output_type": "display_data",
       "png": "[encoded data removed]",
       "text": [
        "<matplotlib.figure.Figure at 0x7fda1ab53650>"
       ]
      }
     ],
     "prompt_number": 9
    },
    {
     "cell_type": "markdown",
     "metadata": {},
     "source": [
      "Good, everything is the same. And how about time consumption? The following benchmark is obtained on the same machine with a GTX 770 GPU:"
     ]
    },
    {
     "cell_type": "code",
     "collapsed": false,
     "input": [
      "# Full pipeline timing.\n",
      "%timeit net.predict([input_image])"
     ],
     "language": "python",
     "metadata": {},
     "outputs": [
      {
       "output_type": "stream",
       "stream": "stdout",
       "text": [
        "10 loops, best of 3: 174 ms per loop\n"
       ]
      }
     ],
     "prompt_number": 10
    },
    {
     "cell_type": "code",
     "collapsed": false,
     "input": [
      "# Forward pass timing.\n",
      "%timeit net.forward(data=caffe_input)"
     ],
     "language": "python",
     "metadata": {},
     "outputs": [
      {
       "output_type": "stream",
       "stream": "stdout",
       "text": [
        "10 loops, best of 3: 34.2 ms per loop\n"
       ]
      }
     ],
     "prompt_number": 11
    },
    {
     "cell_type": "markdown",
     "metadata": {},
     "source": [
      "Pretty fast right? Not as fast as you expected? Indeed, in this python demo you are seeing only 4 times speedup. But remember - the GPU code is actually very fast, and the data loading, transformation and interfacing actually start to take **more** time than the actual conv. net computation itself!\n",
      "\n",
      "To fully utilize the power of GPUs, you really want to:\n",
      "\n",
      "* Use larger batches, and minimize python call and data transfer overheads.\n",
      "* Pipeline data load operations, like using a subprocess.\n",
      "* Code in C++. A little inconvenient, but maybe worth it if your dataset is really, really large."
     ]
    },
    {
     "cell_type": "markdown",
     "metadata": {},
     "source": [
      "Parting Words\n",
      "-------------\n",
      "\n",
      "So this is python! We hope the interface is easy enough for one to use. The python wrapper is interfaced with boost::python, and source code can be found at `python/caffe` with the main interface in `pycaffe.py` and the classification wrapper in `classifier.py`. If you have customizations to make, start there! Do let us know if you make improvements by sending a pull request!"
     ]
    }
   ],
   "metadata": {}
  }
 ]
}