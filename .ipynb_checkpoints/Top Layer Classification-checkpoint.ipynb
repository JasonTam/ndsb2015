{
 "metadata": {
  "name": "",
  "signature": "sha256:9cb0559676f579d08677f3ce7eabab8b2fad137dc82efadd4ad32e4e27ccb25d"
 },
 "nbformat": 3,
 "nbformat_minor": 0,
 "worksheets": [
  {
   "cells": [
    {
     "cell_type": "code",
     "collapsed": false,
     "input": [
      "import numpy as np\n",
      "import h5py\n",
      "import pickle\n",
      "\n",
      "FEAT_TRAIN = '/media/raid_arr/data/ndsb/features/features_train.hdf5'\n",
      "# FEAT_TRAIN = '~/data/ndsb/features/features_train.hdf5'\n",
      "FEAT_TEST = '/media/raid_arr/data/ndsb/features/features_test.hdf5'\n",
      "\n",
      "LAYER = 'fc2'\n",
      "MODE = ['train', 'predict']"
     ],
     "language": "python",
     "metadata": {},
     "outputs": [],
     "prompt_number": 1
    },
    {
     "cell_type": "code",
     "collapsed": false,
     "input": [
      "# f_train.close()\n",
      "f_train = h5py.File(FEAT_TRAIN, 'r')\n",
      "f_test = h5py.File(FEAT_TEST, 'r')\n"
     ],
     "language": "python",
     "metadata": {},
     "outputs": [],
     "prompt_number": 2
    },
    {
     "cell_type": "code",
     "collapsed": false,
     "input": [
      "f_test.keys()"
     ],
     "language": "python",
     "metadata": {},
     "outputs": [
      {
       "metadata": {},
       "output_type": "pyout",
       "prompt_number": 15,
       "text": [
        "[u'fc1', u'fc2', u'im_paths', u'lbls']"
       ]
      }
     ],
     "prompt_number": 15
    },
    {
     "cell_type": "code",
     "collapsed": false,
     "input": [
      "train_feats_db = f_train[LAYER]\n",
      "train_lbls_db = f_train['lbls']\n",
      "\n",
      "test_feats_db = f_test[LAYER]\n",
      "test_lbls_db = f_test['lbls']\n",
      "test_paths_db = f_test['im_paths']"
     ],
     "language": "python",
     "metadata": {},
     "outputs": [],
     "prompt_number": 3
    },
    {
     "cell_type": "code",
     "collapsed": false,
     "input": [
      "from sklearn import cross_validation\n",
      "from sklearn import svm\n",
      "from sklearn.ensemble import GradientBoostingClassifier\n",
      "from sklearn.neighbors import KNeighborsClassifier\n",
      "from sklearn.svm import SVC\n",
      "from sklearn.tree import DecisionTreeClassifier\n",
      "from sklearn.ensemble import RandomForestClassifier, AdaBoostClassifier, ExtraTreesClassifier\n",
      "from sklearn.naive_bayes import GaussianNB\n",
      "from sklearn.lda import LDA\n",
      "from sklearn.qda import QDA\n",
      "from sklearn.semi_supervised import LabelSpreading\n",
      "from sklearn.semi_supervised import LabelPropagation\n",
      "\n",
      "import time\n",
      "\n",
      "\n",
      "\n"
     ],
     "language": "python",
     "metadata": {},
     "outputs": [],
     "prompt_number": 4
    },
    {
     "cell_type": "code",
     "collapsed": false,
     "input": [
      "train_feats = train_feats_db[()]\n",
      "test_feats = test_feats_db[()]\n",
      "train_lbls = train_lbls_db[()]\n",
      "test_lbls = test_lbls_db[()]\n"
     ],
     "language": "python",
     "metadata": {},
     "outputs": [],
     "prompt_number": 5
    },
    {
     "cell_type": "code",
     "collapsed": false,
     "input": [
      "test_feats[:30000,:].shape"
     ],
     "language": "python",
     "metadata": {},
     "outputs": [
      {
       "metadata": {},
       "output_type": "pyout",
       "prompt_number": 7,
       "text": [
        "(30000, 2048)"
       ]
      }
     ],
     "prompt_number": 7
    },
    {
     "cell_type": "code",
     "collapsed": false,
     "input": [
      "if 'train' in MODE:\n",
      "    # clf = svm.LinearSVC()\n",
      "#     clf = svm.SVC(probability=True) #0.82\n",
      "#     clf = GaussianNB()\n",
      "#     clf = RandomForestClassifier(n_jobs=-1)\n",
      "#     clf = GradientBoostingClassifier()\n",
      "#     clf = ExtraTreesClassifier(n_jobs=-1) #0.78\n",
      "#     clf = KNeighborsClassifier()  #0.78\n",
      "#     clf = QDA()  # 0.79\n",
      "    clf = LabelSpreading()\n",
      "    clf_name = str(clf).split('(')[0]\n",
      "    \n",
      "    \n",
      "    tic = time.time()\n",
      "#     scores = cross_validation.cross_val_score(\n",
      "#         clf, train_feats, train_lbls_db, \n",
      "#         cv=5, n_jobs=-1, scoring='log_loss')\n",
      "    \n",
      "    scores = cross_validation.cross_val_score(clf, \n",
      "            np.r_[train_feats, test_feats[:10000,:]], \n",
      "            np.r_[train_lbls, test_lbls[:10000]], \n",
      "            scoring='log_loss', cv=5, n_jobs=-1)\n",
      "    \n",
      "    \n",
      "    \n",
      "#     clf.fit(train_feats_db, train_lbls_db)\n",
      "#     clf.fit(train_feats, train_lbls_db)\n",
      "#     clf.fit(np.r_[train_feats, test_feats[:30000,:]], \n",
      "#             np.r_[train_lbls, test_lbls[:30000]])\n",
      "#     pickle.dump(clf, open('/media/raid_arr/data/ndsb/classifiers/' + clf_name + '_fc2.p', 'wb'))\n",
      "    \n",
      "    print 'Done:', time.time() - tic, 'seconds'\n",
      "    print scores\n",
      "    # scores              "
     ],
     "language": "python",
     "metadata": {},
     "outputs": []
    },
    {
     "cell_type": "code",
     "collapsed": false,
     "input": [
      "print scores"
     ],
     "language": "python",
     "metadata": {},
     "outputs": []
    },
    {
     "cell_type": "code",
     "collapsed": false,
     "input": [
      "if 'predict'in MODE:\n",
      "    tic = time.time()\n",
      "#     pred = clf.predict_proba(test_feats_db)\n",
      "    pred = clf.predict_proba(test_feats)\n",
      "    print 'Prediction done in:', time.time() - tic\n",
      "    pickle.dump(pred, open('/media/raid_arr/data/ndsb/svc_fc2_pred.p', 'wb'))"
     ],
     "language": "python",
     "metadata": {},
     "outputs": [
      {
       "ename": "AttributeError",
       "evalue": "'ExtraTreesClassifier' object has no attribute 'n_classes_'",
       "output_type": "pyerr",
       "traceback": [
        "\u001b[1;31m---------------------------------------------------------------------------\u001b[0m\n\u001b[1;31mAttributeError\u001b[0m                            Traceback (most recent call last)",
        "\u001b[1;32m<ipython-input-8-78715e57bc0b>\u001b[0m in \u001b[0;36m<module>\u001b[1;34m()\u001b[0m\n\u001b[0;32m      2\u001b[0m     \u001b[0mtic\u001b[0m \u001b[1;33m=\u001b[0m \u001b[0mtime\u001b[0m\u001b[1;33m.\u001b[0m\u001b[0mtime\u001b[0m\u001b[1;33m(\u001b[0m\u001b[1;33m)\u001b[0m\u001b[1;33m\u001b[0m\u001b[0m\n\u001b[0;32m      3\u001b[0m \u001b[1;31m#     pred = clf.predict_proba(test_feats_db)\u001b[0m\u001b[1;33m\u001b[0m\u001b[1;33m\u001b[0m\u001b[0m\n\u001b[1;32m----> 4\u001b[1;33m     \u001b[0mpred\u001b[0m \u001b[1;33m=\u001b[0m \u001b[0mclf\u001b[0m\u001b[1;33m.\u001b[0m\u001b[0mpredict_proba\u001b[0m\u001b[1;33m(\u001b[0m\u001b[0mtest_feats\u001b[0m\u001b[1;33m)\u001b[0m\u001b[1;33m\u001b[0m\u001b[0m\n\u001b[0m\u001b[0;32m      5\u001b[0m     \u001b[1;32mprint\u001b[0m \u001b[1;34m'Prediction done in:'\u001b[0m\u001b[1;33m,\u001b[0m \u001b[0mtime\u001b[0m\u001b[1;33m.\u001b[0m\u001b[0mtime\u001b[0m\u001b[1;33m(\u001b[0m\u001b[1;33m)\u001b[0m \u001b[1;33m-\u001b[0m \u001b[0mtic\u001b[0m\u001b[1;33m\u001b[0m\u001b[0m\n\u001b[0;32m      6\u001b[0m     \u001b[0mpickle\u001b[0m\u001b[1;33m.\u001b[0m\u001b[0mdump\u001b[0m\u001b[1;33m(\u001b[0m\u001b[0mpred\u001b[0m\u001b[1;33m,\u001b[0m \u001b[0mopen\u001b[0m\u001b[1;33m(\u001b[0m\u001b[1;34m'/media/raid_arr/data/ndsb/svc_fc2_pred.p'\u001b[0m\u001b[1;33m,\u001b[0m \u001b[1;34m'wb'\u001b[0m\u001b[1;33m)\u001b[0m\u001b[1;33m)\u001b[0m\u001b[1;33m\u001b[0m\u001b[0m\n",
        "\u001b[1;32m/usr/lib/python2.7/site-packages/sklearn/ensemble/forest.pyc\u001b[0m in \u001b[0;36mpredict_proba\u001b[1;34m(self, X)\u001b[0m\n\u001b[0;32m    466\u001b[0m                 \u001b[0mself\u001b[0m\u001b[1;33m.\u001b[0m\u001b[0mn_classes_\u001b[0m\u001b[1;33m,\u001b[0m\u001b[1;33m\u001b[0m\u001b[0m\n\u001b[0;32m    467\u001b[0m                 self.n_outputs_)\n\u001b[1;32m--> 468\u001b[1;33m             for i in range(n_jobs))\n\u001b[0m\u001b[0;32m    469\u001b[0m \u001b[1;33m\u001b[0m\u001b[0m\n\u001b[0;32m    470\u001b[0m         \u001b[1;31m# Reduce\u001b[0m\u001b[1;33m\u001b[0m\u001b[1;33m\u001b[0m\u001b[0m\n",
        "\u001b[1;32m/usr/lib/python2.7/site-packages/sklearn/externals/joblib/parallel.pyc\u001b[0m in \u001b[0;36m__call__\u001b[1;34m(self, iterable)\u001b[0m\n\u001b[0;32m    650\u001b[0m                 \u001b[0mos\u001b[0m\u001b[1;33m.\u001b[0m\u001b[0menviron\u001b[0m\u001b[1;33m[\u001b[0m\u001b[0mJOBLIB_SPAWNED_PROCESS\u001b[0m\u001b[1;33m]\u001b[0m \u001b[1;33m=\u001b[0m \u001b[1;34m'1'\u001b[0m\u001b[1;33m\u001b[0m\u001b[0m\n\u001b[0;32m    651\u001b[0m             \u001b[0mself\u001b[0m\u001b[1;33m.\u001b[0m\u001b[0m_iterating\u001b[0m \u001b[1;33m=\u001b[0m \u001b[0mTrue\u001b[0m\u001b[1;33m\u001b[0m\u001b[0m\n\u001b[1;32m--> 652\u001b[1;33m             \u001b[1;32mfor\u001b[0m \u001b[0mfunction\u001b[0m\u001b[1;33m,\u001b[0m \u001b[0margs\u001b[0m\u001b[1;33m,\u001b[0m \u001b[0mkwargs\u001b[0m \u001b[1;32min\u001b[0m \u001b[0miterable\u001b[0m\u001b[1;33m:\u001b[0m\u001b[1;33m\u001b[0m\u001b[0m\n\u001b[0m\u001b[0;32m    653\u001b[0m                 \u001b[0mself\u001b[0m\u001b[1;33m.\u001b[0m\u001b[0mdispatch\u001b[0m\u001b[1;33m(\u001b[0m\u001b[0mfunction\u001b[0m\u001b[1;33m,\u001b[0m \u001b[0margs\u001b[0m\u001b[1;33m,\u001b[0m \u001b[0mkwargs\u001b[0m\u001b[1;33m)\u001b[0m\u001b[1;33m\u001b[0m\u001b[0m\n\u001b[0;32m    654\u001b[0m \u001b[1;33m\u001b[0m\u001b[0m\n",
        "\u001b[1;32m/usr/lib/python2.7/site-packages/sklearn/ensemble/forest.pyc\u001b[0m in \u001b[0;36m<genexpr>\u001b[1;34m((i,))\u001b[0m\n\u001b[0;32m    466\u001b[0m                 \u001b[0mself\u001b[0m\u001b[1;33m.\u001b[0m\u001b[0mn_classes_\u001b[0m\u001b[1;33m,\u001b[0m\u001b[1;33m\u001b[0m\u001b[0m\n\u001b[0;32m    467\u001b[0m                 self.n_outputs_)\n\u001b[1;32m--> 468\u001b[1;33m             for i in range(n_jobs))\n\u001b[0m\u001b[0;32m    469\u001b[0m \u001b[1;33m\u001b[0m\u001b[0m\n\u001b[0;32m    470\u001b[0m         \u001b[1;31m# Reduce\u001b[0m\u001b[1;33m\u001b[0m\u001b[1;33m\u001b[0m\u001b[0m\n",
        "\u001b[1;31mAttributeError\u001b[0m: 'ExtraTreesClassifier' object has no attribute 'n_classes_'"
       ]
      }
     ],
     "prompt_number": 8
    },
    {
     "cell_type": "code",
     "collapsed": false,
     "input": [
      "if 'predict'in MODE:\n",
      "    # SUBMISSION CREATION\n",
      "    # test_files_all, images, labels = zip(*data)\n",
      "    import tools.submission as sub\n",
      "    f_name='SUBMISSION_PL_deep_56000_' + clf_name + '_fc2.csv'\n",
      "    sub.make_submission(test_paths_db, pred, f_name=f_name)\n",
      "\n",
      "    print 'Submission created:', f_name"
     ],
     "language": "python",
     "metadata": {},
     "outputs": []
    }
   ],
   "metadata": {}
  }
 ]
}