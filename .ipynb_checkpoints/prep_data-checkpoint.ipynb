{
 "metadata": {
  "name": "",
  "signature": "sha256:a71792621f5eddb7a27a9c67a7700060f608a5bf28f9d0f59333d248829200ea"
 },
 "nbformat": 3,
 "nbformat_minor": 0,
 "worksheets": [
  {
   "cells": [
    {
     "cell_type": "markdown",
     "metadata": {},
     "source": [
      "Prepares data for caffe\n",
      "Constructs stratified k=5 folds and shoves data into lmdb"
     ]
    },
    {
     "cell_type": "code",
     "collapsed": false,
     "input": [
      "import os\n",
      "import glob\n",
      "import numpy as np\n",
      "from sklearn.cross_validation import StratifiedKFold\n",
      "from sklearn.preprocessing import LabelEncoder\n",
      "import pickle\n",
      "\n",
      "mode = 'aug_train'\n",
      "# mode = 'test_final'\n"
     ],
     "language": "python",
     "metadata": {},
     "outputs": [],
     "prompt_number": 13
    },
    {
     "cell_type": "code",
     "collapsed": false,
     "input": [
      "# Grabbing all image paths and labels\n",
      "if mode == 'train_folds':\n",
      "    path_data = '../../data/ndsb/train'\n",
      "    labels = os.listdir(path_data)\n",
      "    le = LabelEncoder().fit(labels)\n",
      "    files_all = np.array([os.path.abspath(f) for f in glob.glob(os.path.join(path_data, '*', '*.jpg'))])\n",
      "    y_str = [os.path.basename(os.path.dirname(f)) for f in files_all]\n",
      "    y_enc = le.transform(y_str)\n",
      "    pickle.dump(le, open('./tools/le.p', 'wb'))"
     ],
     "language": "python",
     "metadata": {},
     "outputs": [],
     "prompt_number": 13
    },
    {
     "cell_type": "code",
     "collapsed": false,
     "input": [
      "# Create k=5 .txt files that specify train & test images for each fold\n",
      "if mode == 'train_folds':\n",
      "    k = 5\n",
      "    skf = StratifiedKFold(y_enc, n_folds=k)\n",
      "\n",
      "    save_fn = lambda name, f_mode, y_mode: np.savetxt(\n",
      "            os.path.join(path_save, str(name) + '.txt'), \n",
      "            np.c_[f_mode, y_mode], \n",
      "            fmt='%s', delimiter='\\t')\n",
      "\n",
      "    save_fn('train_all', files_all, y_enc)\n",
      "    for fold_ii, (train_ind, test_ind) in enumerate(skf):\n",
      "        f_train, f_test = files_all[train_ind], files_all[test_ind]\n",
      "        y_train, y_test = y_enc[train_ind], y_enc[test_ind]\n",
      "        save_fn('train' + str(fold_ii), f_train, y_train)\n",
      "        save_fn('test' + str(fold_ii) , f_test, y_test)\n",
      "    \n",
      "              "
     ],
     "language": "python",
     "metadata": {},
     "outputs": [],
     "prompt_number": 19
    },
    {
     "cell_type": "code",
     "collapsed": false,
     "input": [
      "if mode == 'test_final':\n",
      "#     path_data = '../../data/ndsb/test'\n",
      "    save_name = 'test-1.txt'\n",
      "    path_data = '/data/ndsb/test'\n",
      "    files_all = np.array([os.path.abspath(f) for f in glob.glob(os.path.join(path_data, '*.jpg'))])\n",
      "#     save_arr = files_all\n",
      "    save_arr = np.c_[files_all, -np.ones(len(files_all)).astype(int)]\n",
      "    np.savetxt(os.path.join(path_save, save_name), save_arr, fmt='%s')"
     ],
     "language": "python",
     "metadata": {},
     "outputs": [],
     "prompt_number": 7
    },
    {
     "cell_type": "code",
     "collapsed": false,
     "input": [
      "from tools.le import le\n",
      "if 'aug' in mode:\n",
      "    if mode == 'aug_train':\n",
      "        save_name = 'train_aug.txt'\n",
      "        path_data = '/data/ndsb/augment/train'\n",
      "    elif mode == 'aug_test':\n",
      "        save_name = 'test_aug.txt'\n",
      "        path_data = '/data/ndsb/augment/test'\n",
      "        \n",
      "    path_save = '/data/ndsb/augment'\n",
      "    files_all = np.array([os.path.abspath(f) for f in glob.glob(os.path.join(path_data, '*', '*.jpg'))])\n",
      "    \n",
      "    if mode == 'aug_train':\n",
      "        lbl_str = [os.path.split(os.path.split(f)[0])[1] for f in files_all]\n",
      "        lbl_n = le.transform(lbl_str)\n",
      "    elif mode == 'aug_test':\n",
      "        lbl_n = -np.ones(len(files_all)).astype(int)\n",
      "    save_arr = np.c_[files_all, lbl_n]\n",
      "    np.savetxt(os.path.join(path_save, save_name), save_arr, fmt='%s')\n",
      "    print os.path.join(path_save, save_name)"
     ],
     "language": "python",
     "metadata": {},
     "outputs": [
      {
       "output_type": "stream",
       "stream": "stdout",
       "text": [
        "/data/ndsb/augment/train_aug.txt\n"
       ]
      }
     ],
     "prompt_number": 17
    },
    {
     "cell_type": "code",
     "collapsed": false,
     "input": [
      "from tools.le import le\n",
      "le.transform('copepod_calanoid_eggs')"
     ],
     "language": "python",
     "metadata": {},
     "outputs": [
      {
       "metadata": {},
       "output_type": "pyout",
       "prompt_number": 16,
       "text": [
        "15"
       ]
      }
     ],
     "prompt_number": 16
    }
   ],
   "metadata": {}
  }
 ]
}