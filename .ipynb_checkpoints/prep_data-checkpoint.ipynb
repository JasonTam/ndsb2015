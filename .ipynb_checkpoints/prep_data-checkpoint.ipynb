{
 "metadata": {
  "name": "",
  "signature": "sha256:e284236eff01413dd1bb3d4b17dbd26c8506e2a1e6eff499acbdd2823e94c535"
 },
 "nbformat": 3,
 "nbformat_minor": 0,
 "worksheets": [
  {
   "cells": [
    {
     "cell_type": "markdown",
     "metadata": {},
     "source": [
      "Prepares data for caffe\n",
      "Constructs stratified k=5 folds and shoves data into lmdb"
     ]
    },
    {
     "cell_type": "code",
     "collapsed": false,
     "input": [
      "import os\n",
      "import glob\n",
      "import numpy as np\n",
      "from sklearn.cross_validation import StratifiedKFold\n",
      "from sklearn.preprocessing import LabelEncoder\n"
     ],
     "language": "python",
     "metadata": {},
     "outputs": [],
     "prompt_number": 18
    },
    {
     "cell_type": "code",
     "collapsed": false,
     "input": [
      "# Grabbing all image paths and labels\n",
      "path_data = '../../data/ndsb/train'\n",
      "labels = os.listdir(path_data)\n",
      "le = LabelEncoder().fit(labels)\n",
      "files_all = np.array([os.path.abspath(f) for f in glob.glob(os.path.join(path_data, '*', '*.jpg'))])\n",
      "y_str = [os.path.basename(os.path.dirname(f)) for f in files_all]\n",
      "y_enc = le.transform(y_str)"
     ],
     "language": "python",
     "metadata": {},
     "outputs": [
      {
       "metadata": {},
       "output_type": "pyout",
       "prompt_number": 67,
       "text": [
        "array([ '/afs/ee.cooper.edu/user/t/a/tam8/data/ndsb/train/acantharia_protist/100224.jpg',\n",
        "       '/afs/ee.cooper.edu/user/t/a/tam8/data/ndsb/train/acantharia_protist/100723.jpg',\n",
        "       '/afs/ee.cooper.edu/user/t/a/tam8/data/ndsb/train/acantharia_protist/101165.jpg',\n",
        "       ...,\n",
        "       '/afs/ee.cooper.edu/user/t/a/tam8/data/ndsb/train/unknown_unclassified/9909.jpg',\n",
        "       '/afs/ee.cooper.edu/user/t/a/tam8/data/ndsb/train/unknown_unclassified/99593.jpg',\n",
        "       '/afs/ee.cooper.edu/user/t/a/tam8/data/ndsb/train/unknown_unclassified/99703.jpg'], \n",
        "      dtype='|S105')"
       ]
      }
     ],
     "prompt_number": 67
    },
    {
     "cell_type": "code",
     "collapsed": false,
     "input": [
      "# Create k=5 .txt files that specify train & test images for each fold\n",
      "path_save = './data'\n",
      "k = 5\n",
      "skf = StratifiedKFold(y_enc, n_folds=k)\n",
      "\n",
      "save_fn = lambda name, f_mode, y_mode: np.savetxt(\n",
      "        os.path.join(path_save, str(name) + str(fold_ii) + '.txt'), \n",
      "        np.c_[f_mode, y_mode], \n",
      "        fmt='%s', delimiter='\\t')\n",
      "\n",
      "for fold_ii, (train_ind, test_ind) in enumerate(skf):\n",
      "    f_train, f_test = files_all[train_ind], files_all[test_ind]\n",
      "    y_train, y_test = y_enc[train_ind], y_enc[test_ind]\n",
      "    save_fn('train', f_train, y_train)\n",
      "    save_fn('test', f_test, y_test)\n",
      "    \n",
      "              "
     ],
     "language": "python",
     "metadata": {},
     "outputs": [],
     "prompt_number": 63
    },
    {
     "cell_type": "code",
     "collapsed": false,
     "input": [
      "ls"
     ],
     "language": "python",
     "metadata": {},
     "outputs": [
      {
       "output_type": "stream",
       "stream": "stdout",
       "text": [
        "\u001b[0m\u001b[01;34mdata\u001b[0m/  \u001b[01;34mfeature\u001b[0m/  LICENSE  prep_data.ipynb  README.md  Tut.ipynb\r\n"
       ]
      }
     ],
     "prompt_number": 40
    }
   ],
   "metadata": {}
  }
 ]
}