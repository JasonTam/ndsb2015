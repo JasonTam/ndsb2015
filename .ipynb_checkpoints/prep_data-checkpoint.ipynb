{
 "metadata": {
  "name": "",
  "signature": "sha256:faf909a0a72121e2de98d1725190c107bd216e86dd8b56ca3a09a06ff32ca44c"
 },
 "nbformat": 3,
 "nbformat_minor": 0,
 "worksheets": [
  {
   "cells": [
    {
     "cell_type": "markdown",
     "metadata": {},
     "source": [
      "Prepares data for caffe\n",
      "Constructs stratified k=5 folds and shoves data into lmdb"
     ]
    },
    {
     "cell_type": "code",
     "collapsed": false,
     "input": [
      "import os\n",
      "import glob\n",
      "import numpy as np\n",
      "from sklearn.cross_validation import StratifiedKFold\n",
      "from sklearn.preprocessing import LabelEncoder\n",
      "import pickle\n",
      "\n",
      "mode = 'test_final'\n",
      "# mode = 'test_final'\n",
      "\n",
      "path_save = './data'"
     ],
     "language": "python",
     "metadata": {},
     "outputs": [],
     "prompt_number": 3
    },
    {
     "cell_type": "code",
     "collapsed": false,
     "input": [
      "# Grabbing all image paths and labels\n",
      "if mode == 'train_folds':\n",
      "    path_data = '../../data/ndsb/train'\n",
      "    labels = os.listdir(path_data)\n",
      "    le = LabelEncoder().fit(labels)\n",
      "    files_all = np.array([os.path.abspath(f) for f in glob.glob(os.path.join(path_data, '*', '*.jpg'))])\n",
      "    y_str = [os.path.basename(os.path.dirname(f)) for f in files_all]\n",
      "    y_enc = le.transform(y_str)\n",
      "    pickle.dump(le, open('./tools/le.p', 'wb'))"
     ],
     "language": "python",
     "metadata": {},
     "outputs": [],
     "prompt_number": 13
    },
    {
     "cell_type": "code",
     "collapsed": false,
     "input": [
      "# Create k=5 .txt files that specify train & test images for each fold\n",
      "if mode == 'train_folds':\n",
      "    k = 5\n",
      "    skf = StratifiedKFold(y_enc, n_folds=k)\n",
      "\n",
      "    save_fn = lambda name, f_mode, y_mode: np.savetxt(\n",
      "            os.path.join(path_save, str(name) + '.txt'), \n",
      "            np.c_[f_mode, y_mode], \n",
      "            fmt='%s', delimiter='\\t')\n",
      "\n",
      "    save_fn('train_all', files_all, y_enc)\n",
      "    for fold_ii, (train_ind, test_ind) in enumerate(skf):\n",
      "        f_train, f_test = files_all[train_ind], files_all[test_ind]\n",
      "        y_train, y_test = y_enc[train_ind], y_enc[test_ind]\n",
      "        save_fn('train' + str(fold_ii), f_train, y_train)\n",
      "        save_fn('test' + str(fold_ii) , f_test, y_test)\n",
      "    \n",
      "              "
     ],
     "language": "python",
     "metadata": {},
     "outputs": [],
     "prompt_number": 19
    },
    {
     "cell_type": "code",
     "collapsed": false,
     "input": [
      "if mode == 'test_final':\n",
      "#     path_data = '../../data/ndsb/test'\n",
      "    save_name = 'test-1.txt'\n",
      "    path_data = '/data/ndsb/test'\n",
      "    files_all = np.array([os.path.abspath(f) for f in glob.glob(os.path.join(path_data, '*.jpg'))])\n",
      "#     save_arr = files_all\n",
      "    save_arr = np.c_[files_all, -1]\n",
      "    np.savetxt(os.path.join(path_save, save_name), save_arr, fmt='%s')"
     ],
     "language": "python",
     "metadata": {},
     "outputs": [],
     "prompt_number": 4
    }
   ],
   "metadata": {}
  }
 ]
}